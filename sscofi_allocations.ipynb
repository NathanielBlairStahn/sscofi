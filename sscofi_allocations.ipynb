{
 "cells": [
  {
   "cell_type": "markdown",
   "metadata": {},
   "source": [
    "# Add Flexibility to Calculation of Allocations\n",
    "\n",
    "Thu 13 Sep, 2018"
   ]
  },
  {
   "cell_type": "code",
   "execution_count": 1,
   "metadata": {
    "collapsed": true
   },
   "outputs": [],
   "source": [
    "import numpy as np\n",
    "import pandas as pd"
   ]
  },
  {
   "cell_type": "markdown",
   "metadata": {},
   "source": [
    "## Create DataFrames with test data"
   ]
  },
  {
   "cell_type": "code",
   "execution_count": 29,
   "metadata": {},
   "outputs": [
    {
     "data": {
      "text/html": [
       "<div>\n",
       "<style scoped>\n",
       "    .dataframe tbody tr th:only-of-type {\n",
       "        vertical-align: middle;\n",
       "    }\n",
       "\n",
       "    .dataframe tbody tr th {\n",
       "        vertical-align: top;\n",
       "    }\n",
       "\n",
       "    .dataframe thead th {\n",
       "        text-align: right;\n",
       "    }\n",
       "</style>\n",
       "<table border=\"1\" class=\"dataframe\">\n",
       "  <thead>\n",
       "    <tr style=\"text-align: right;\">\n",
       "      <th></th>\n",
       "      <th>member_id</th>\n",
       "      <th>name</th>\n",
       "      <th>membership</th>\n",
       "      <th>preferred</th>\n",
       "      <th>other</th>\n",
       "      <th>equity</th>\n",
       "    </tr>\n",
       "  </thead>\n",
       "  <tbody>\n",
       "    <tr>\n",
       "      <th>0</th>\n",
       "      <td>1</td>\n",
       "      <td>Alice</td>\n",
       "      <td>0</td>\n",
       "      <td>0</td>\n",
       "      <td>0</td>\n",
       "      <td>0</td>\n",
       "    </tr>\n",
       "    <tr>\n",
       "      <th>1</th>\n",
       "      <td>2</td>\n",
       "      <td>Bob</td>\n",
       "      <td>125</td>\n",
       "      <td>0</td>\n",
       "      <td>0</td>\n",
       "      <td>125</td>\n",
       "    </tr>\n",
       "    <tr>\n",
       "      <th>2</th>\n",
       "      <td>3</td>\n",
       "      <td>Candice</td>\n",
       "      <td>125</td>\n",
       "      <td>3000</td>\n",
       "      <td>200</td>\n",
       "      <td>3325</td>\n",
       "    </tr>\n",
       "    <tr>\n",
       "      <th>3</th>\n",
       "      <td>4</td>\n",
       "      <td>Darwin</td>\n",
       "      <td>0</td>\n",
       "      <td>0</td>\n",
       "      <td>0</td>\n",
       "      <td>0</td>\n",
       "    </tr>\n",
       "    <tr>\n",
       "      <th>4</th>\n",
       "      <td>5</td>\n",
       "      <td>Eve</td>\n",
       "      <td>125</td>\n",
       "      <td>1000</td>\n",
       "      <td>100</td>\n",
       "      <td>1225</td>\n",
       "    </tr>\n",
       "    <tr>\n",
       "      <th>5</th>\n",
       "      <td>6</td>\n",
       "      <td>Federico</td>\n",
       "      <td>125</td>\n",
       "      <td>0</td>\n",
       "      <td>700</td>\n",
       "      <td>825</td>\n",
       "    </tr>\n",
       "    <tr>\n",
       "      <th>6</th>\n",
       "      <td>7</td>\n",
       "      <td>Gabi</td>\n",
       "      <td>125</td>\n",
       "      <td>0</td>\n",
       "      <td>0</td>\n",
       "      <td>125</td>\n",
       "    </tr>\n",
       "    <tr>\n",
       "      <th>7</th>\n",
       "      <td>8</td>\n",
       "      <td>HAL</td>\n",
       "      <td>125</td>\n",
       "      <td>0</td>\n",
       "      <td>0</td>\n",
       "      <td>125</td>\n",
       "    </tr>\n",
       "    <tr>\n",
       "      <th>8</th>\n",
       "      <td>9</td>\n",
       "      <td>Irene</td>\n",
       "      <td>125</td>\n",
       "      <td>10000</td>\n",
       "      <td>0</td>\n",
       "      <td>10125</td>\n",
       "    </tr>\n",
       "    <tr>\n",
       "      <th>9</th>\n",
       "      <td>10</td>\n",
       "      <td>Jules</td>\n",
       "      <td>0</td>\n",
       "      <td>0</td>\n",
       "      <td>0</td>\n",
       "      <td>0</td>\n",
       "    </tr>\n",
       "  </tbody>\n",
       "</table>\n",
       "</div>"
      ],
      "text/plain": [
       "   member_id      name  membership  preferred  other  equity\n",
       "0          1     Alice           0          0      0       0\n",
       "1          2       Bob         125          0      0     125\n",
       "2          3   Candice         125       3000    200    3325\n",
       "3          4    Darwin           0          0      0       0\n",
       "4          5       Eve         125       1000    100    1225\n",
       "5          6  Federico         125          0    700     825\n",
       "6          7      Gabi         125          0      0     125\n",
       "7          8       HAL         125          0      0     125\n",
       "8          9     Irene         125      10000      0   10125\n",
       "9         10     Jules           0          0      0       0"
      ]
     },
     "execution_count": 29,
     "metadata": {},
     "output_type": "execute_result"
    }
   ],
   "source": [
    "#Note that in order fo the patronage calculations to work, this DataFrame needs to contain all members.\n",
    "prev_equity_df = pd.DataFrame([\n",
    "    [1, 'Alice', 0, 0, 0],\n",
    "    [2, 'Bob', 125, 0, 0],\n",
    "    [3, 'Candice', 125, 3000, 200],\n",
    "    [4, 'Darwin', 0, 0, 0],\n",
    "    [5, 'Eve', 125, 1000, 100],\n",
    "    [6, 'Federico', 125, 0, 700],\n",
    "    [7, 'Gabi', 125, 0, 0],\n",
    "    [8, 'HAL', 125, 0, 0],\n",
    "    [9, 'Irene', 125, 10000, 0],\n",
    "    [10, 'Jules', 0, 0, 0]\n",
    "], columns = ['member_id', 'name', 'membership', 'preferred', 'other'])\n",
    "prev_equity_df['equity'] = prev_equity_df['membership'] + prev_equity_df['preferred'] + prev_equity_df['other']\n",
    "prev_equity_df"
   ]
  },
  {
   "cell_type": "code",
   "execution_count": 30,
   "metadata": {},
   "outputs": [
    {
     "data": {
      "text/html": [
       "<div>\n",
       "<style scoped>\n",
       "    .dataframe tbody tr th:only-of-type {\n",
       "        vertical-align: middle;\n",
       "    }\n",
       "\n",
       "    .dataframe tbody tr th {\n",
       "        vertical-align: top;\n",
       "    }\n",
       "\n",
       "    .dataframe thead th {\n",
       "        text-align: right;\n",
       "    }\n",
       "</style>\n",
       "<table border=\"1\" class=\"dataframe\">\n",
       "  <thead>\n",
       "    <tr style=\"text-align: right;\">\n",
       "      <th></th>\n",
       "      <th>member_id</th>\n",
       "      <th>date</th>\n",
       "      <th>amount</th>\n",
       "      <th>type</th>\n",
       "    </tr>\n",
       "  </thead>\n",
       "  <tbody>\n",
       "    <tr>\n",
       "      <th>0</th>\n",
       "      <td>1</td>\n",
       "      <td>1/3/2017</td>\n",
       "      <td>125</td>\n",
       "      <td>membership</td>\n",
       "    </tr>\n",
       "    <tr>\n",
       "      <th>1</th>\n",
       "      <td>2</td>\n",
       "      <td>1/31/2017</td>\n",
       "      <td>400</td>\n",
       "      <td>other</td>\n",
       "    </tr>\n",
       "    <tr>\n",
       "      <th>2</th>\n",
       "      <td>1</td>\n",
       "      <td>2/20/2017</td>\n",
       "      <td>5000</td>\n",
       "      <td>preferred</td>\n",
       "    </tr>\n",
       "    <tr>\n",
       "      <th>3</th>\n",
       "      <td>3</td>\n",
       "      <td>3/15/2017</td>\n",
       "      <td>-2000</td>\n",
       "      <td>preferred</td>\n",
       "    </tr>\n",
       "    <tr>\n",
       "      <th>4</th>\n",
       "      <td>1</td>\n",
       "      <td>4/13/2017</td>\n",
       "      <td>500</td>\n",
       "      <td>other</td>\n",
       "    </tr>\n",
       "    <tr>\n",
       "      <th>5</th>\n",
       "      <td>2</td>\n",
       "      <td>4/13/2017</td>\n",
       "      <td>7500</td>\n",
       "      <td>preferred</td>\n",
       "    </tr>\n",
       "    <tr>\n",
       "      <th>6</th>\n",
       "      <td>4</td>\n",
       "      <td>6/24/2017</td>\n",
       "      <td>125</td>\n",
       "      <td>mebership</td>\n",
       "    </tr>\n",
       "    <tr>\n",
       "      <th>7</th>\n",
       "      <td>5</td>\n",
       "      <td>7/17/2017</td>\n",
       "      <td>3000</td>\n",
       "      <td>preferred</td>\n",
       "    </tr>\n",
       "    <tr>\n",
       "      <th>8</th>\n",
       "      <td>6</td>\n",
       "      <td>8/22/2017</td>\n",
       "      <td>-700</td>\n",
       "      <td>other</td>\n",
       "    </tr>\n",
       "    <tr>\n",
       "      <th>9</th>\n",
       "      <td>4</td>\n",
       "      <td>10/18/2017</td>\n",
       "      <td>20000</td>\n",
       "      <td>preferred</td>\n",
       "    </tr>\n",
       "    <tr>\n",
       "      <th>10</th>\n",
       "      <td>6</td>\n",
       "      <td>11/11/2017</td>\n",
       "      <td>1500</td>\n",
       "      <td>preferred</td>\n",
       "    </tr>\n",
       "    <tr>\n",
       "      <th>11</th>\n",
       "      <td>10</td>\n",
       "      <td>5/4/2017</td>\n",
       "      <td>125</td>\n",
       "      <td>membership</td>\n",
       "    </tr>\n",
       "  </tbody>\n",
       "</table>\n",
       "</div>"
      ],
      "text/plain": [
       "    member_id        date  amount        type\n",
       "0           1    1/3/2017     125  membership\n",
       "1           2   1/31/2017     400       other\n",
       "2           1   2/20/2017    5000   preferred\n",
       "3           3   3/15/2017   -2000   preferred\n",
       "4           1   4/13/2017     500       other\n",
       "5           2   4/13/2017    7500   preferred\n",
       "6           4   6/24/2017     125   mebership\n",
       "7           5   7/17/2017    3000   preferred\n",
       "8           6   8/22/2017    -700       other\n",
       "9           4  10/18/2017   20000   preferred\n",
       "10          6  11/11/2017    1500   preferred\n",
       "11         10    5/4/2017     125  membership"
      ]
     },
     "execution_count": 30,
     "metadata": {},
     "output_type": "execute_result"
    }
   ],
   "source": [
    "contributions_df = pd.DataFrame([\n",
    "    [1, \"1/3/2017\", 125, 'membership'],\n",
    "    [2, \"1/31/2017\", 400, 'other'],\n",
    "    [1, \"2/20/2017\", 5000, 'preferred'],\n",
    "    [3, \"3/15/2017\", -2000, 'preferred'],\n",
    "    [1, \"4/13/2017\", 500, 'other'],\n",
    "    [2, \"4/13/2017\", 7500, 'preferred'],\n",
    "    [4, \"6/24/2017\", 125, 'mebership'],\n",
    "    [5, \"7/17/2017\", 3000, \"preferred\"],\n",
    "    [6, \"8/22/2017\", -700, 'other'],\n",
    "    [4, \"10/18/2017\", 20000, 'preferred'],\n",
    "    [6, \"11/11/2017\", 1500, 'preferred'],\n",
    "    [10, \"5/4/2017\", 125, 'membership']\n",
    "], columns = ['member_id','date','amount','type'])\n",
    "contributions_df"
   ]
  },
  {
   "cell_type": "markdown",
   "metadata": {},
   "source": [
    "## Collect core functions from dividends notebook\n",
    "\n",
    "Change percents to proportions."
   ]
  },
  {
   "cell_type": "code",
   "execution_count": 32,
   "metadata": {
    "collapsed": true
   },
   "outputs": [],
   "source": [
    "def fraction_year_remaining(date):\n",
    "    \"\"\"Computes the fraction of the year remaining from a given date.\n",
    "    \"\"\"\n",
    "    date = pd.to_datetime(date)\n",
    "    offset = pd.tseries.offsets.YearBegin()\n",
    "    year = date - offset\n",
    "    next_year = date + offset\n",
    "    #print(offset, year, next_year)\n",
    "    return (next_year - date).days / (next_year - year).days\n",
    "\n",
    "def compute_transaction_patronage(contributions_df):\n",
    "    \"\"\"Compute patronage for each transaction based on amount and fraction of year remaining.\n",
    "    \"\"\"\n",
    "    contributions_df = contributions_df.copy()\n",
    "    patronage = contributions_df['amount']*contributions_df['date'].apply(fraction_year_remaining)\n",
    "    contributions_df['patronage'] = patronage\n",
    "    return contributions_df\n",
    "\n",
    "def compute_new_patronage(contributions_df):\n",
    "    \"\"\"Compute each member's patronage from new contributions for the current year.\n",
    "    \"\"\"\n",
    "    contributions_df = compute_transaction_patronage(contributions_df)\n",
    "    return contributions_df[['member_id','patronage']].groupby(by='member_id').sum()\n",
    "\n",
    "def compute_patronage(prev_equity_df, contributions_df):\n",
    "    \"\"\"Compute total patronage for each member from new contributions for the current year\n",
    "        and existing equity from previous years.\n",
    "    \"\"\"\n",
    "    patronage_df = prev_equity_df.set_index('member_id')[['name', 'equity']]\n",
    "    patronage_df.rename(columns={'equity': 'old_patronage'}, inplace=True)\n",
    "    \n",
    "    patronage_df['new_patronage'] = compute_new_patronage(contributions_df)['patronage']\n",
    "    # If there were members with no contributions this year, set their new patronage to 0 (would be NaN).\n",
    "    patronage_df.fillna(0, inplace=True)\n",
    "    \n",
    "    patronage_df['patronage'] = patronage_df['old_patronage'] + patronage_df['new_patronage']\n",
    "    patronage_df['proportionate_patronage'] = patronage_df['patronage'] / patronage_df['patronage'].sum()\n",
    "    \n",
    "    return patronage_df\n",
    "\n",
    "def compute_dividends(patronage_df, profit, proportion_individual=0.5):\n",
    "    \"\"\"Compute each member's dividend based on patronage for the year.\n",
    "    \"\"\" \n",
    "    dividend_df = patronage_df[['name', 'proportionate_patronage']].copy()\n",
    "    \n",
    "    #Compute individual patronage allocations\n",
    "    dividend_df['dividend'] = np.round(\n",
    "        dividend_df['proportionate_patronage'] * profit * proportion_individual, 2)\n",
    "    \n",
    "    # To account for rounding amounts to the nearest cent, we add up the individual dividends\n",
    "    # to get the actual amount allocated to individual net income. Then we subtract this amount\n",
    "    # from the total profit to get the collective net income.\n",
    "    indiv_profit = dividend_df['dividend'].sum()\n",
    "    collective_profit = profit - indiv_profit\n",
    "    \n",
    "    # We reserve member_id=0 for the collective account (or we could simply use names as keys)\n",
    "    dividend_df.loc[0] = pd.Series({\n",
    "        'name': 'CollectiveAcct',\n",
    "        'proportionate_patronage': collective_profit / indiv_profit,\n",
    "        'dividend': collective_profit\n",
    "    })\n",
    "    return dividend_df"
   ]
  },
  {
   "cell_type": "markdown",
   "metadata": {},
   "source": [
    "## Auxiliary functions"
   ]
  },
  {
   "cell_type": "code",
   "execution_count": 33,
   "metadata": {
    "collapsed": true
   },
   "outputs": [],
   "source": [
    "def compute_total_patronage(patronage_df):\n",
    "    \"\"\"Computes the total patronage for the year, i.e. the time-averaged amount of equity.\n",
    "    \"\"\"\n",
    "    return patronage_df['patronage'].sum()\n",
    "\n",
    "def estimate_indiv_collective_profit(profit, proportion_individual):\n",
    "    \"\"\"Estimate the individual and collective net income from the total net income.\n",
    "    This may be different from the actual individual and collective amounts because\n",
    "    of rounding individual dividends to the nearest cent.\n",
    "    \"\"\"\n",
    "    indiv_profit = np.round(profit * proportion_individual, 2)\n",
    "    collective_profit = profit - indiv_profit\n",
    "    return indiv_profit, collective_profit"
   ]
  },
  {
   "cell_type": "code",
   "execution_count": 34,
   "metadata": {},
   "outputs": [
    {
     "data": {
      "text/html": [
       "<div>\n",
       "<style scoped>\n",
       "    .dataframe tbody tr th:only-of-type {\n",
       "        vertical-align: middle;\n",
       "    }\n",
       "\n",
       "    .dataframe tbody tr th {\n",
       "        vertical-align: top;\n",
       "    }\n",
       "\n",
       "    .dataframe thead th {\n",
       "        text-align: right;\n",
       "    }\n",
       "</style>\n",
       "<table border=\"1\" class=\"dataframe\">\n",
       "  <thead>\n",
       "    <tr style=\"text-align: right;\">\n",
       "      <th></th>\n",
       "      <th>name</th>\n",
       "      <th>old_patronage</th>\n",
       "      <th>new_patronage</th>\n",
       "      <th>patronage</th>\n",
       "      <th>proportionate_patronage</th>\n",
       "    </tr>\n",
       "    <tr>\n",
       "      <th>member_id</th>\n",
       "      <th></th>\n",
       "      <th></th>\n",
       "      <th></th>\n",
       "      <th></th>\n",
       "      <th></th>\n",
       "    </tr>\n",
       "  </thead>\n",
       "  <tbody>\n",
       "    <tr>\n",
       "      <th>1</th>\n",
       "      <td>Alice</td>\n",
       "      <td>0</td>\n",
       "      <td>4799.657534</td>\n",
       "      <td>4799.657534</td>\n",
       "      <td>0.157671</td>\n",
       "    </tr>\n",
       "    <tr>\n",
       "      <th>2</th>\n",
       "      <td>Bob</td>\n",
       "      <td>125</td>\n",
       "      <td>5771.232877</td>\n",
       "      <td>5896.232877</td>\n",
       "      <td>0.193694</td>\n",
       "    </tr>\n",
       "    <tr>\n",
       "      <th>3</th>\n",
       "      <td>Candice</td>\n",
       "      <td>3325</td>\n",
       "      <td>-1600.000000</td>\n",
       "      <td>1725.000000</td>\n",
       "      <td>0.056667</td>\n",
       "    </tr>\n",
       "    <tr>\n",
       "      <th>4</th>\n",
       "      <td>Darwin</td>\n",
       "      <td>0</td>\n",
       "      <td>4175.000000</td>\n",
       "      <td>4175.000000</td>\n",
       "      <td>0.137150</td>\n",
       "    </tr>\n",
       "    <tr>\n",
       "      <th>5</th>\n",
       "      <td>Eve</td>\n",
       "      <td>1225</td>\n",
       "      <td>1380.821918</td>\n",
       "      <td>2605.821918</td>\n",
       "      <td>0.085602</td>\n",
       "    </tr>\n",
       "    <tr>\n",
       "      <th>6</th>\n",
       "      <td>Federico</td>\n",
       "      <td>825</td>\n",
       "      <td>-43.561644</td>\n",
       "      <td>781.438356</td>\n",
       "      <td>0.025671</td>\n",
       "    </tr>\n",
       "    <tr>\n",
       "      <th>7</th>\n",
       "      <td>Gabi</td>\n",
       "      <td>125</td>\n",
       "      <td>0.000000</td>\n",
       "      <td>125.000000</td>\n",
       "      <td>0.004106</td>\n",
       "    </tr>\n",
       "    <tr>\n",
       "      <th>8</th>\n",
       "      <td>HAL</td>\n",
       "      <td>125</td>\n",
       "      <td>0.000000</td>\n",
       "      <td>125.000000</td>\n",
       "      <td>0.004106</td>\n",
       "    </tr>\n",
       "    <tr>\n",
       "      <th>9</th>\n",
       "      <td>Irene</td>\n",
       "      <td>10125</td>\n",
       "      <td>0.000000</td>\n",
       "      <td>10125.000000</td>\n",
       "      <td>0.332610</td>\n",
       "    </tr>\n",
       "    <tr>\n",
       "      <th>10</th>\n",
       "      <td>Jules</td>\n",
       "      <td>0</td>\n",
       "      <td>82.876712</td>\n",
       "      <td>82.876712</td>\n",
       "      <td>0.002723</td>\n",
       "    </tr>\n",
       "  </tbody>\n",
       "</table>\n",
       "</div>"
      ],
      "text/plain": [
       "               name  old_patronage  new_patronage     patronage  \\\n",
       "member_id                                                         \n",
       "1             Alice              0    4799.657534   4799.657534   \n",
       "2               Bob            125    5771.232877   5896.232877   \n",
       "3           Candice           3325   -1600.000000   1725.000000   \n",
       "4            Darwin              0    4175.000000   4175.000000   \n",
       "5               Eve           1225    1380.821918   2605.821918   \n",
       "6          Federico            825     -43.561644    781.438356   \n",
       "7              Gabi            125       0.000000    125.000000   \n",
       "8               HAL            125       0.000000    125.000000   \n",
       "9             Irene          10125       0.000000  10125.000000   \n",
       "10            Jules              0      82.876712     82.876712   \n",
       "\n",
       "           proportionate_patronage  \n",
       "member_id                           \n",
       "1                         0.157671  \n",
       "2                         0.193694  \n",
       "3                         0.056667  \n",
       "4                         0.137150  \n",
       "5                         0.085602  \n",
       "6                         0.025671  \n",
       "7                         0.004106  \n",
       "8                         0.004106  \n",
       "9                         0.332610  \n",
       "10                        0.002723  "
      ]
     },
     "execution_count": 34,
     "metadata": {},
     "output_type": "execute_result"
    }
   ],
   "source": [
    "patronage_df = compute_patronage(prev_equity_df, contributions_df)\n",
    "patronage_df"
   ]
  },
  {
   "cell_type": "code",
   "execution_count": 35,
   "metadata": {},
   "outputs": [
    {
     "data": {
      "text/plain": [
       "name                       AliceBobCandiceDarwinEveFedericoGabiHALIreneJules\n",
       "old_patronage                                                          15875\n",
       "new_patronage                                                          14566\n",
       "patronage                                                              30441\n",
       "proportionate_patronage                                                    1\n",
       "dtype: object"
      ]
     },
     "execution_count": 35,
     "metadata": {},
     "output_type": "execute_result"
    }
   ],
   "source": [
    "patronage_df.sum()"
   ]
  },
  {
   "cell_type": "code",
   "execution_count": 66,
   "metadata": {},
   "outputs": [
    {
     "data": {
      "text/html": [
       "<div>\n",
       "<style scoped>\n",
       "    .dataframe tbody tr th:only-of-type {\n",
       "        vertical-align: middle;\n",
       "    }\n",
       "\n",
       "    .dataframe tbody tr th {\n",
       "        vertical-align: top;\n",
       "    }\n",
       "\n",
       "    .dataframe thead th {\n",
       "        text-align: right;\n",
       "    }\n",
       "</style>\n",
       "<table border=\"1\" class=\"dataframe\">\n",
       "  <thead>\n",
       "    <tr style=\"text-align: right;\">\n",
       "      <th></th>\n",
       "      <th>name</th>\n",
       "      <th>proportionate_patronage</th>\n",
       "      <th>dividend</th>\n",
       "    </tr>\n",
       "    <tr>\n",
       "      <th>member_id</th>\n",
       "      <th></th>\n",
       "      <th></th>\n",
       "      <th></th>\n",
       "    </tr>\n",
       "  </thead>\n",
       "  <tbody>\n",
       "    <tr>\n",
       "      <th>1</th>\n",
       "      <td>Alice</td>\n",
       "      <td>0.157671</td>\n",
       "      <td>172.04</td>\n",
       "    </tr>\n",
       "    <tr>\n",
       "      <th>2</th>\n",
       "      <td>Bob</td>\n",
       "      <td>0.193694</td>\n",
       "      <td>211.35</td>\n",
       "    </tr>\n",
       "    <tr>\n",
       "      <th>3</th>\n",
       "      <td>Candice</td>\n",
       "      <td>0.056667</td>\n",
       "      <td>61.83</td>\n",
       "    </tr>\n",
       "    <tr>\n",
       "      <th>4</th>\n",
       "      <td>Darwin</td>\n",
       "      <td>0.137150</td>\n",
       "      <td>149.65</td>\n",
       "    </tr>\n",
       "    <tr>\n",
       "      <th>5</th>\n",
       "      <td>Eve</td>\n",
       "      <td>0.085602</td>\n",
       "      <td>93.41</td>\n",
       "    </tr>\n",
       "    <tr>\n",
       "      <th>6</th>\n",
       "      <td>Federico</td>\n",
       "      <td>0.025671</td>\n",
       "      <td>28.01</td>\n",
       "    </tr>\n",
       "    <tr>\n",
       "      <th>7</th>\n",
       "      <td>Gabi</td>\n",
       "      <td>0.004106</td>\n",
       "      <td>4.48</td>\n",
       "    </tr>\n",
       "    <tr>\n",
       "      <th>8</th>\n",
       "      <td>HAL</td>\n",
       "      <td>0.004106</td>\n",
       "      <td>4.48</td>\n",
       "    </tr>\n",
       "    <tr>\n",
       "      <th>9</th>\n",
       "      <td>Irene</td>\n",
       "      <td>0.332610</td>\n",
       "      <td>362.93</td>\n",
       "    </tr>\n",
       "    <tr>\n",
       "      <th>10</th>\n",
       "      <td>Jules</td>\n",
       "      <td>0.002723</td>\n",
       "      <td>2.97</td>\n",
       "    </tr>\n",
       "    <tr>\n",
       "      <th>0</th>\n",
       "      <td>CollectiveAcct</td>\n",
       "      <td>1.000027</td>\n",
       "      <td>1091.18</td>\n",
       "    </tr>\n",
       "  </tbody>\n",
       "</table>\n",
       "</div>"
      ],
      "text/plain": [
       "                     name  proportionate_patronage  dividend\n",
       "member_id                                                   \n",
       "1                   Alice                 0.157671    172.04\n",
       "2                     Bob                 0.193694    211.35\n",
       "3                 Candice                 0.056667     61.83\n",
       "4                  Darwin                 0.137150    149.65\n",
       "5                     Eve                 0.085602     93.41\n",
       "6                Federico                 0.025671     28.01\n",
       "7                    Gabi                 0.004106      4.48\n",
       "8                     HAL                 0.004106      4.48\n",
       "9                   Irene                 0.332610    362.93\n",
       "10                  Jules                 0.002723      2.97\n",
       "0          CollectiveAcct                 1.000027   1091.18"
      ]
     },
     "execution_count": 66,
     "metadata": {},
     "output_type": "execute_result"
    }
   ],
   "source": [
    "profit = 2182.33\n",
    "#Different profit values used to test rounding behavior: 2182.33, 0.04, 0.23, 1.17, 1729.45, 100934.27, 10.75, 3.27\n",
    "#Note: 0.01, 0.02, 0.03 all result in 0.00 individual profit, leading to a divide by zero error for the collective proportion.\n",
    "dividend_df = compute_dividends(patronage_df, profit)\n",
    "dividend_df"
   ]
  },
  {
   "cell_type": "code",
   "execution_count": 67,
   "metadata": {},
   "outputs": [
    {
     "data": {
      "text/plain": [
       "(1091.1600000000001, 1091.1699999999998)"
      ]
     },
     "execution_count": 67,
     "metadata": {},
     "output_type": "execute_result"
    }
   ],
   "source": [
    "estimate_indiv_collective_profit(profit, 0.5)"
   ]
  },
  {
   "cell_type": "code",
   "execution_count": 95,
   "metadata": {},
   "outputs": [
    {
     "data": {
      "text/plain": [
       "name                       AliceBobCandiceDarwinEveFedericoGabiHALIreneJu...\n",
       "proportionate_patronage                                              2.00003\n",
       "dividend                                                             2182.33\n",
       "dtype: object"
      ]
     },
     "execution_count": 95,
     "metadata": {},
     "output_type": "execute_result"
    }
   ],
   "source": [
    "dividend_df.sum()"
   ]
  },
  {
   "cell_type": "markdown",
   "metadata": {},
   "source": [
    "## Test calculations with numpy arrays"
   ]
  },
  {
   "cell_type": "code",
   "execution_count": 76,
   "metadata": {},
   "outputs": [
    {
     "data": {
      "text/plain": [
       "array([ 0.25,  0.25,  0.25])"
      ]
     },
     "execution_count": 76,
     "metadata": {},
     "output_type": "execute_result"
    }
   ],
   "source": [
    "a = np.array([0.25 for x in range(3)])\n",
    "a"
   ]
  },
  {
   "cell_type": "code",
   "execution_count": 77,
   "metadata": {},
   "outputs": [
    {
     "data": {
      "text/plain": [
       "array([ 0.5 ,  0.25,  0.25])"
      ]
     },
     "execution_count": 77,
     "metadata": {},
     "output_type": "execute_result"
    }
   ],
   "source": [
    "a[0] = 0.5\n",
    "a"
   ]
  },
  {
   "cell_type": "code",
   "execution_count": 78,
   "metadata": {},
   "outputs": [
    {
     "data": {
      "text/plain": [
       "array([ 2.,  1.,  1.])"
      ]
     },
     "execution_count": 78,
     "metadata": {},
     "output_type": "execute_result"
    }
   ],
   "source": [
    "a * 4"
   ]
  },
  {
   "cell_type": "code",
   "execution_count": 83,
   "metadata": {},
   "outputs": [
    {
     "data": {
      "text/plain": [
       "array([[ 0.5 ,  0.25,  0.25]])"
      ]
     },
     "execution_count": 83,
     "metadata": {},
     "output_type": "execute_result"
    }
   ],
   "source": [
    "a.reshape(1,-1) #Reshapes a to a 1x3 row vector"
   ]
  },
  {
   "cell_type": "code",
   "execution_count": 87,
   "metadata": {
    "scrolled": true
   },
   "outputs": [
    {
     "data": {
      "text/plain": [
       "array([[  86.02  ,   43.01  ,   43.01  ],\n",
       "       [ 105.675 ,   52.8375,   52.8375],\n",
       "       [  30.915 ,   15.4575,   15.4575],\n",
       "       [  74.825 ,   37.4125,   37.4125],\n",
       "       [  46.705 ,   23.3525,   23.3525],\n",
       "       [  14.005 ,    7.0025,    7.0025],\n",
       "       [   2.24  ,    1.12  ,    1.12  ],\n",
       "       [   2.24  ,    1.12  ,    1.12  ],\n",
       "       [ 181.465 ,   90.7325,   90.7325],\n",
       "       [   1.485 ,    0.7425,    0.7425],\n",
       "       [ 545.59  ,  272.795 ,  272.795 ]])"
      ]
     },
     "execution_count": 87,
     "metadata": {},
     "output_type": "execute_result"
    }
   ],
   "source": [
    "#.reshape(-1,1) reshapes dividend_df['dividend'].values to a 11x1 column vector.\n",
    "#The broadcast product with a.reshape(1,-1) will be 11x3.\n",
    "b = a.reshape(1,-1) * dividend_df['dividend'].values.reshape(-1,1)\n",
    "b"
   ]
  },
  {
   "cell_type": "code",
   "execution_count": 88,
   "metadata": {},
   "outputs": [
    {
     "data": {
      "text/plain": [
       "2182.3299999999999"
      ]
     },
     "execution_count": 88,
     "metadata": {},
     "output_type": "execute_result"
    }
   ],
   "source": [
    "b.sum()"
   ]
  },
  {
   "cell_type": "code",
   "execution_count": 89,
   "metadata": {},
   "outputs": [
    {
     "data": {
      "text/plain": [
       "array([  172.04,   211.35,    61.83,   149.65,    93.41,    28.01,\n",
       "           4.48,     4.48,   362.93,     2.97,  1091.18])"
      ]
     },
     "execution_count": 89,
     "metadata": {},
     "output_type": "execute_result"
    }
   ],
   "source": [
    "b.sum(axis=1)"
   ]
  },
  {
   "cell_type": "code",
   "execution_count": 90,
   "metadata": {},
   "outputs": [
    {
     "data": {
      "text/plain": [
       "member_id\n",
       "1     True\n",
       "2     True\n",
       "3     True\n",
       "4     True\n",
       "5     True\n",
       "6     True\n",
       "7     True\n",
       "8     True\n",
       "9     True\n",
       "10    True\n",
       "0     True\n",
       "Name: dividend, dtype: bool"
      ]
     },
     "execution_count": 90,
     "metadata": {},
     "output_type": "execute_result"
    }
   ],
   "source": [
    "#The row sums should equal the dividends:\n",
    "b.sum(axis=1) == dividend_df['dividend']"
   ]
  },
  {
   "cell_type": "code",
   "execution_count": 91,
   "metadata": {},
   "outputs": [
    {
     "data": {
      "text/plain": [
       "array([[  86.02,   43.01,   43.01],\n",
       "       [ 105.68,   52.84,   52.84],\n",
       "       [  30.92,   15.46,   15.46],\n",
       "       [  74.82,   37.41,   37.41],\n",
       "       [  46.7 ,   23.35,   23.35],\n",
       "       [  14.  ,    7.  ,    7.  ],\n",
       "       [   2.24,    1.12,    1.12],\n",
       "       [   2.24,    1.12,    1.12],\n",
       "       [ 181.46,   90.73,   90.73],\n",
       "       [   1.48,    0.74,    0.74],\n",
       "       [ 545.59,  272.79,  272.79]])"
      ]
     },
     "execution_count": 91,
     "metadata": {},
     "output_type": "execute_result"
    }
   ],
   "source": [
    "np.round(b, 2)"
   ]
  },
  {
   "cell_type": "code",
   "execution_count": 92,
   "metadata": {},
   "outputs": [
    {
     "data": {
      "text/plain": [
       "2182.29"
      ]
     },
     "execution_count": 92,
     "metadata": {},
     "output_type": "execute_result"
    }
   ],
   "source": [
    "np.round(b, 2).sum()"
   ]
  },
  {
   "cell_type": "code",
   "execution_count": 93,
   "metadata": {},
   "outputs": [
    {
     "data": {
      "text/plain": [
       "array([  172.04,   211.36,    61.84,   149.64,    93.4 ,    28.  ,\n",
       "           4.48,     4.48,   362.92,     2.96,  1091.17])"
      ]
     },
     "execution_count": 93,
     "metadata": {},
     "output_type": "execute_result"
    }
   ],
   "source": [
    "np.round(b, 2).sum(axis=1)"
   ]
  },
  {
   "cell_type": "code",
   "execution_count": 94,
   "metadata": {},
   "outputs": [
    {
     "data": {
      "text/plain": [
       "member_id\n",
       "1      True\n",
       "2     False\n",
       "3     False\n",
       "4     False\n",
       "5     False\n",
       "6     False\n",
       "7      True\n",
       "8      True\n",
       "9     False\n",
       "10    False\n",
       "0     False\n",
       "Name: dividend, dtype: bool"
      ]
     },
     "execution_count": 94,
     "metadata": {},
     "output_type": "execute_result"
    }
   ],
   "source": [
    "#After rounding, the row sums no longer equal the dividends:\n",
    "np.round(b, 2).sum(axis=1) == dividend_df['dividend']"
   ]
  },
  {
   "cell_type": "code",
   "execution_count": 97,
   "metadata": {},
   "outputs": [
    {
     "data": {
      "text/plain": [
       "array([5, 6, 7, 8])"
      ]
     },
     "execution_count": 97,
     "metadata": {},
     "output_type": "execute_result"
    }
   ],
   "source": [
    "np.array([1,2,3] if False else [5,6,7,8]) #Woo hoo, inline if statements!"
   ]
  },
  {
   "cell_type": "code",
   "execution_count": 99,
   "metadata": {},
   "outputs": [
    {
     "data": {
      "text/plain": [
       "array([[  86.02  ,   43.01  ,   43.01  ],\n",
       "       [ 105.675 ,   52.8375,   52.8375],\n",
       "       [  30.915 ,   15.4575,   15.4575],\n",
       "       [  74.825 ,   37.4125,   37.4125],\n",
       "       [  46.705 ,   23.3525,   23.3525],\n",
       "       [  14.005 ,    7.0025,    7.0025],\n",
       "       [   2.24  ,    1.12  ,    1.12  ],\n",
       "       [   2.24  ,    1.12  ,    1.12  ],\n",
       "       [ 181.465 ,   90.7325,   90.7325],\n",
       "       [   1.485 ,    0.7425,    0.7425],\n",
       "       [ 545.59  ,  272.795 ,  272.795 ]])"
      ]
     },
     "execution_count": 99,
     "metadata": {},
     "output_type": "execute_result"
    }
   ],
   "source": [
    "b"
   ]
  },
  {
   "cell_type": "code",
   "execution_count": 100,
   "metadata": {},
   "outputs": [
    {
     "data": {
      "text/plain": [
       "array([[  86.02,   43.01,   43.01],\n",
       "       [ 105.68,   52.84,   52.84],\n",
       "       [  30.92,   15.46,   15.46],\n",
       "       [  74.82,   37.41,   37.41],\n",
       "       [  46.7 ,   23.35,   23.35],\n",
       "       [  14.  ,    7.  ,    7.  ],\n",
       "       [   2.24,    1.12,    1.12],\n",
       "       [   2.24,    1.12,    1.12],\n",
       "       [ 181.46,   90.73,   90.73],\n",
       "       [   1.48,    0.74,    0.74],\n",
       "       [ 545.59,  272.79,  272.79]])"
      ]
     },
     "execution_count": 100,
     "metadata": {},
     "output_type": "execute_result"
    }
   ],
   "source": [
    "b.round(2)"
   ]
  },
  {
   "cell_type": "code",
   "execution_count": 101,
   "metadata": {},
   "outputs": [
    {
     "data": {
      "text/plain": [
       "array([[  86.02  ,   43.01  ,   43.01  ],\n",
       "       [ 105.675 ,   52.8375,   52.8375],\n",
       "       [  30.915 ,   15.4575,   15.4575],\n",
       "       [  74.825 ,   37.4125,   37.4125],\n",
       "       [  46.705 ,   23.3525,   23.3525],\n",
       "       [  14.005 ,    7.0025,    7.0025],\n",
       "       [   2.24  ,    1.12  ,    1.12  ],\n",
       "       [   2.24  ,    1.12  ,    1.12  ],\n",
       "       [ 181.465 ,   90.7325,   90.7325],\n",
       "       [   1.485 ,    0.7425,    0.7425],\n",
       "       [ 545.59  ,  272.795 ,  272.795 ]])"
      ]
     },
     "execution_count": 101,
     "metadata": {},
     "output_type": "execute_result"
    }
   ],
   "source": [
    "b"
   ]
  },
  {
   "cell_type": "code",
   "execution_count": 106,
   "metadata": {},
   "outputs": [
    {
     "data": {
      "text/plain": [
       "member_id\n",
       "1      86.02\n",
       "2     105.67\n",
       "3      30.91\n",
       "4      74.83\n",
       "5      46.71\n",
       "6      14.01\n",
       "7       2.24\n",
       "8       2.24\n",
       "9     181.47\n",
       "10      1.49\n",
       "0     545.60\n",
       "Name: dividend, dtype: float64"
      ]
     },
     "execution_count": 106,
     "metadata": {},
     "output_type": "execute_result"
    }
   ],
   "source": [
    "dividend_df['dividend'] - b.round(2)[:,1:].sum(axis=1)"
   ]
  },
  {
   "cell_type": "code",
   "execution_count": 113,
   "metadata": {},
   "outputs": [
    {
     "data": {
      "text/plain": [
       "array([[  86.02,   43.01,   43.01],\n",
       "       [ 105.67,   52.84,   52.84],\n",
       "       [  30.91,   15.46,   15.46],\n",
       "       [  74.83,   37.41,   37.41],\n",
       "       [  46.71,   23.35,   23.35],\n",
       "       [  14.01,    7.  ,    7.  ],\n",
       "       [   2.24,    1.12,    1.12],\n",
       "       [   2.24,    1.12,    1.12],\n",
       "       [ 181.47,   90.73,   90.73],\n",
       "       [   1.49,    0.74,    0.74],\n",
       "       [ 545.6 ,  272.79,  272.79]])"
      ]
     },
     "execution_count": 113,
     "metadata": {},
     "output_type": "execute_result"
    }
   ],
   "source": [
    "#Make first year payments irregular\n",
    "c = b.round(2)\n",
    "c[:,0] = np.round(dividend_df['dividend'] - c[:,1:].sum(axis=1),2)\n",
    "c"
   ]
  },
  {
   "cell_type": "code",
   "execution_count": 109,
   "metadata": {},
   "outputs": [
    {
     "data": {
      "text/plain": [
       "2182.3299999999999"
      ]
     },
     "execution_count": 109,
     "metadata": {},
     "output_type": "execute_result"
    }
   ],
   "source": [
    "c.sum()"
   ]
  },
  {
   "cell_type": "code",
   "execution_count": 112,
   "metadata": {},
   "outputs": [
    {
     "data": {
      "text/plain": [
       "array([[  86.02,   43.01,   43.01],\n",
       "       [ 105.68,   52.84,   52.83],\n",
       "       [  30.92,   15.46,   15.45],\n",
       "       [  74.82,   37.41,   37.42],\n",
       "       [  46.7 ,   23.35,   23.36],\n",
       "       [  14.  ,    7.  ,    7.01],\n",
       "       [   2.24,    1.12,    1.12],\n",
       "       [   2.24,    1.12,    1.12],\n",
       "       [ 181.46,   90.73,   90.74],\n",
       "       [   1.48,    0.74,    0.75],\n",
       "       [ 545.59,  272.79,  272.8 ]])"
      ]
     },
     "execution_count": 112,
     "metadata": {},
     "output_type": "execute_result"
    }
   ],
   "source": [
    "#Make last year payments irregular\n",
    "d = b.round(2)\n",
    "d[:,-1] = dividend_df['dividend'] - d[:,:-1].sum(axis=1)\n",
    "d"
   ]
  },
  {
   "cell_type": "code",
   "execution_count": 121,
   "metadata": {},
   "outputs": [
    {
     "data": {
      "text/plain": [
       "11"
      ]
     },
     "execution_count": 121,
     "metadata": {},
     "output_type": "execute_result"
    }
   ],
   "source": [
    "len(d)"
   ]
  },
  {
   "cell_type": "markdown",
   "metadata": {},
   "source": [
    "## New function for calculating yearly allocations"
   ]
  },
  {
   "cell_type": "code",
   "execution_count": 136,
   "metadata": {},
   "outputs": [],
   "source": [
    "def compute_allocations(dividend_df,\n",
    "                        year,\n",
    "                        irregular_payment='last',\n",
    "                        first_year_proportion=0.5,\n",
    "                        n_years=3,\n",
    "                        pos_distribution = None,\n",
    "                        neg_distribution = None):\n",
    "    \"\"\"Computes allocations over next n_years years after the dividend year.\n",
    "    \"\"\"\n",
    "    \n",
    "    if pos_distribution is None:\n",
    "        #Default for a positive dividend is to evenly evenly divide what's left over after\n",
    "        #the first year over the remaining over n-1 years.\n",
    "        if n_years > 1:\n",
    "            pos_distribution = [(1-first_year_proportion) / (n_years-1) for _ in range(n_years)]\n",
    "            pos_distribution[0] = first_year_proportion\n",
    "        else:\n",
    "            pos_distribution = [1]\n",
    "            \n",
    "    if neg_distribution is None:\n",
    "        #Default for a negative dividend is to evenly divide it over all n years.\n",
    "        neg_distribution = [1.0 / n_years for _ in range(n_years)]\n",
    "    \n",
    "    #Check whether the profit is positive or negative, and use the corresponding distribution;\n",
    "    #convert the distribution from a list to a numpy array to perform math with it.\n",
    "    profit = dividend_df['dividend'].sum()\n",
    "    distribution = np.array(pos_distribution if profit >= 0 else neg_distribution)\n",
    "    \n",
    "    #In case the distribution was explicitly passed, make sure n_years matches the actual length.\n",
    "    n_years = len(distribution)\n",
    "    \n",
    "    #Create a new DataFrame for the allocations by dropping the collective account and\n",
    "    #the proportionate patronage column from dividend_df.\n",
    "    allocation_df = dividend_df.drop(index=0, columns='proportionate_patronage')\n",
    "    \n",
    "    #Use broadcasting to compute all dividends with one multiplication, and round them to nearest cent.\n",
    "    allocations = (distribution.reshape(1,-1) * allocation_df['dividend'].values.reshape(-1,1)).round(2)\n",
    "    \n",
    "    #Adjust the first or last payment to account for rounding, by subtracting the sum of the remaining\n",
    "    #payments from the member's actual dividend.\n",
    "    if irregular_payment == 'first':\n",
    "        allocations[:,0] = np.round(allocation_df['dividend'] - allocations[:,1:].sum(axis=1), 2)\n",
    "    elif irregular_payment == 'last':\n",
    "        allocations[:,-1] = np.round(allocation_df['dividend'] - allocations[:,:-1].sum(axis=1), 2)\n",
    "    else: #We could actually allow passing a specific index if we wanted to complicate things...\n",
    "        raise ValueError(\"irregular_payment must be 'first' or 'last'.\")\n",
    "        \n",
    "    #Create new column labels for the years year+1, year+2,...,year+n\n",
    "    new_columns = [str(y) for y in range(year+1, year+n_years+1)]\n",
    "    \n",
    "    #Concatenate the existing allocation dataframes horizontally with the computed allocations.\n",
    "    allocation_df = pd.concat([allocation_df,\n",
    "                              pd.DataFrame(allocations, index=allocation_df.index, columns = new_columns)],\n",
    "                             axis=1)\n",
    "    \n",
    "    #Rename the 'dividend' column.\n",
    "    allocation_df.rename(columns={'dividend': str(year)+'_dividend'}, inplace=True)\n",
    "    \n",
    "    return allocation_df"
   ]
  },
  {
   "cell_type": "code",
   "execution_count": 147,
   "metadata": {},
   "outputs": [
    {
     "data": {
      "text/html": [
       "<div>\n",
       "<style scoped>\n",
       "    .dataframe tbody tr th:only-of-type {\n",
       "        vertical-align: middle;\n",
       "    }\n",
       "\n",
       "    .dataframe tbody tr th {\n",
       "        vertical-align: top;\n",
       "    }\n",
       "\n",
       "    .dataframe thead th {\n",
       "        text-align: right;\n",
       "    }\n",
       "</style>\n",
       "<table border=\"1\" class=\"dataframe\">\n",
       "  <thead>\n",
       "    <tr style=\"text-align: right;\">\n",
       "      <th></th>\n",
       "      <th>name</th>\n",
       "      <th>2017_dividend</th>\n",
       "      <th>2018</th>\n",
       "      <th>2019</th>\n",
       "      <th>2020</th>\n",
       "    </tr>\n",
       "    <tr>\n",
       "      <th>member_id</th>\n",
       "      <th></th>\n",
       "      <th></th>\n",
       "      <th></th>\n",
       "      <th></th>\n",
       "      <th></th>\n",
       "    </tr>\n",
       "  </thead>\n",
       "  <tbody>\n",
       "    <tr>\n",
       "      <th>1</th>\n",
       "      <td>Alice</td>\n",
       "      <td>172.04</td>\n",
       "      <td>120.43</td>\n",
       "      <td>25.81</td>\n",
       "      <td>25.80</td>\n",
       "    </tr>\n",
       "    <tr>\n",
       "      <th>2</th>\n",
       "      <td>Bob</td>\n",
       "      <td>211.35</td>\n",
       "      <td>147.94</td>\n",
       "      <td>31.70</td>\n",
       "      <td>31.71</td>\n",
       "    </tr>\n",
       "    <tr>\n",
       "      <th>3</th>\n",
       "      <td>Candice</td>\n",
       "      <td>61.83</td>\n",
       "      <td>43.28</td>\n",
       "      <td>9.27</td>\n",
       "      <td>9.28</td>\n",
       "    </tr>\n",
       "    <tr>\n",
       "      <th>4</th>\n",
       "      <td>Darwin</td>\n",
       "      <td>149.65</td>\n",
       "      <td>104.76</td>\n",
       "      <td>22.45</td>\n",
       "      <td>22.44</td>\n",
       "    </tr>\n",
       "    <tr>\n",
       "      <th>5</th>\n",
       "      <td>Eve</td>\n",
       "      <td>93.41</td>\n",
       "      <td>65.39</td>\n",
       "      <td>14.01</td>\n",
       "      <td>14.01</td>\n",
       "    </tr>\n",
       "    <tr>\n",
       "      <th>6</th>\n",
       "      <td>Federico</td>\n",
       "      <td>28.01</td>\n",
       "      <td>19.61</td>\n",
       "      <td>4.20</td>\n",
       "      <td>4.20</td>\n",
       "    </tr>\n",
       "    <tr>\n",
       "      <th>7</th>\n",
       "      <td>Gabi</td>\n",
       "      <td>4.48</td>\n",
       "      <td>3.14</td>\n",
       "      <td>0.67</td>\n",
       "      <td>0.67</td>\n",
       "    </tr>\n",
       "    <tr>\n",
       "      <th>8</th>\n",
       "      <td>HAL</td>\n",
       "      <td>4.48</td>\n",
       "      <td>3.14</td>\n",
       "      <td>0.67</td>\n",
       "      <td>0.67</td>\n",
       "    </tr>\n",
       "    <tr>\n",
       "      <th>9</th>\n",
       "      <td>Irene</td>\n",
       "      <td>362.93</td>\n",
       "      <td>254.05</td>\n",
       "      <td>54.44</td>\n",
       "      <td>54.44</td>\n",
       "    </tr>\n",
       "    <tr>\n",
       "      <th>10</th>\n",
       "      <td>Jules</td>\n",
       "      <td>2.97</td>\n",
       "      <td>2.08</td>\n",
       "      <td>0.45</td>\n",
       "      <td>0.44</td>\n",
       "    </tr>\n",
       "  </tbody>\n",
       "</table>\n",
       "</div>"
      ],
      "text/plain": [
       "               name  2017_dividend    2018   2019   2020\n",
       "member_id                                               \n",
       "1             Alice         172.04  120.43  25.81  25.80\n",
       "2               Bob         211.35  147.94  31.70  31.71\n",
       "3           Candice          61.83   43.28   9.27   9.28\n",
       "4            Darwin         149.65  104.76  22.45  22.44\n",
       "5               Eve          93.41   65.39  14.01  14.01\n",
       "6          Federico          28.01   19.61   4.20   4.20\n",
       "7              Gabi           4.48    3.14   0.67   0.67\n",
       "8               HAL           4.48    3.14   0.67   0.67\n",
       "9             Irene         362.93  254.05  54.44  54.44\n",
       "10            Jules           2.97    2.08   0.45   0.44"
      ]
     },
     "execution_count": 147,
     "metadata": {},
     "output_type": "execute_result"
    }
   ],
   "source": [
    "allocation_df = compute_allocations(dividend_df, 2017, first_year_proportion=0.7, n_years=3)\n",
    "allocation_df"
   ]
  },
  {
   "cell_type": "code",
   "execution_count": 148,
   "metadata": {},
   "outputs": [
    {
     "data": {
      "text/plain": [
       "name             AliceBobCandiceDarwinEveFedericoGabiHALIreneJules\n",
       "2017_dividend                                              1091.15\n",
       "2018                                                        763.82\n",
       "2019                                                        163.67\n",
       "2020                                                        163.66\n",
       "dtype: object"
      ]
     },
     "execution_count": 148,
     "metadata": {},
     "output_type": "execute_result"
    }
   ],
   "source": [
    "allocation_df.sum()"
   ]
  },
  {
   "cell_type": "code",
   "execution_count": 149,
   "metadata": {},
   "outputs": [
    {
     "data": {
      "text/plain": [
       "member_id\n",
       "1     172.04\n",
       "2     211.35\n",
       "3      61.83\n",
       "4     149.65\n",
       "5      93.41\n",
       "6      28.01\n",
       "7       4.48\n",
       "8       4.48\n",
       "9     362.93\n",
       "10      2.97\n",
       "dtype: float64"
      ]
     },
     "execution_count": 149,
     "metadata": {},
     "output_type": "execute_result"
    }
   ],
   "source": [
    "allocation_df.loc[:,'2018':].sum(axis=1)"
   ]
  },
  {
   "cell_type": "code",
   "execution_count": null,
   "metadata": {
    "collapsed": true
   },
   "outputs": [],
   "source": []
  }
 ],
 "metadata": {
  "kernelspec": {
   "display_name": "Python 3",
   "language": "python",
   "name": "python3"
  },
  "language_info": {
   "codemirror_mode": {
    "name": "ipython",
    "version": 3
   },
   "file_extension": ".py",
   "mimetype": "text/x-python",
   "name": "python",
   "nbconvert_exporter": "python",
   "pygments_lexer": "ipython3",
   "version": "3.6.3"
  }
 },
 "nbformat": 4,
 "nbformat_minor": 2
}
