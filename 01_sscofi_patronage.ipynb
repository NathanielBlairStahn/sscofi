{
 "cells": [
  {
   "cell_type": "markdown",
   "metadata": {},
   "source": [
    "# Patronage Calculation Tests\n",
    "Wed 28 Aug 2018 - Tue 4 Sep 2018"
   ]
  },
  {
   "cell_type": "code",
   "execution_count": 1,
   "metadata": {
    "collapsed": true
   },
   "outputs": [],
   "source": [
    "import numpy as np\n",
    "import pandas as pd"
   ]
  },
  {
   "cell_type": "markdown",
   "metadata": {},
   "source": [
    "## Experiment with Timestamps in pandas"
   ]
  },
  {
   "cell_type": "code",
   "execution_count": 28,
   "metadata": {},
   "outputs": [
    {
     "data": {
      "text/plain": [
       "Timestamp('2018-01-01 00:00:00')"
      ]
     },
     "execution_count": 28,
     "metadata": {},
     "output_type": "execute_result"
    }
   ],
   "source": [
    "pd.Timestamp('1/1/2018')"
   ]
  },
  {
   "cell_type": "code",
   "execution_count": 29,
   "metadata": {},
   "outputs": [
    {
     "data": {
      "text/plain": [
       "Timestamp('2018-01-01 16:00:00')"
      ]
     },
     "execution_count": 29,
     "metadata": {},
     "output_type": "execute_result"
    }
   ],
   "source": [
    "pd.Timestamp('4pm 1/1/2018')"
   ]
  },
  {
   "cell_type": "code",
   "execution_count": 2,
   "metadata": {},
   "outputs": [
    {
     "data": {
      "text/plain": [
       "Timedelta('31 days 00:00:00')"
      ]
     },
     "execution_count": 2,
     "metadata": {},
     "output_type": "execute_result"
    }
   ],
   "source": [
    "pd.Timestamp('1/1/2018') - pd.Timestamp('12/1/2017')"
   ]
  },
  {
   "cell_type": "code",
   "execution_count": 3,
   "metadata": {},
   "outputs": [
    {
     "data": {
      "text/plain": [
       "0.08493150684931507"
      ]
     },
     "execution_count": 3,
     "metadata": {},
     "output_type": "execute_result"
    }
   ],
   "source": [
    "(pd.Timestamp('1/1/2018') - pd.Timestamp('12/1/2017')).days / (pd.Timestamp('1/1/2018') - pd.Timestamp('1/1/2017')).days"
   ]
  },
  {
   "cell_type": "code",
   "execution_count": 4,
   "metadata": {},
   "outputs": [
    {
     "data": {
      "text/plain": [
       "0.08493150684931507"
      ]
     },
     "execution_count": 4,
     "metadata": {},
     "output_type": "execute_result"
    }
   ],
   "source": [
    "31/365"
   ]
  },
  {
   "cell_type": "code",
   "execution_count": 5,
   "metadata": {},
   "outputs": [
    {
     "data": {
      "text/plain": [
       "5.0"
      ]
     },
     "execution_count": 5,
     "metadata": {},
     "output_type": "execute_result"
    }
   ],
   "source": [
    "np.floor(5.6)"
   ]
  },
  {
   "cell_type": "markdown",
   "metadata": {},
   "source": [
    "## Create DataFrames with fake data to test functions for computing patronage"
   ]
  },
  {
   "cell_type": "code",
   "execution_count": 6,
   "metadata": {},
   "outputs": [
    {
     "data": {
      "text/html": [
       "<div>\n",
       "<style scoped>\n",
       "    .dataframe tbody tr th:only-of-type {\n",
       "        vertical-align: middle;\n",
       "    }\n",
       "\n",
       "    .dataframe tbody tr th {\n",
       "        vertical-align: top;\n",
       "    }\n",
       "\n",
       "    .dataframe thead th {\n",
       "        text-align: right;\n",
       "    }\n",
       "</style>\n",
       "<table border=\"1\" class=\"dataframe\">\n",
       "  <thead>\n",
       "    <tr style=\"text-align: right;\">\n",
       "      <th></th>\n",
       "      <th>member_id</th>\n",
       "      <th>name</th>\n",
       "      <th>amount</th>\n",
       "    </tr>\n",
       "  </thead>\n",
       "  <tbody>\n",
       "    <tr>\n",
       "      <th>0</th>\n",
       "      <td>1</td>\n",
       "      <td>a</td>\n",
       "      <td>3</td>\n",
       "    </tr>\n",
       "    <tr>\n",
       "      <th>1</th>\n",
       "      <td>2</td>\n",
       "      <td>b</td>\n",
       "      <td>5</td>\n",
       "    </tr>\n",
       "  </tbody>\n",
       "</table>\n",
       "</div>"
      ],
      "text/plain": [
       "   member_id name  amount\n",
       "0          1    a       3\n",
       "1          2    b       5"
      ]
     },
     "execution_count": 6,
     "metadata": {},
     "output_type": "execute_result"
    }
   ],
   "source": [
    "pd.DataFrame([[1,'a',3],[2,'b',5]], columns=['member_id','name','amount'])"
   ]
  },
  {
   "cell_type": "code",
   "execution_count": 7,
   "metadata": {},
   "outputs": [
    {
     "data": {
      "text/html": [
       "<div>\n",
       "<style scoped>\n",
       "    .dataframe tbody tr th:only-of-type {\n",
       "        vertical-align: middle;\n",
       "    }\n",
       "\n",
       "    .dataframe tbody tr th {\n",
       "        vertical-align: top;\n",
       "    }\n",
       "\n",
       "    .dataframe thead th {\n",
       "        text-align: right;\n",
       "    }\n",
       "</style>\n",
       "<table border=\"1\" class=\"dataframe\">\n",
       "  <thead>\n",
       "    <tr style=\"text-align: right;\">\n",
       "      <th></th>\n",
       "      <th>member_id</th>\n",
       "      <th>date</th>\n",
       "      <th>amount</th>\n",
       "      <th>type</th>\n",
       "    </tr>\n",
       "  </thead>\n",
       "  <tbody>\n",
       "    <tr>\n",
       "      <th>0</th>\n",
       "      <td>1</td>\n",
       "      <td>1/3/2017</td>\n",
       "      <td>125</td>\n",
       "      <td>membership</td>\n",
       "    </tr>\n",
       "    <tr>\n",
       "      <th>1</th>\n",
       "      <td>2</td>\n",
       "      <td>1/31/2017</td>\n",
       "      <td>400</td>\n",
       "      <td>equity</td>\n",
       "    </tr>\n",
       "    <tr>\n",
       "      <th>2</th>\n",
       "      <td>1</td>\n",
       "      <td>2/20/2017</td>\n",
       "      <td>5000</td>\n",
       "      <td>preferred</td>\n",
       "    </tr>\n",
       "    <tr>\n",
       "      <th>3</th>\n",
       "      <td>1</td>\n",
       "      <td>4/13/2017</td>\n",
       "      <td>500</td>\n",
       "      <td>equity</td>\n",
       "    </tr>\n",
       "    <tr>\n",
       "      <th>4</th>\n",
       "      <td>2</td>\n",
       "      <td>4/13/2017</td>\n",
       "      <td>7500</td>\n",
       "      <td>preferred</td>\n",
       "    </tr>\n",
       "    <tr>\n",
       "      <th>5</th>\n",
       "      <td>3</td>\n",
       "      <td>6/24/2017</td>\n",
       "      <td>125</td>\n",
       "      <td>mebership</td>\n",
       "    </tr>\n",
       "    <tr>\n",
       "      <th>6</th>\n",
       "      <td>4</td>\n",
       "      <td>9/17/2017</td>\n",
       "      <td>3000</td>\n",
       "      <td>preferred</td>\n",
       "    </tr>\n",
       "    <tr>\n",
       "      <th>7</th>\n",
       "      <td>3</td>\n",
       "      <td>11/11/2017</td>\n",
       "      <td>20000</td>\n",
       "      <td>preferred</td>\n",
       "    </tr>\n",
       "  </tbody>\n",
       "</table>\n",
       "</div>"
      ],
      "text/plain": [
       "   member_id        date  amount        type\n",
       "0          1    1/3/2017     125  membership\n",
       "1          2   1/31/2017     400      equity\n",
       "2          1   2/20/2017    5000   preferred\n",
       "3          1   4/13/2017     500      equity\n",
       "4          2   4/13/2017    7500   preferred\n",
       "5          3   6/24/2017     125   mebership\n",
       "6          4   9/17/2017    3000   preferred\n",
       "7          3  11/11/2017   20000   preferred"
      ]
     },
     "execution_count": 7,
     "metadata": {},
     "output_type": "execute_result"
    }
   ],
   "source": [
    "contributions_df = pd.DataFrame([\n",
    "    [1, \"1/3/2017\", 125, 'membership'],\n",
    "    [2, \"1/31/2017\", 400, 'equity'],\n",
    "    [1, \"2/20/2017\", 5000, 'preferred'],\n",
    "    [1, \"4/13/2017\", 500, 'equity'],\n",
    "    [2, \"4/13/2017\", 7500, 'preferred'],\n",
    "    [3, \"6/24/2017\", 125, 'mebership'],\n",
    "    [4, \"9/17/2017\", 3000, \"preferred\"],\n",
    "    [3, \"11/11/2017\", 20000, 'preferred']\n",
    "], columns = ['member_id','date','amount','type'])\n",
    "contributions_df"
   ]
  },
  {
   "cell_type": "code",
   "execution_count": 8,
   "metadata": {},
   "outputs": [
    {
     "data": {
      "text/html": [
       "<div>\n",
       "<style scoped>\n",
       "    .dataframe tbody tr th:only-of-type {\n",
       "        vertical-align: middle;\n",
       "    }\n",
       "\n",
       "    .dataframe tbody tr th {\n",
       "        vertical-align: top;\n",
       "    }\n",
       "\n",
       "    .dataframe thead th {\n",
       "        text-align: right;\n",
       "    }\n",
       "</style>\n",
       "<table border=\"1\" class=\"dataframe\">\n",
       "  <thead>\n",
       "    <tr style=\"text-align: right;\">\n",
       "      <th></th>\n",
       "      <th>member_id</th>\n",
       "      <th>name</th>\n",
       "      <th>equity</th>\n",
       "      <th>preferred</th>\n",
       "    </tr>\n",
       "  </thead>\n",
       "  <tbody>\n",
       "    <tr>\n",
       "      <th>0</th>\n",
       "      <td>1</td>\n",
       "      <td>Alice</td>\n",
       "      <td>0</td>\n",
       "      <td>0</td>\n",
       "    </tr>\n",
       "    <tr>\n",
       "      <th>1</th>\n",
       "      <td>2</td>\n",
       "      <td>Bob</td>\n",
       "      <td>125</td>\n",
       "      <td>0</td>\n",
       "    </tr>\n",
       "    <tr>\n",
       "      <th>2</th>\n",
       "      <td>3</td>\n",
       "      <td>Darwin</td>\n",
       "      <td>0</td>\n",
       "      <td>0</td>\n",
       "    </tr>\n",
       "    <tr>\n",
       "      <th>3</th>\n",
       "      <td>4</td>\n",
       "      <td>Eve</td>\n",
       "      <td>225</td>\n",
       "      <td>1000</td>\n",
       "    </tr>\n",
       "  </tbody>\n",
       "</table>\n",
       "</div>"
      ],
      "text/plain": [
       "   member_id    name  equity  preferred\n",
       "0          1   Alice       0          0\n",
       "1          2     Bob     125          0\n",
       "2          3  Darwin       0          0\n",
       "3          4     Eve     225       1000"
      ]
     },
     "execution_count": 8,
     "metadata": {},
     "output_type": "execute_result"
    }
   ],
   "source": [
    "prev_equity_df = pd.DataFrame([\n",
    "    [1, 'Alice', 0, 0],\n",
    "    [2, 'Bob', 125, 0],\n",
    "    [3, 'Darwin', 0, 0],\n",
    "    [4, 'Eve', 225, 1000],\n",
    "], columns = ['member_id', 'name', 'equity', 'preferred'])\n",
    "prev_equity_df"
   ]
  },
  {
   "cell_type": "code",
   "execution_count": 9,
   "metadata": {},
   "outputs": [
    {
     "data": {
      "text/plain": [
       "array([1, 2, 3, 4])"
      ]
     },
     "execution_count": 9,
     "metadata": {},
     "output_type": "execute_result"
    }
   ],
   "source": [
    "contributions_df['member_id'].unique()"
   ]
  },
  {
   "cell_type": "markdown",
   "metadata": {},
   "source": [
    "## Write and test a function to compute the fraction of the year remaining from a given date"
   ]
  },
  {
   "cell_type": "code",
   "execution_count": 10,
   "metadata": {
    "collapsed": true
   },
   "outputs": [],
   "source": [
    "def fraction_year_remaining(date):\n",
    "    \"\"\"Computes the fraction of the year remaining from a given date.\n",
    "    \"\"\"\n",
    "    date = pd.to_datetime(date)\n",
    "    offset = pd.tseries.offsets.YearBegin()\n",
    "    year = date - offset\n",
    "    next_year = date + offset\n",
    "    #print(offset, year, next_year)\n",
    "    return (next_year - date).days / (next_year - year).days"
   ]
  },
  {
   "cell_type": "code",
   "execution_count": 11,
   "metadata": {},
   "outputs": [
    {
     "data": {
      "text/plain": [
       "0.6109589041095891"
      ]
     },
     "execution_count": 11,
     "metadata": {},
     "output_type": "execute_result"
    }
   ],
   "source": [
    "fraction_year_remaining('5/23/2017')"
   ]
  },
  {
   "cell_type": "code",
   "execution_count": 12,
   "metadata": {},
   "outputs": [
    {
     "data": {
      "text/plain": [
       "0.8547945205479452"
      ]
     },
     "execution_count": 12,
     "metadata": {},
     "output_type": "execute_result"
    }
   ],
   "source": [
    "fraction_year_remaining(pd.Timestamp('2/23/2017'))"
   ]
  },
  {
   "cell_type": "code",
   "execution_count": 13,
   "metadata": {},
   "outputs": [
    {
     "data": {
      "text/plain": [
       "0.42191780821917807"
      ]
     },
     "execution_count": 13,
     "metadata": {},
     "output_type": "execute_result"
    }
   ],
   "source": [
    "fraction_year_remaining('7/31/2017')"
   ]
  },
  {
   "cell_type": "code",
   "execution_count": 14,
   "metadata": {},
   "outputs": [
    {
     "data": {
      "text/plain": [
       "int"
      ]
     },
     "execution_count": 14,
     "metadata": {},
     "output_type": "execute_result"
    }
   ],
   "source": [
    "type(pd.Timestamp('2/23/2017').year)"
   ]
  },
  {
   "cell_type": "code",
   "execution_count": 15,
   "metadata": {},
   "outputs": [
    {
     "data": {
      "text/plain": [
       "0    0.994521\n",
       "1    0.917808\n",
       "2    0.863014\n",
       "3    0.720548\n",
       "4    0.720548\n",
       "5    0.523288\n",
       "6    0.290411\n",
       "7    0.139726\n",
       "Name: date, dtype: float64"
      ]
     },
     "execution_count": 15,
     "metadata": {},
     "output_type": "execute_result"
    }
   ],
   "source": [
    "contributions_df['date'].apply(fraction_year_remaining)"
   ]
  },
  {
   "cell_type": "markdown",
   "metadata": {},
   "source": [
    "## Use the \"year fraction\" function to compute new patronage for the year"
   ]
  },
  {
   "cell_type": "code",
   "execution_count": 16,
   "metadata": {},
   "outputs": [
    {
     "data": {
      "text/plain": [
       "0     124.315068\n",
       "1     367.123288\n",
       "2    4315.068493\n",
       "3     360.273973\n",
       "4    5404.109589\n",
       "5      65.410959\n",
       "6     871.232877\n",
       "7    2794.520548\n",
       "dtype: float64"
      ]
     },
     "execution_count": 16,
     "metadata": {},
     "output_type": "execute_result"
    }
   ],
   "source": [
    "contributions_df['amount']*contributions_df['date'].apply(fraction_year_remaining)"
   ]
  },
  {
   "cell_type": "code",
   "execution_count": 17,
   "metadata": {},
   "outputs": [
    {
     "data": {
      "text/html": [
       "<div>\n",
       "<style scoped>\n",
       "    .dataframe tbody tr th:only-of-type {\n",
       "        vertical-align: middle;\n",
       "    }\n",
       "\n",
       "    .dataframe tbody tr th {\n",
       "        vertical-align: top;\n",
       "    }\n",
       "\n",
       "    .dataframe thead th {\n",
       "        text-align: right;\n",
       "    }\n",
       "</style>\n",
       "<table border=\"1\" class=\"dataframe\">\n",
       "  <thead>\n",
       "    <tr style=\"text-align: right;\">\n",
       "      <th></th>\n",
       "      <th>member_id</th>\n",
       "      <th>date</th>\n",
       "      <th>amount</th>\n",
       "      <th>type</th>\n",
       "      <th>patronage</th>\n",
       "    </tr>\n",
       "  </thead>\n",
       "  <tbody>\n",
       "    <tr>\n",
       "      <th>0</th>\n",
       "      <td>1</td>\n",
       "      <td>1/3/2017</td>\n",
       "      <td>125</td>\n",
       "      <td>membership</td>\n",
       "      <td>124.315068</td>\n",
       "    </tr>\n",
       "    <tr>\n",
       "      <th>1</th>\n",
       "      <td>2</td>\n",
       "      <td>1/31/2017</td>\n",
       "      <td>400</td>\n",
       "      <td>equity</td>\n",
       "      <td>367.123288</td>\n",
       "    </tr>\n",
       "    <tr>\n",
       "      <th>2</th>\n",
       "      <td>1</td>\n",
       "      <td>2/20/2017</td>\n",
       "      <td>5000</td>\n",
       "      <td>preferred</td>\n",
       "      <td>4315.068493</td>\n",
       "    </tr>\n",
       "    <tr>\n",
       "      <th>3</th>\n",
       "      <td>1</td>\n",
       "      <td>4/13/2017</td>\n",
       "      <td>500</td>\n",
       "      <td>equity</td>\n",
       "      <td>360.273973</td>\n",
       "    </tr>\n",
       "    <tr>\n",
       "      <th>4</th>\n",
       "      <td>2</td>\n",
       "      <td>4/13/2017</td>\n",
       "      <td>7500</td>\n",
       "      <td>preferred</td>\n",
       "      <td>5404.109589</td>\n",
       "    </tr>\n",
       "    <tr>\n",
       "      <th>5</th>\n",
       "      <td>3</td>\n",
       "      <td>6/24/2017</td>\n",
       "      <td>125</td>\n",
       "      <td>mebership</td>\n",
       "      <td>65.410959</td>\n",
       "    </tr>\n",
       "    <tr>\n",
       "      <th>6</th>\n",
       "      <td>4</td>\n",
       "      <td>9/17/2017</td>\n",
       "      <td>3000</td>\n",
       "      <td>preferred</td>\n",
       "      <td>871.232877</td>\n",
       "    </tr>\n",
       "    <tr>\n",
       "      <th>7</th>\n",
       "      <td>3</td>\n",
       "      <td>11/11/2017</td>\n",
       "      <td>20000</td>\n",
       "      <td>preferred</td>\n",
       "      <td>2794.520548</td>\n",
       "    </tr>\n",
       "  </tbody>\n",
       "</table>\n",
       "</div>"
      ],
      "text/plain": [
       "   member_id        date  amount        type    patronage\n",
       "0          1    1/3/2017     125  membership   124.315068\n",
       "1          2   1/31/2017     400      equity   367.123288\n",
       "2          1   2/20/2017    5000   preferred  4315.068493\n",
       "3          1   4/13/2017     500      equity   360.273973\n",
       "4          2   4/13/2017    7500   preferred  5404.109589\n",
       "5          3   6/24/2017     125   mebership    65.410959\n",
       "6          4   9/17/2017    3000   preferred   871.232877\n",
       "7          3  11/11/2017   20000   preferred  2794.520548"
      ]
     },
     "execution_count": 17,
     "metadata": {},
     "output_type": "execute_result"
    }
   ],
   "source": [
    "new_patronage_amounts = contributions_df['amount']*contributions_df['date'].apply(fraction_year_remaining)\n",
    "temp = contributions_df.copy()\n",
    "temp['patronage'] = new_patronage_amounts\n",
    "temp"
   ]
  },
  {
   "cell_type": "markdown",
   "metadata": {},
   "source": [
    "## Write and test functions to compute new patronage from DataFrames"
   ]
  },
  {
   "cell_type": "code",
   "execution_count": 18,
   "metadata": {
    "collapsed": true
   },
   "outputs": [],
   "source": [
    "def compute_transaction_patronage(contributions_df):\n",
    "    \"\"\"Compute patronage for each transaction based on amount and fraction of year remaining.\n",
    "    \"\"\"\n",
    "    contributions_df = contributions_df.copy()\n",
    "    patronage = contributions_df['amount']*contributions_df['date'].apply(fraction_year_remaining)\n",
    "    contributions_df['patronage'] = patronage\n",
    "    return contributions_df\n",
    "\n",
    "def compute_new_patronage(contributions_df):\n",
    "    \"\"\"Compute each member's patronage from new contributions for the current year.\n",
    "    \"\"\"\n",
    "    contributions_df = compute_transaction_patronage(contributions_df)\n",
    "    return contributions_df[['member_id','patronage']].groupby(by='member_id').sum()"
   ]
  },
  {
   "cell_type": "code",
   "execution_count": 19,
   "metadata": {},
   "outputs": [
    {
     "data": {
      "text/html": [
       "<div>\n",
       "<style scoped>\n",
       "    .dataframe tbody tr th:only-of-type {\n",
       "        vertical-align: middle;\n",
       "    }\n",
       "\n",
       "    .dataframe tbody tr th {\n",
       "        vertical-align: top;\n",
       "    }\n",
       "\n",
       "    .dataframe thead th {\n",
       "        text-align: right;\n",
       "    }\n",
       "</style>\n",
       "<table border=\"1\" class=\"dataframe\">\n",
       "  <thead>\n",
       "    <tr style=\"text-align: right;\">\n",
       "      <th></th>\n",
       "      <th>member_id</th>\n",
       "      <th>date</th>\n",
       "      <th>amount</th>\n",
       "      <th>type</th>\n",
       "      <th>patronage</th>\n",
       "    </tr>\n",
       "  </thead>\n",
       "  <tbody>\n",
       "    <tr>\n",
       "      <th>0</th>\n",
       "      <td>1</td>\n",
       "      <td>1/3/2017</td>\n",
       "      <td>125</td>\n",
       "      <td>membership</td>\n",
       "      <td>124.315068</td>\n",
       "    </tr>\n",
       "    <tr>\n",
       "      <th>1</th>\n",
       "      <td>2</td>\n",
       "      <td>1/31/2017</td>\n",
       "      <td>400</td>\n",
       "      <td>equity</td>\n",
       "      <td>367.123288</td>\n",
       "    </tr>\n",
       "    <tr>\n",
       "      <th>2</th>\n",
       "      <td>1</td>\n",
       "      <td>2/20/2017</td>\n",
       "      <td>5000</td>\n",
       "      <td>preferred</td>\n",
       "      <td>4315.068493</td>\n",
       "    </tr>\n",
       "    <tr>\n",
       "      <th>3</th>\n",
       "      <td>1</td>\n",
       "      <td>4/13/2017</td>\n",
       "      <td>500</td>\n",
       "      <td>equity</td>\n",
       "      <td>360.273973</td>\n",
       "    </tr>\n",
       "    <tr>\n",
       "      <th>4</th>\n",
       "      <td>2</td>\n",
       "      <td>4/13/2017</td>\n",
       "      <td>7500</td>\n",
       "      <td>preferred</td>\n",
       "      <td>5404.109589</td>\n",
       "    </tr>\n",
       "    <tr>\n",
       "      <th>5</th>\n",
       "      <td>3</td>\n",
       "      <td>6/24/2017</td>\n",
       "      <td>125</td>\n",
       "      <td>mebership</td>\n",
       "      <td>65.410959</td>\n",
       "    </tr>\n",
       "    <tr>\n",
       "      <th>6</th>\n",
       "      <td>4</td>\n",
       "      <td>9/17/2017</td>\n",
       "      <td>3000</td>\n",
       "      <td>preferred</td>\n",
       "      <td>871.232877</td>\n",
       "    </tr>\n",
       "    <tr>\n",
       "      <th>7</th>\n",
       "      <td>3</td>\n",
       "      <td>11/11/2017</td>\n",
       "      <td>20000</td>\n",
       "      <td>preferred</td>\n",
       "      <td>2794.520548</td>\n",
       "    </tr>\n",
       "  </tbody>\n",
       "</table>\n",
       "</div>"
      ],
      "text/plain": [
       "   member_id        date  amount        type    patronage\n",
       "0          1    1/3/2017     125  membership   124.315068\n",
       "1          2   1/31/2017     400      equity   367.123288\n",
       "2          1   2/20/2017    5000   preferred  4315.068493\n",
       "3          1   4/13/2017     500      equity   360.273973\n",
       "4          2   4/13/2017    7500   preferred  5404.109589\n",
       "5          3   6/24/2017     125   mebership    65.410959\n",
       "6          4   9/17/2017    3000   preferred   871.232877\n",
       "7          3  11/11/2017   20000   preferred  2794.520548"
      ]
     },
     "execution_count": 19,
     "metadata": {},
     "output_type": "execute_result"
    }
   ],
   "source": [
    "compute_transaction_patronage(contributions_df)"
   ]
  },
  {
   "cell_type": "code",
   "execution_count": 20,
   "metadata": {},
   "outputs": [
    {
     "data": {
      "text/html": [
       "<div>\n",
       "<style scoped>\n",
       "    .dataframe tbody tr th:only-of-type {\n",
       "        vertical-align: middle;\n",
       "    }\n",
       "\n",
       "    .dataframe tbody tr th {\n",
       "        vertical-align: top;\n",
       "    }\n",
       "\n",
       "    .dataframe thead th {\n",
       "        text-align: right;\n",
       "    }\n",
       "</style>\n",
       "<table border=\"1\" class=\"dataframe\">\n",
       "  <thead>\n",
       "    <tr style=\"text-align: right;\">\n",
       "      <th></th>\n",
       "      <th>patronage</th>\n",
       "    </tr>\n",
       "    <tr>\n",
       "      <th>member_id</th>\n",
       "      <th></th>\n",
       "    </tr>\n",
       "  </thead>\n",
       "  <tbody>\n",
       "    <tr>\n",
       "      <th>1</th>\n",
       "      <td>4799.657534</td>\n",
       "    </tr>\n",
       "    <tr>\n",
       "      <th>2</th>\n",
       "      <td>5771.232877</td>\n",
       "    </tr>\n",
       "    <tr>\n",
       "      <th>3</th>\n",
       "      <td>2859.931507</td>\n",
       "    </tr>\n",
       "    <tr>\n",
       "      <th>4</th>\n",
       "      <td>871.232877</td>\n",
       "    </tr>\n",
       "  </tbody>\n",
       "</table>\n",
       "</div>"
      ],
      "text/plain": [
       "             patronage\n",
       "member_id             \n",
       "1          4799.657534\n",
       "2          5771.232877\n",
       "3          2859.931507\n",
       "4           871.232877"
      ]
     },
     "execution_count": 20,
     "metadata": {},
     "output_type": "execute_result"
    }
   ],
   "source": [
    "compute_new_patronage(contributions_df)"
   ]
  },
  {
   "cell_type": "markdown",
   "metadata": {},
   "source": [
    "## Experiment with setting the DataFrame index and renaming columns in pandas"
   ]
  },
  {
   "cell_type": "code",
   "execution_count": 21,
   "metadata": {},
   "outputs": [
    {
     "data": {
      "text/html": [
       "<div>\n",
       "<style scoped>\n",
       "    .dataframe tbody tr th:only-of-type {\n",
       "        vertical-align: middle;\n",
       "    }\n",
       "\n",
       "    .dataframe tbody tr th {\n",
       "        vertical-align: top;\n",
       "    }\n",
       "\n",
       "    .dataframe thead th {\n",
       "        text-align: right;\n",
       "    }\n",
       "</style>\n",
       "<table border=\"1\" class=\"dataframe\">\n",
       "  <thead>\n",
       "    <tr style=\"text-align: right;\">\n",
       "      <th></th>\n",
       "      <th>name</th>\n",
       "      <th>equity</th>\n",
       "      <th>preferred</th>\n",
       "    </tr>\n",
       "    <tr>\n",
       "      <th>member_id</th>\n",
       "      <th></th>\n",
       "      <th></th>\n",
       "      <th></th>\n",
       "    </tr>\n",
       "  </thead>\n",
       "  <tbody>\n",
       "    <tr>\n",
       "      <th>1</th>\n",
       "      <td>Alice</td>\n",
       "      <td>0</td>\n",
       "      <td>0</td>\n",
       "    </tr>\n",
       "    <tr>\n",
       "      <th>2</th>\n",
       "      <td>Bob</td>\n",
       "      <td>125</td>\n",
       "      <td>0</td>\n",
       "    </tr>\n",
       "    <tr>\n",
       "      <th>3</th>\n",
       "      <td>Darwin</td>\n",
       "      <td>0</td>\n",
       "      <td>0</td>\n",
       "    </tr>\n",
       "    <tr>\n",
       "      <th>4</th>\n",
       "      <td>Eve</td>\n",
       "      <td>225</td>\n",
       "      <td>1000</td>\n",
       "    </tr>\n",
       "  </tbody>\n",
       "</table>\n",
       "</div>"
      ],
      "text/plain": [
       "             name  equity  preferred\n",
       "member_id                           \n",
       "1           Alice       0          0\n",
       "2             Bob     125          0\n",
       "3          Darwin       0          0\n",
       "4             Eve     225       1000"
      ]
     },
     "execution_count": 21,
     "metadata": {},
     "output_type": "execute_result"
    }
   ],
   "source": [
    "prev_equity_df.set_index('member_id')"
   ]
  },
  {
   "cell_type": "code",
   "execution_count": 22,
   "metadata": {},
   "outputs": [
    {
     "data": {
      "text/html": [
       "<div>\n",
       "<style scoped>\n",
       "    .dataframe tbody tr th:only-of-type {\n",
       "        vertical-align: middle;\n",
       "    }\n",
       "\n",
       "    .dataframe tbody tr th {\n",
       "        vertical-align: top;\n",
       "    }\n",
       "\n",
       "    .dataframe thead th {\n",
       "        text-align: right;\n",
       "    }\n",
       "</style>\n",
       "<table border=\"1\" class=\"dataframe\">\n",
       "  <thead>\n",
       "    <tr style=\"text-align: right;\">\n",
       "      <th></th>\n",
       "      <th>member_id</th>\n",
       "      <th>date</th>\n",
       "      <th>amount</th>\n",
       "      <th>type</th>\n",
       "      <th>new_patronage</th>\n",
       "    </tr>\n",
       "  </thead>\n",
       "  <tbody>\n",
       "    <tr>\n",
       "      <th>0</th>\n",
       "      <td>1</td>\n",
       "      <td>1/3/2017</td>\n",
       "      <td>125</td>\n",
       "      <td>membership</td>\n",
       "      <td>124.315068</td>\n",
       "    </tr>\n",
       "    <tr>\n",
       "      <th>1</th>\n",
       "      <td>2</td>\n",
       "      <td>1/31/2017</td>\n",
       "      <td>400</td>\n",
       "      <td>equity</td>\n",
       "      <td>367.123288</td>\n",
       "    </tr>\n",
       "    <tr>\n",
       "      <th>2</th>\n",
       "      <td>1</td>\n",
       "      <td>2/20/2017</td>\n",
       "      <td>5000</td>\n",
       "      <td>preferred</td>\n",
       "      <td>4315.068493</td>\n",
       "    </tr>\n",
       "    <tr>\n",
       "      <th>3</th>\n",
       "      <td>1</td>\n",
       "      <td>4/13/2017</td>\n",
       "      <td>500</td>\n",
       "      <td>equity</td>\n",
       "      <td>360.273973</td>\n",
       "    </tr>\n",
       "    <tr>\n",
       "      <th>4</th>\n",
       "      <td>2</td>\n",
       "      <td>4/13/2017</td>\n",
       "      <td>7500</td>\n",
       "      <td>preferred</td>\n",
       "      <td>5404.109589</td>\n",
       "    </tr>\n",
       "    <tr>\n",
       "      <th>5</th>\n",
       "      <td>3</td>\n",
       "      <td>6/24/2017</td>\n",
       "      <td>125</td>\n",
       "      <td>mebership</td>\n",
       "      <td>65.410959</td>\n",
       "    </tr>\n",
       "    <tr>\n",
       "      <th>6</th>\n",
       "      <td>4</td>\n",
       "      <td>9/17/2017</td>\n",
       "      <td>3000</td>\n",
       "      <td>preferred</td>\n",
       "      <td>871.232877</td>\n",
       "    </tr>\n",
       "    <tr>\n",
       "      <th>7</th>\n",
       "      <td>3</td>\n",
       "      <td>11/11/2017</td>\n",
       "      <td>20000</td>\n",
       "      <td>preferred</td>\n",
       "      <td>2794.520548</td>\n",
       "    </tr>\n",
       "  </tbody>\n",
       "</table>\n",
       "</div>"
      ],
      "text/plain": [
       "   member_id        date  amount        type  new_patronage\n",
       "0          1    1/3/2017     125  membership     124.315068\n",
       "1          2   1/31/2017     400      equity     367.123288\n",
       "2          1   2/20/2017    5000   preferred    4315.068493\n",
       "3          1   4/13/2017     500      equity     360.273973\n",
       "4          2   4/13/2017    7500   preferred    5404.109589\n",
       "5          3   6/24/2017     125   mebership      65.410959\n",
       "6          4   9/17/2017    3000   preferred     871.232877\n",
       "7          3  11/11/2017   20000   preferred    2794.520548"
      ]
     },
     "execution_count": 22,
     "metadata": {},
     "output_type": "execute_result"
    }
   ],
   "source": [
    "temp = compute_transaction_patronage(contributions_df)\n",
    "temp.rename(columns={'patronage': 'new_patronage'}, inplace=True)\n",
    "temp"
   ]
  },
  {
   "cell_type": "code",
   "execution_count": 23,
   "metadata": {},
   "outputs": [
    {
     "data": {
      "text/html": [
       "<div>\n",
       "<style scoped>\n",
       "    .dataframe tbody tr th:only-of-type {\n",
       "        vertical-align: middle;\n",
       "    }\n",
       "\n",
       "    .dataframe tbody tr th {\n",
       "        vertical-align: top;\n",
       "    }\n",
       "\n",
       "    .dataframe thead th {\n",
       "        text-align: right;\n",
       "    }\n",
       "</style>\n",
       "<table border=\"1\" class=\"dataframe\">\n",
       "  <thead>\n",
       "    <tr style=\"text-align: right;\">\n",
       "      <th></th>\n",
       "      <th>name</th>\n",
       "      <th>equity</th>\n",
       "      <th>preferred</th>\n",
       "      <th>new_patronage</th>\n",
       "    </tr>\n",
       "    <tr>\n",
       "      <th>member_id</th>\n",
       "      <th></th>\n",
       "      <th></th>\n",
       "      <th></th>\n",
       "      <th></th>\n",
       "    </tr>\n",
       "  </thead>\n",
       "  <tbody>\n",
       "    <tr>\n",
       "      <th>1</th>\n",
       "      <td>Alice</td>\n",
       "      <td>0</td>\n",
       "      <td>0</td>\n",
       "      <td>4799.657534</td>\n",
       "    </tr>\n",
       "    <tr>\n",
       "      <th>2</th>\n",
       "      <td>Bob</td>\n",
       "      <td>125</td>\n",
       "      <td>0</td>\n",
       "      <td>5771.232877</td>\n",
       "    </tr>\n",
       "    <tr>\n",
       "      <th>3</th>\n",
       "      <td>Darwin</td>\n",
       "      <td>0</td>\n",
       "      <td>0</td>\n",
       "      <td>2859.931507</td>\n",
       "    </tr>\n",
       "    <tr>\n",
       "      <th>4</th>\n",
       "      <td>Eve</td>\n",
       "      <td>225</td>\n",
       "      <td>1000</td>\n",
       "      <td>871.232877</td>\n",
       "    </tr>\n",
       "  </tbody>\n",
       "</table>\n",
       "</div>"
      ],
      "text/plain": [
       "             name  equity  preferred  new_patronage\n",
       "member_id                                          \n",
       "1           Alice       0          0    4799.657534\n",
       "2             Bob     125          0    5771.232877\n",
       "3          Darwin       0          0    2859.931507\n",
       "4             Eve     225       1000     871.232877"
      ]
     },
     "execution_count": 23,
     "metadata": {},
     "output_type": "execute_result"
    }
   ],
   "source": [
    "temp = prev_equity_df.set_index('member_id')\n",
    "temp['new_patronage'] = compute_new_patronage(contributions_df)['patronage']\n",
    "temp"
   ]
  },
  {
   "cell_type": "code",
   "execution_count": 24,
   "metadata": {},
   "outputs": [
    {
     "data": {
      "text/html": [
       "<div>\n",
       "<style scoped>\n",
       "    .dataframe tbody tr th:only-of-type {\n",
       "        vertical-align: middle;\n",
       "    }\n",
       "\n",
       "    .dataframe tbody tr th {\n",
       "        vertical-align: top;\n",
       "    }\n",
       "\n",
       "    .dataframe thead th {\n",
       "        text-align: right;\n",
       "    }\n",
       "</style>\n",
       "<table border=\"1\" class=\"dataframe\">\n",
       "  <thead>\n",
       "    <tr style=\"text-align: right;\">\n",
       "      <th></th>\n",
       "      <th>name</th>\n",
       "      <th>prev_equity</th>\n",
       "      <th>prev_preferred</th>\n",
       "      <th>new_patronage</th>\n",
       "    </tr>\n",
       "    <tr>\n",
       "      <th>member_id</th>\n",
       "      <th></th>\n",
       "      <th></th>\n",
       "      <th></th>\n",
       "      <th></th>\n",
       "    </tr>\n",
       "  </thead>\n",
       "  <tbody>\n",
       "    <tr>\n",
       "      <th>1</th>\n",
       "      <td>Alice</td>\n",
       "      <td>0</td>\n",
       "      <td>0</td>\n",
       "      <td>4799.657534</td>\n",
       "    </tr>\n",
       "    <tr>\n",
       "      <th>2</th>\n",
       "      <td>Bob</td>\n",
       "      <td>125</td>\n",
       "      <td>0</td>\n",
       "      <td>5771.232877</td>\n",
       "    </tr>\n",
       "    <tr>\n",
       "      <th>3</th>\n",
       "      <td>Darwin</td>\n",
       "      <td>0</td>\n",
       "      <td>0</td>\n",
       "      <td>2859.931507</td>\n",
       "    </tr>\n",
       "    <tr>\n",
       "      <th>4</th>\n",
       "      <td>Eve</td>\n",
       "      <td>225</td>\n",
       "      <td>1000</td>\n",
       "      <td>871.232877</td>\n",
       "    </tr>\n",
       "  </tbody>\n",
       "</table>\n",
       "</div>"
      ],
      "text/plain": [
       "             name  prev_equity  prev_preferred  new_patronage\n",
       "member_id                                                    \n",
       "1           Alice            0               0    4799.657534\n",
       "2             Bob          125               0    5771.232877\n",
       "3          Darwin            0               0    2859.931507\n",
       "4             Eve          225            1000     871.232877"
      ]
     },
     "execution_count": 24,
     "metadata": {},
     "output_type": "execute_result"
    }
   ],
   "source": [
    "temp.rename(columns={'equity': 'prev_equity', 'preferred': 'prev_preferred'}, inplace=True)\n",
    "temp"
   ]
  },
  {
   "cell_type": "markdown",
   "metadata": {},
   "source": [
    "## Write and test function to compute total patronage from existing equity and new equity DataFrames"
   ]
  },
  {
   "cell_type": "code",
   "execution_count": 41,
   "metadata": {
    "collapsed": true
   },
   "outputs": [],
   "source": [
    "def compute_patronage(prev_equity_df, contributions_df):\n",
    "    \"\"\"Compute total patronage for each member from new contributions for the current year\n",
    "        and existing equity from previous years.\n",
    "    \"\"\"\n",
    "    patronage_df = prev_equity_df.set_index('member_id')\n",
    "    \n",
    "    patronage_df['old_patronage'] = patronage_df['equity'] + patronage_df['preferred']\n",
    "    patronage_df['new_patronage'] = compute_new_patronage(contributions_df)['patronage']\n",
    "    patronage_df['patronage'] = patronage_df['old_patronage'] + patronage_df['new_patronage']\n",
    "#     patronage_df.rename(columns={'equity': 'prev_equity', 'preferred': 'prev_preferred'}, inplace=True)\n",
    "#     patronage_df['patronage'] = (\n",
    "#         patronage_df['prev_equity'] + patronage_df['prev_preferred'] + patronage_df['new_patronage'])\n",
    "    patronage_df['proportionate_patronage'] = patronage_df['patronage'] / patronage_df['patronage'].sum()\n",
    "    return patronage_df[['name', 'old_patronage', 'new_patronage', 'patronage', 'proportionate_patronage']]"
   ]
  },
  {
   "cell_type": "code",
   "execution_count": 42,
   "metadata": {},
   "outputs": [
    {
     "data": {
      "text/html": [
       "<div>\n",
       "<style scoped>\n",
       "    .dataframe tbody tr th:only-of-type {\n",
       "        vertical-align: middle;\n",
       "    }\n",
       "\n",
       "    .dataframe tbody tr th {\n",
       "        vertical-align: top;\n",
       "    }\n",
       "\n",
       "    .dataframe thead th {\n",
       "        text-align: right;\n",
       "    }\n",
       "</style>\n",
       "<table border=\"1\" class=\"dataframe\">\n",
       "  <thead>\n",
       "    <tr style=\"text-align: right;\">\n",
       "      <th></th>\n",
       "      <th>name</th>\n",
       "      <th>old_patronage</th>\n",
       "      <th>new_patronage</th>\n",
       "      <th>patronage</th>\n",
       "      <th>proportionate_patronage</th>\n",
       "    </tr>\n",
       "    <tr>\n",
       "      <th>member_id</th>\n",
       "      <th></th>\n",
       "      <th></th>\n",
       "      <th></th>\n",
       "      <th></th>\n",
       "      <th></th>\n",
       "    </tr>\n",
       "  </thead>\n",
       "  <tbody>\n",
       "    <tr>\n",
       "      <th>1</th>\n",
       "      <td>Alice</td>\n",
       "      <td>0</td>\n",
       "      <td>4799.657534</td>\n",
       "      <td>4799.657534</td>\n",
       "      <td>0.306647</td>\n",
       "    </tr>\n",
       "    <tr>\n",
       "      <th>2</th>\n",
       "      <td>Bob</td>\n",
       "      <td>125</td>\n",
       "      <td>5771.232877</td>\n",
       "      <td>5896.232877</td>\n",
       "      <td>0.376707</td>\n",
       "    </tr>\n",
       "    <tr>\n",
       "      <th>3</th>\n",
       "      <td>Darwin</td>\n",
       "      <td>0</td>\n",
       "      <td>2859.931507</td>\n",
       "      <td>2859.931507</td>\n",
       "      <td>0.182719</td>\n",
       "    </tr>\n",
       "    <tr>\n",
       "      <th>4</th>\n",
       "      <td>Eve</td>\n",
       "      <td>1225</td>\n",
       "      <td>871.232877</td>\n",
       "      <td>2096.232877</td>\n",
       "      <td>0.133927</td>\n",
       "    </tr>\n",
       "  </tbody>\n",
       "</table>\n",
       "</div>"
      ],
      "text/plain": [
       "             name  old_patronage  new_patronage    patronage  \\\n",
       "member_id                                                      \n",
       "1           Alice              0    4799.657534  4799.657534   \n",
       "2             Bob            125    5771.232877  5896.232877   \n",
       "3          Darwin              0    2859.931507  2859.931507   \n",
       "4             Eve           1225     871.232877  2096.232877   \n",
       "\n",
       "           proportionate_patronage  \n",
       "member_id                           \n",
       "1                         0.306647  \n",
       "2                         0.376707  \n",
       "3                         0.182719  \n",
       "4                         0.133927  "
      ]
     },
     "execution_count": 42,
     "metadata": {},
     "output_type": "execute_result"
    }
   ],
   "source": [
    "temp = compute_patronage(prev_equity_df, contributions_df)\n",
    "temp"
   ]
  },
  {
   "cell_type": "code",
   "execution_count": 43,
   "metadata": {},
   "outputs": [
    {
     "data": {
      "text/plain": [
       "15652.054794520547"
      ]
     },
     "execution_count": 43,
     "metadata": {},
     "output_type": "execute_result"
    }
   ],
   "source": [
    "#Total 2017 patronage, used to compute the proportionate patronage for each member.\n",
    "#This number is the time-weighted average amount of capital for the year 2017.\n",
    "temp['patronage'].sum()"
   ]
  },
  {
   "cell_type": "code",
   "execution_count": null,
   "metadata": {
    "collapsed": true
   },
   "outputs": [],
   "source": []
  }
 ],
 "metadata": {
  "kernelspec": {
   "display_name": "Python 3",
   "language": "python",
   "name": "python3"
  },
  "language_info": {
   "codemirror_mode": {
    "name": "ipython",
    "version": 3
   },
   "file_extension": ".py",
   "mimetype": "text/x-python",
   "name": "python",
   "nbconvert_exporter": "python",
   "pygments_lexer": "ipython3",
   "version": "3.6.3"
  }
 },
 "nbformat": 4,
 "nbformat_minor": 2
}
