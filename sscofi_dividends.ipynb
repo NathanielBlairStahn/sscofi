{
 "cells": [
  {
   "cell_type": "markdown",
   "metadata": {},
   "source": [
    "# Dividend Calculation Tests\n",
    "Tue 4 Sep 2018 - Sat 8 Sep 2018"
   ]
  },
  {
   "cell_type": "code",
   "execution_count": 1,
   "metadata": {
    "collapsed": true
   },
   "outputs": [],
   "source": [
    "import numpy as np\n",
    "import pandas as pd"
   ]
  },
  {
   "cell_type": "markdown",
   "metadata": {},
   "source": [
    "## Create DataFrames with test data\n",
    "\n",
    "Test negative amounts as well -- the patronage calculations should work the same way if people withdraw money.\n",
    "\n",
    "Also, rename equity types from 'preferred', 'membership', and 'equity' to 'preferred', 'membership', and 'other', and use the term 'equity' to refer to all three types."
   ]
  },
  {
   "cell_type": "code",
   "execution_count": 2,
   "metadata": {},
   "outputs": [
    {
     "data": {
      "text/html": [
       "<div>\n",
       "<style scoped>\n",
       "    .dataframe tbody tr th:only-of-type {\n",
       "        vertical-align: middle;\n",
       "    }\n",
       "\n",
       "    .dataframe tbody tr th {\n",
       "        vertical-align: top;\n",
       "    }\n",
       "\n",
       "    .dataframe thead th {\n",
       "        text-align: right;\n",
       "    }\n",
       "</style>\n",
       "<table border=\"1\" class=\"dataframe\">\n",
       "  <thead>\n",
       "    <tr style=\"text-align: right;\">\n",
       "      <th></th>\n",
       "      <th>member_id</th>\n",
       "      <th>date</th>\n",
       "      <th>amount</th>\n",
       "      <th>type</th>\n",
       "    </tr>\n",
       "  </thead>\n",
       "  <tbody>\n",
       "    <tr>\n",
       "      <th>0</th>\n",
       "      <td>1</td>\n",
       "      <td>1/3/2017</td>\n",
       "      <td>125</td>\n",
       "      <td>membership</td>\n",
       "    </tr>\n",
       "    <tr>\n",
       "      <th>1</th>\n",
       "      <td>2</td>\n",
       "      <td>1/31/2017</td>\n",
       "      <td>400</td>\n",
       "      <td>other</td>\n",
       "    </tr>\n",
       "    <tr>\n",
       "      <th>2</th>\n",
       "      <td>1</td>\n",
       "      <td>2/20/2017</td>\n",
       "      <td>5000</td>\n",
       "      <td>preferred</td>\n",
       "    </tr>\n",
       "    <tr>\n",
       "      <th>3</th>\n",
       "      <td>3</td>\n",
       "      <td>3/15/2017</td>\n",
       "      <td>-2000</td>\n",
       "      <td>preferred</td>\n",
       "    </tr>\n",
       "    <tr>\n",
       "      <th>4</th>\n",
       "      <td>1</td>\n",
       "      <td>4/13/2017</td>\n",
       "      <td>500</td>\n",
       "      <td>other</td>\n",
       "    </tr>\n",
       "    <tr>\n",
       "      <th>5</th>\n",
       "      <td>2</td>\n",
       "      <td>4/13/2017</td>\n",
       "      <td>7500</td>\n",
       "      <td>preferred</td>\n",
       "    </tr>\n",
       "    <tr>\n",
       "      <th>6</th>\n",
       "      <td>4</td>\n",
       "      <td>6/24/2017</td>\n",
       "      <td>125</td>\n",
       "      <td>mebership</td>\n",
       "    </tr>\n",
       "    <tr>\n",
       "      <th>7</th>\n",
       "      <td>5</td>\n",
       "      <td>7/17/2017</td>\n",
       "      <td>3000</td>\n",
       "      <td>preferred</td>\n",
       "    </tr>\n",
       "    <tr>\n",
       "      <th>8</th>\n",
       "      <td>6</td>\n",
       "      <td>8/22/2017</td>\n",
       "      <td>-700</td>\n",
       "      <td>other</td>\n",
       "    </tr>\n",
       "    <tr>\n",
       "      <th>9</th>\n",
       "      <td>4</td>\n",
       "      <td>10/18/2017</td>\n",
       "      <td>20000</td>\n",
       "      <td>preferred</td>\n",
       "    </tr>\n",
       "    <tr>\n",
       "      <th>10</th>\n",
       "      <td>6</td>\n",
       "      <td>11/11/2017</td>\n",
       "      <td>1500</td>\n",
       "      <td>preferred</td>\n",
       "    </tr>\n",
       "  </tbody>\n",
       "</table>\n",
       "</div>"
      ],
      "text/plain": [
       "    member_id        date  amount        type\n",
       "0           1    1/3/2017     125  membership\n",
       "1           2   1/31/2017     400       other\n",
       "2           1   2/20/2017    5000   preferred\n",
       "3           3   3/15/2017   -2000   preferred\n",
       "4           1   4/13/2017     500       other\n",
       "5           2   4/13/2017    7500   preferred\n",
       "6           4   6/24/2017     125   mebership\n",
       "7           5   7/17/2017    3000   preferred\n",
       "8           6   8/22/2017    -700       other\n",
       "9           4  10/18/2017   20000   preferred\n",
       "10          6  11/11/2017    1500   preferred"
      ]
     },
     "execution_count": 2,
     "metadata": {},
     "output_type": "execute_result"
    }
   ],
   "source": [
    "contributions_df = pd.DataFrame([\n",
    "    [1, \"1/3/2017\", 125, 'membership'],\n",
    "    [2, \"1/31/2017\", 400, 'other'],\n",
    "    [1, \"2/20/2017\", 5000, 'preferred'],\n",
    "    [3, \"3/15/2017\", -2000, 'preferred'],\n",
    "    [1, \"4/13/2017\", 500, 'other'],\n",
    "    [2, \"4/13/2017\", 7500, 'preferred'],\n",
    "    [4, \"6/24/2017\", 125, 'mebership'],\n",
    "    [5, \"7/17/2017\", 3000, \"preferred\"],\n",
    "    [6, \"8/22/2017\", -700, 'other'],\n",
    "    [4, \"10/18/2017\", 20000, 'preferred'],\n",
    "    [6, \"11/11/2017\", 1500, 'preferred']\n",
    "], columns = ['member_id','date','amount','type'])\n",
    "contributions_df"
   ]
  },
  {
   "cell_type": "markdown",
   "metadata": {},
   "source": [
    "Add new members and new columns to reflect new equity naming convention."
   ]
  },
  {
   "cell_type": "code",
   "execution_count": 3,
   "metadata": {},
   "outputs": [
    {
     "data": {
      "text/html": [
       "<div>\n",
       "<style scoped>\n",
       "    .dataframe tbody tr th:only-of-type {\n",
       "        vertical-align: middle;\n",
       "    }\n",
       "\n",
       "    .dataframe tbody tr th {\n",
       "        vertical-align: top;\n",
       "    }\n",
       "\n",
       "    .dataframe thead th {\n",
       "        text-align: right;\n",
       "    }\n",
       "</style>\n",
       "<table border=\"1\" class=\"dataframe\">\n",
       "  <thead>\n",
       "    <tr style=\"text-align: right;\">\n",
       "      <th></th>\n",
       "      <th>member_id</th>\n",
       "      <th>name</th>\n",
       "      <th>membership</th>\n",
       "      <th>preferred</th>\n",
       "      <th>other</th>\n",
       "      <th>equity</th>\n",
       "    </tr>\n",
       "  </thead>\n",
       "  <tbody>\n",
       "    <tr>\n",
       "      <th>0</th>\n",
       "      <td>1</td>\n",
       "      <td>Alice</td>\n",
       "      <td>0</td>\n",
       "      <td>0</td>\n",
       "      <td>0</td>\n",
       "      <td>0</td>\n",
       "    </tr>\n",
       "    <tr>\n",
       "      <th>1</th>\n",
       "      <td>2</td>\n",
       "      <td>Bob</td>\n",
       "      <td>125</td>\n",
       "      <td>0</td>\n",
       "      <td>0</td>\n",
       "      <td>125</td>\n",
       "    </tr>\n",
       "    <tr>\n",
       "      <th>2</th>\n",
       "      <td>3</td>\n",
       "      <td>Candice</td>\n",
       "      <td>125</td>\n",
       "      <td>3000</td>\n",
       "      <td>200</td>\n",
       "      <td>3325</td>\n",
       "    </tr>\n",
       "    <tr>\n",
       "      <th>3</th>\n",
       "      <td>4</td>\n",
       "      <td>Darwin</td>\n",
       "      <td>0</td>\n",
       "      <td>0</td>\n",
       "      <td>0</td>\n",
       "      <td>0</td>\n",
       "    </tr>\n",
       "    <tr>\n",
       "      <th>4</th>\n",
       "      <td>5</td>\n",
       "      <td>Eve</td>\n",
       "      <td>125</td>\n",
       "      <td>1000</td>\n",
       "      <td>100</td>\n",
       "      <td>1225</td>\n",
       "    </tr>\n",
       "    <tr>\n",
       "      <th>5</th>\n",
       "      <td>6</td>\n",
       "      <td>Federico</td>\n",
       "      <td>125</td>\n",
       "      <td>0</td>\n",
       "      <td>700</td>\n",
       "      <td>825</td>\n",
       "    </tr>\n",
       "  </tbody>\n",
       "</table>\n",
       "</div>"
      ],
      "text/plain": [
       "   member_id      name  membership  preferred  other  equity\n",
       "0          1     Alice           0          0      0       0\n",
       "1          2       Bob         125          0      0     125\n",
       "2          3   Candice         125       3000    200    3325\n",
       "3          4    Darwin           0          0      0       0\n",
       "4          5       Eve         125       1000    100    1225\n",
       "5          6  Federico         125          0    700     825"
      ]
     },
     "execution_count": 3,
     "metadata": {},
     "output_type": "execute_result"
    }
   ],
   "source": [
    "prev_equity_df = pd.DataFrame([\n",
    "    [1, 'Alice', 0, 0, 0],\n",
    "    [2, 'Bob', 125, 0, 0],\n",
    "    [3, 'Candice', 125, 3000, 200],\n",
    "    [4, 'Darwin', 0, 0, 0],\n",
    "    [5, 'Eve', 125, 1000, 100],\n",
    "    [6, 'Federico', 125, 0, 700]\n",
    "], columns = ['member_id', 'name', 'membership', 'preferred', 'other'])\n",
    "prev_equity_df['equity'] = prev_equity_df['membership'] + prev_equity_df['preferred'] + prev_equity_df['other']\n",
    "prev_equity_df"
   ]
  },
  {
   "cell_type": "markdown",
   "metadata": {},
   "source": [
    "## Collect functions from patronage notebook\n",
    "\n",
    "And edit them to reflect the new equity naming conventions for the input DataFrames."
   ]
  },
  {
   "cell_type": "code",
   "execution_count": 4,
   "metadata": {
    "collapsed": true
   },
   "outputs": [],
   "source": [
    "def fraction_year_remaining(date):\n",
    "    \"\"\"Computes the fraction of the year remaining from a given date.\n",
    "    \"\"\"\n",
    "    date = pd.to_datetime(date)\n",
    "    offset = pd.tseries.offsets.YearBegin()\n",
    "    year = date - offset\n",
    "    next_year = date + offset\n",
    "    #print(offset, year, next_year)\n",
    "    return (next_year - date).days / (next_year - year).days\n",
    "\n",
    "def compute_transaction_patronage(contributions_df):\n",
    "    \"\"\"Compute patronage for each transaction based on amount and fraction of year remaining.\n",
    "    \"\"\"\n",
    "    contributions_df = contributions_df.copy()\n",
    "    patronage = contributions_df['amount']*contributions_df['date'].apply(fraction_year_remaining)\n",
    "    contributions_df['patronage'] = patronage\n",
    "    return contributions_df\n",
    "\n",
    "def compute_new_patronage(contributions_df):\n",
    "    \"\"\"Compute each member's patronage from new contributions for the current year.\n",
    "    \"\"\"\n",
    "    contributions_df = compute_transaction_patronage(contributions_df)\n",
    "    return contributions_df[['member_id','patronage']].groupby(by='member_id').sum()\n",
    "\n",
    "def compute_patronage(prev_equity_df, contributions_df):\n",
    "    \"\"\"Compute total patronage for each member from new contributions for the current year\n",
    "        and existing equity from previous years.\n",
    "    \"\"\"\n",
    "    patronage_df = prev_equity_df.set_index('member_id')[['name', 'equity']]\n",
    "    patronage_df.rename(columns={'equity': 'old_patronage'}, inplace=True)\n",
    "    \n",
    "#     patronage_df['old_patronage'] = patronage_df['equity'] + patronage_df['preferred']\n",
    "    patronage_df['new_patronage'] = compute_new_patronage(contributions_df)['patronage']\n",
    "    patronage_df['patronage'] = patronage_df['old_patronage'] + patronage_df['new_patronage']\n",
    "    \n",
    "    patronage_df['proportionate_patronage'] = patronage_df['patronage'] / patronage_df['patronage'].sum()\n",
    "    \n",
    "    return patronage_df#[['name', 'old_patronage', 'new_patronage', 'patronage', 'proportionate_patronage']]"
   ]
  },
  {
   "cell_type": "code",
   "execution_count": 5,
   "metadata": {},
   "outputs": [
    {
     "data": {
      "text/html": [
       "<div>\n",
       "<style scoped>\n",
       "    .dataframe tbody tr th:only-of-type {\n",
       "        vertical-align: middle;\n",
       "    }\n",
       "\n",
       "    .dataframe tbody tr th {\n",
       "        vertical-align: top;\n",
       "    }\n",
       "\n",
       "    .dataframe thead th {\n",
       "        text-align: right;\n",
       "    }\n",
       "</style>\n",
       "<table border=\"1\" class=\"dataframe\">\n",
       "  <thead>\n",
       "    <tr style=\"text-align: right;\">\n",
       "      <th></th>\n",
       "      <th>name</th>\n",
       "      <th>old_patronage</th>\n",
       "      <th>new_patronage</th>\n",
       "      <th>patronage</th>\n",
       "      <th>proportionate_patronage</th>\n",
       "    </tr>\n",
       "    <tr>\n",
       "      <th>member_id</th>\n",
       "      <th></th>\n",
       "      <th></th>\n",
       "      <th></th>\n",
       "      <th></th>\n",
       "      <th></th>\n",
       "    </tr>\n",
       "  </thead>\n",
       "  <tbody>\n",
       "    <tr>\n",
       "      <th>1</th>\n",
       "      <td>Alice</td>\n",
       "      <td>0</td>\n",
       "      <td>4799.657534</td>\n",
       "      <td>4799.657534</td>\n",
       "      <td>0.240185</td>\n",
       "    </tr>\n",
       "    <tr>\n",
       "      <th>2</th>\n",
       "      <td>Bob</td>\n",
       "      <td>125</td>\n",
       "      <td>5771.232877</td>\n",
       "      <td>5896.232877</td>\n",
       "      <td>0.295060</td>\n",
       "    </tr>\n",
       "    <tr>\n",
       "      <th>3</th>\n",
       "      <td>Candice</td>\n",
       "      <td>3325</td>\n",
       "      <td>-1600.000000</td>\n",
       "      <td>1725.000000</td>\n",
       "      <td>0.086323</td>\n",
       "    </tr>\n",
       "    <tr>\n",
       "      <th>4</th>\n",
       "      <td>Darwin</td>\n",
       "      <td>0</td>\n",
       "      <td>4175.000000</td>\n",
       "      <td>4175.000000</td>\n",
       "      <td>0.208926</td>\n",
       "    </tr>\n",
       "    <tr>\n",
       "      <th>5</th>\n",
       "      <td>Eve</td>\n",
       "      <td>1225</td>\n",
       "      <td>1380.821918</td>\n",
       "      <td>2605.821918</td>\n",
       "      <td>0.130401</td>\n",
       "    </tr>\n",
       "    <tr>\n",
       "      <th>6</th>\n",
       "      <td>Federico</td>\n",
       "      <td>825</td>\n",
       "      <td>-43.561644</td>\n",
       "      <td>781.438356</td>\n",
       "      <td>0.039105</td>\n",
       "    </tr>\n",
       "  </tbody>\n",
       "</table>\n",
       "</div>"
      ],
      "text/plain": [
       "               name  old_patronage  new_patronage    patronage  \\\n",
       "member_id                                                        \n",
       "1             Alice              0    4799.657534  4799.657534   \n",
       "2               Bob            125    5771.232877  5896.232877   \n",
       "3           Candice           3325   -1600.000000  1725.000000   \n",
       "4            Darwin              0    4175.000000  4175.000000   \n",
       "5               Eve           1225    1380.821918  2605.821918   \n",
       "6          Federico            825     -43.561644   781.438356   \n",
       "\n",
       "           proportionate_patronage  \n",
       "member_id                           \n",
       "1                         0.240185  \n",
       "2                         0.295060  \n",
       "3                         0.086323  \n",
       "4                         0.208926  \n",
       "5                         0.130401  \n",
       "6                         0.039105  "
      ]
     },
     "execution_count": 5,
     "metadata": {},
     "output_type": "execute_result"
    }
   ],
   "source": [
    "patronage_df = compute_patronage(prev_equity_df, contributions_df)\n",
    "patronage_df"
   ]
  },
  {
   "cell_type": "code",
   "execution_count": 6,
   "metadata": {},
   "outputs": [
    {
     "data": {
      "text/html": [
       "<div>\n",
       "<style scoped>\n",
       "    .dataframe tbody tr th:only-of-type {\n",
       "        vertical-align: middle;\n",
       "    }\n",
       "\n",
       "    .dataframe tbody tr th {\n",
       "        vertical-align: top;\n",
       "    }\n",
       "\n",
       "    .dataframe thead th {\n",
       "        text-align: right;\n",
       "    }\n",
       "</style>\n",
       "<table border=\"1\" class=\"dataframe\">\n",
       "  <thead>\n",
       "    <tr style=\"text-align: right;\">\n",
       "      <th></th>\n",
       "      <th>member_id</th>\n",
       "      <th>date</th>\n",
       "      <th>amount</th>\n",
       "      <th>type</th>\n",
       "      <th>patronage</th>\n",
       "    </tr>\n",
       "  </thead>\n",
       "  <tbody>\n",
       "    <tr>\n",
       "      <th>0</th>\n",
       "      <td>1</td>\n",
       "      <td>1/3/2017</td>\n",
       "      <td>125</td>\n",
       "      <td>membership</td>\n",
       "      <td>124.315068</td>\n",
       "    </tr>\n",
       "    <tr>\n",
       "      <th>1</th>\n",
       "      <td>2</td>\n",
       "      <td>1/31/2017</td>\n",
       "      <td>400</td>\n",
       "      <td>other</td>\n",
       "      <td>367.123288</td>\n",
       "    </tr>\n",
       "    <tr>\n",
       "      <th>2</th>\n",
       "      <td>1</td>\n",
       "      <td>2/20/2017</td>\n",
       "      <td>5000</td>\n",
       "      <td>preferred</td>\n",
       "      <td>4315.068493</td>\n",
       "    </tr>\n",
       "    <tr>\n",
       "      <th>3</th>\n",
       "      <td>3</td>\n",
       "      <td>3/15/2017</td>\n",
       "      <td>-2000</td>\n",
       "      <td>preferred</td>\n",
       "      <td>-1600.000000</td>\n",
       "    </tr>\n",
       "    <tr>\n",
       "      <th>4</th>\n",
       "      <td>1</td>\n",
       "      <td>4/13/2017</td>\n",
       "      <td>500</td>\n",
       "      <td>other</td>\n",
       "      <td>360.273973</td>\n",
       "    </tr>\n",
       "    <tr>\n",
       "      <th>5</th>\n",
       "      <td>2</td>\n",
       "      <td>4/13/2017</td>\n",
       "      <td>7500</td>\n",
       "      <td>preferred</td>\n",
       "      <td>5404.109589</td>\n",
       "    </tr>\n",
       "    <tr>\n",
       "      <th>6</th>\n",
       "      <td>4</td>\n",
       "      <td>6/24/2017</td>\n",
       "      <td>125</td>\n",
       "      <td>mebership</td>\n",
       "      <td>65.410959</td>\n",
       "    </tr>\n",
       "    <tr>\n",
       "      <th>7</th>\n",
       "      <td>5</td>\n",
       "      <td>7/17/2017</td>\n",
       "      <td>3000</td>\n",
       "      <td>preferred</td>\n",
       "      <td>1380.821918</td>\n",
       "    </tr>\n",
       "    <tr>\n",
       "      <th>8</th>\n",
       "      <td>6</td>\n",
       "      <td>8/22/2017</td>\n",
       "      <td>-700</td>\n",
       "      <td>other</td>\n",
       "      <td>-253.150685</td>\n",
       "    </tr>\n",
       "    <tr>\n",
       "      <th>9</th>\n",
       "      <td>4</td>\n",
       "      <td>10/18/2017</td>\n",
       "      <td>20000</td>\n",
       "      <td>preferred</td>\n",
       "      <td>4109.589041</td>\n",
       "    </tr>\n",
       "    <tr>\n",
       "      <th>10</th>\n",
       "      <td>6</td>\n",
       "      <td>11/11/2017</td>\n",
       "      <td>1500</td>\n",
       "      <td>preferred</td>\n",
       "      <td>209.589041</td>\n",
       "    </tr>\n",
       "  </tbody>\n",
       "</table>\n",
       "</div>"
      ],
      "text/plain": [
       "    member_id        date  amount        type    patronage\n",
       "0           1    1/3/2017     125  membership   124.315068\n",
       "1           2   1/31/2017     400       other   367.123288\n",
       "2           1   2/20/2017    5000   preferred  4315.068493\n",
       "3           3   3/15/2017   -2000   preferred -1600.000000\n",
       "4           1   4/13/2017     500       other   360.273973\n",
       "5           2   4/13/2017    7500   preferred  5404.109589\n",
       "6           4   6/24/2017     125   mebership    65.410959\n",
       "7           5   7/17/2017    3000   preferred  1380.821918\n",
       "8           6   8/22/2017    -700       other  -253.150685\n",
       "9           4  10/18/2017   20000   preferred  4109.589041\n",
       "10          6  11/11/2017    1500   preferred   209.589041"
      ]
     },
     "execution_count": 6,
     "metadata": {},
     "output_type": "execute_result"
    }
   ],
   "source": [
    "compute_transaction_patronage(contributions_df)"
   ]
  },
  {
   "cell_type": "markdown",
   "metadata": {},
   "source": [
    "## Write and test function to compute patronage dividends"
   ]
  },
  {
   "cell_type": "code",
   "execution_count": 7,
   "metadata": {},
   "outputs": [
    {
     "data": {
      "text/plain": [
       "1874.37"
      ]
     },
     "execution_count": 7,
     "metadata": {},
     "output_type": "execute_result"
    }
   ],
   "source": [
    "#Set the profit for the year\n",
    "profit = 1874.37 #1,981.18 #=Actual profit for 2017\n",
    "profit"
   ]
  },
  {
   "cell_type": "code",
   "execution_count": 8,
   "metadata": {},
   "outputs": [
    {
     "data": {
      "text/plain": [
       "1874.3699999999999"
      ]
     },
     "execution_count": 8,
     "metadata": {},
     "output_type": "execute_result"
    }
   ],
   "source": [
    "np.floor(100*profit/2)/100 + np.ceil(100*profit/2)/100"
   ]
  },
  {
   "cell_type": "code",
   "execution_count": 9,
   "metadata": {},
   "outputs": [
    {
     "data": {
      "text/plain": [
       "937.185"
      ]
     },
     "execution_count": 9,
     "metadata": {},
     "output_type": "execute_result"
    }
   ],
   "source": [
    "profit/2"
   ]
  },
  {
   "cell_type": "code",
   "execution_count": 10,
   "metadata": {},
   "outputs": [
    {
     "data": {
      "text/plain": [
       "937.17999999999995"
      ]
     },
     "execution_count": 10,
     "metadata": {},
     "output_type": "execute_result"
    }
   ],
   "source": [
    "np.round(profit/2, 2)"
   ]
  },
  {
   "cell_type": "code",
   "execution_count": 11,
   "metadata": {},
   "outputs": [
    {
     "data": {
      "text/plain": [
       "1874.3599999999999"
      ]
     },
     "execution_count": 11,
     "metadata": {},
     "output_type": "execute_result"
    }
   ],
   "source": [
    "2*np.round(profit/2, 2)"
   ]
  },
  {
   "cell_type": "code",
   "execution_count": 12,
   "metadata": {
    "collapsed": true
   },
   "outputs": [],
   "source": [
    "def compute_indiv_collective_profit(profit, percent_individual):\n",
    "    \"\"\"Compute the individual and collective net income from the total net income.\n",
    "    \"\"\"\n",
    "    indiv_profit = np.round(profit * percent_individual/100, 2)\n",
    "    collective_profit = profit - indiv_profit\n",
    "    return indiv_profit, collective_profit\n",
    "\n",
    "def compute_dividends(patronage_df, profit, percent_individual=50):\n",
    "    \"\"\"Compute each member's dividend based on patronage for the year.\n",
    "    \"\"\"\n",
    "#     indiv_profit, collective_profit = compute_indiv_collective_profit(profit, percent_individual)\n",
    "    dividend_df = patronage_df[['name', 'proportionate_patronage']].copy()\n",
    "    \n",
    "    #Compute individual patronage allocations\n",
    "    dividend_df['dividend'] = np.round(\n",
    "        dividend_df['proportionate_patronage'] * profit * percent_individual/100, 2)\n",
    "    \n",
    "    # To account for rounding amounts to the nearest cent, we add up the individual dividends\n",
    "    # to get the actual amount allocated to individual net income. Then we subtract this amount\n",
    "    # from the total profit to get the collective net income.\n",
    "    indiv_profit = dividend_df['dividend'].sum()\n",
    "    collective_profit = profit - indiv_profit\n",
    "    \n",
    "    # We reserve member_id=0 for the collective account (or we could simply use names as keys)\n",
    "    dividend_df.loc[0] = pd.Series({\n",
    "        'name': 'CollectiveAcct',\n",
    "        'proportionate_patronage': collective_profit / indiv_profit,\n",
    "        'dividend': collective_profit\n",
    "    })\n",
    "    return dividend_df"
   ]
  },
  {
   "cell_type": "code",
   "execution_count": 13,
   "metadata": {},
   "outputs": [
    {
     "data": {
      "text/plain": [
       "(937.17999999999995, 937.18999999999994)"
      ]
     },
     "execution_count": 13,
     "metadata": {},
     "output_type": "execute_result"
    }
   ],
   "source": [
    "temp = compute_indiv_collective_profit(profit, 50)\n",
    "temp"
   ]
  },
  {
   "cell_type": "code",
   "execution_count": 14,
   "metadata": {},
   "outputs": [
    {
     "data": {
      "text/plain": [
       "1874.3699999999999"
      ]
     },
     "execution_count": 14,
     "metadata": {},
     "output_type": "execute_result"
    }
   ],
   "source": [
    "sum(temp)"
   ]
  },
  {
   "cell_type": "code",
   "execution_count": 15,
   "metadata": {},
   "outputs": [
    {
     "data": {
      "text/html": [
       "<div>\n",
       "<style scoped>\n",
       "    .dataframe tbody tr th:only-of-type {\n",
       "        vertical-align: middle;\n",
       "    }\n",
       "\n",
       "    .dataframe tbody tr th {\n",
       "        vertical-align: top;\n",
       "    }\n",
       "\n",
       "    .dataframe thead th {\n",
       "        text-align: right;\n",
       "    }\n",
       "</style>\n",
       "<table border=\"1\" class=\"dataframe\">\n",
       "  <thead>\n",
       "    <tr style=\"text-align: right;\">\n",
       "      <th></th>\n",
       "      <th>name</th>\n",
       "      <th>proportionate_patronage</th>\n",
       "      <th>dividend</th>\n",
       "    </tr>\n",
       "    <tr>\n",
       "      <th>member_id</th>\n",
       "      <th></th>\n",
       "      <th></th>\n",
       "      <th></th>\n",
       "    </tr>\n",
       "  </thead>\n",
       "  <tbody>\n",
       "    <tr>\n",
       "      <th>1</th>\n",
       "      <td>Alice</td>\n",
       "      <td>0.240185</td>\n",
       "      <td>225.10</td>\n",
       "    </tr>\n",
       "    <tr>\n",
       "      <th>2</th>\n",
       "      <td>Bob</td>\n",
       "      <td>0.295060</td>\n",
       "      <td>276.53</td>\n",
       "    </tr>\n",
       "    <tr>\n",
       "      <th>3</th>\n",
       "      <td>Candice</td>\n",
       "      <td>0.086323</td>\n",
       "      <td>80.90</td>\n",
       "    </tr>\n",
       "    <tr>\n",
       "      <th>4</th>\n",
       "      <td>Darwin</td>\n",
       "      <td>0.208926</td>\n",
       "      <td>195.80</td>\n",
       "    </tr>\n",
       "    <tr>\n",
       "      <th>5</th>\n",
       "      <td>Eve</td>\n",
       "      <td>0.130401</td>\n",
       "      <td>122.21</td>\n",
       "    </tr>\n",
       "    <tr>\n",
       "      <th>6</th>\n",
       "      <td>Federico</td>\n",
       "      <td>0.039105</td>\n",
       "      <td>36.65</td>\n",
       "    </tr>\n",
       "    <tr>\n",
       "      <th>0</th>\n",
       "      <td>CollectiveAcct</td>\n",
       "      <td>0.999989</td>\n",
       "      <td>937.18</td>\n",
       "    </tr>\n",
       "  </tbody>\n",
       "</table>\n",
       "</div>"
      ],
      "text/plain": [
       "                     name  proportionate_patronage  dividend\n",
       "member_id                                                   \n",
       "1                   Alice                 0.240185    225.10\n",
       "2                     Bob                 0.295060    276.53\n",
       "3                 Candice                 0.086323     80.90\n",
       "4                  Darwin                 0.208926    195.80\n",
       "5                     Eve                 0.130401    122.21\n",
       "6                Federico                 0.039105     36.65\n",
       "0          CollectiveAcct                 0.999989    937.18"
      ]
     },
     "execution_count": 15,
     "metadata": {},
     "output_type": "execute_result"
    }
   ],
   "source": [
    "#Note that the collective proportionate patronage should be approximately 1.0,\n",
    "#assuming 50% of net income is collective.\n",
    "#It may be slightly greater or slightly less depending on whether\n",
    "#the actual collective net profit is greater or the individual net\n",
    "#profit is greater after rounding to nearest cents.\n",
    "dividend_df = compute_dividends(patronage_df, profit)\n",
    "dividend_df"
   ]
  },
  {
   "cell_type": "code",
   "execution_count": 16,
   "metadata": {},
   "outputs": [
    {
     "data": {
      "text/plain": [
       "(937.18999999999994, 1874.3699999999999)"
      ]
     },
     "execution_count": 16,
     "metadata": {},
     "output_type": "execute_result"
    }
   ],
   "source": [
    "#Check that the individual member dividends add up to about half the total profit,\n",
    "#and that the individual allocations plus the collective allocations add up\n",
    "#exactly (within floating point accuracy) to the total profit.\n",
    "dividend_df.loc[1:6,'dividend'].sum(), dividend_df['dividend'].sum()"
   ]
  },
  {
   "cell_type": "code",
   "execution_count": 17,
   "metadata": {},
   "outputs": [
    {
     "data": {
      "text/plain": [
       "937.17999999999995"
      ]
     },
     "execution_count": 17,
     "metadata": {},
     "output_type": "execute_result"
    }
   ],
   "source": [
    "#See the floating point representation of the collective allocation\n",
    "dividend_df.loc[0,'dividend']"
   ]
  },
  {
   "cell_type": "code",
   "execution_count": 18,
   "metadata": {},
   "outputs": [
    {
     "data": {
      "text/plain": [
       "(0.99999999999999978, 1.9999893298050553)"
      ]
     },
     "execution_count": 18,
     "metadata": {},
     "output_type": "execute_result"
    }
   ],
   "source": [
    "#Check that the members' proportionate patronage ammounts add up to 1.0,\n",
    "#and see the floating point representation of the collective proportionate patronage.\n",
    "dividend_df.loc[1:6, 'proportionate_patronage'].sum(), dividend_df['proportionate_patronage'].sum()"
   ]
  },
  {
   "cell_type": "code",
   "execution_count": 19,
   "metadata": {},
   "outputs": [
    {
     "name": "stdout",
     "output_type": "stream",
     "text": [
      "ind: 1312.06\n",
      "col: 562.31\n",
      "tot: 1874.37\n",
      "member_id\n",
      "1    0.168130\n",
      "2    0.206542\n",
      "3    0.060426\n",
      "4    0.146248\n",
      "5    0.091281\n",
      "6    0.027373\n",
      "0    0.299999\n",
      "Name: proportionate_patronage, dtype: float64\n"
     ]
    },
    {
     "data": {
      "text/html": [
       "<div>\n",
       "<style scoped>\n",
       "    .dataframe tbody tr th:only-of-type {\n",
       "        vertical-align: middle;\n",
       "    }\n",
       "\n",
       "    .dataframe tbody tr th {\n",
       "        vertical-align: top;\n",
       "    }\n",
       "\n",
       "    .dataframe thead th {\n",
       "        text-align: right;\n",
       "    }\n",
       "</style>\n",
       "<table border=\"1\" class=\"dataframe\">\n",
       "  <thead>\n",
       "    <tr style=\"text-align: right;\">\n",
       "      <th></th>\n",
       "      <th>name</th>\n",
       "      <th>proportionate_patronage</th>\n",
       "      <th>dividend</th>\n",
       "    </tr>\n",
       "    <tr>\n",
       "      <th>member_id</th>\n",
       "      <th></th>\n",
       "      <th></th>\n",
       "      <th></th>\n",
       "    </tr>\n",
       "  </thead>\n",
       "  <tbody>\n",
       "    <tr>\n",
       "      <th>1</th>\n",
       "      <td>Alice</td>\n",
       "      <td>0.240185</td>\n",
       "      <td>315.14</td>\n",
       "    </tr>\n",
       "    <tr>\n",
       "      <th>2</th>\n",
       "      <td>Bob</td>\n",
       "      <td>0.295060</td>\n",
       "      <td>387.14</td>\n",
       "    </tr>\n",
       "    <tr>\n",
       "      <th>3</th>\n",
       "      <td>Candice</td>\n",
       "      <td>0.086323</td>\n",
       "      <td>113.26</td>\n",
       "    </tr>\n",
       "    <tr>\n",
       "      <th>4</th>\n",
       "      <td>Darwin</td>\n",
       "      <td>0.208926</td>\n",
       "      <td>274.12</td>\n",
       "    </tr>\n",
       "    <tr>\n",
       "      <th>5</th>\n",
       "      <td>Eve</td>\n",
       "      <td>0.130401</td>\n",
       "      <td>171.09</td>\n",
       "    </tr>\n",
       "    <tr>\n",
       "      <th>6</th>\n",
       "      <td>Federico</td>\n",
       "      <td>0.039105</td>\n",
       "      <td>51.31</td>\n",
       "    </tr>\n",
       "    <tr>\n",
       "      <th>0</th>\n",
       "      <td>CollectiveAcct</td>\n",
       "      <td>0.428570</td>\n",
       "      <td>562.31</td>\n",
       "    </tr>\n",
       "  </tbody>\n",
       "</table>\n",
       "</div>"
      ],
      "text/plain": [
       "                     name  proportionate_patronage  dividend\n",
       "member_id                                                   \n",
       "1                   Alice                 0.240185    315.14\n",
       "2                     Bob                 0.295060    387.14\n",
       "3                 Candice                 0.086323    113.26\n",
       "4                  Darwin                 0.208926    274.12\n",
       "5                     Eve                 0.130401    171.09\n",
       "6                Federico                 0.039105     51.31\n",
       "0          CollectiveAcct                 0.428570    562.31"
      ]
     },
     "execution_count": 19,
     "metadata": {},
     "output_type": "execute_result"
    }
   ],
   "source": [
    "percent = 70\n",
    "temp = compute_dividends(patronage_df, profit, percent_individual=percent)\n",
    "print('ind: {}\\ncol: {}'.format(*compute_indiv_collective_profit(profit, percent)))\n",
    "print('tot:', temp['dividend'].sum())\n",
    "\n",
    "#This ratio gives the percentages of the total profit rather than the percentages\n",
    "#relative to the individual portion of the profit.\n",
    "print(temp['proportionate_patronage']/temp['proportionate_patronage'].sum())\n",
    "temp"
   ]
  },
  {
   "cell_type": "markdown",
   "metadata": {},
   "source": [
    "## Write a function to compute cash payouts and written notices of allocation "
   ]
  },
  {
   "cell_type": "code",
   "execution_count": 20,
   "metadata": {},
   "outputs": [
    {
     "data": {
      "text/html": [
       "<div>\n",
       "<style scoped>\n",
       "    .dataframe tbody tr th:only-of-type {\n",
       "        vertical-align: middle;\n",
       "    }\n",
       "\n",
       "    .dataframe tbody tr th {\n",
       "        vertical-align: top;\n",
       "    }\n",
       "\n",
       "    .dataframe thead th {\n",
       "        text-align: right;\n",
       "    }\n",
       "</style>\n",
       "<table border=\"1\" class=\"dataframe\">\n",
       "  <thead>\n",
       "    <tr style=\"text-align: right;\">\n",
       "      <th></th>\n",
       "      <th>name</th>\n",
       "      <th>dividend</th>\n",
       "    </tr>\n",
       "    <tr>\n",
       "      <th>member_id</th>\n",
       "      <th></th>\n",
       "      <th></th>\n",
       "    </tr>\n",
       "  </thead>\n",
       "  <tbody>\n",
       "    <tr>\n",
       "      <th>1</th>\n",
       "      <td>Alice</td>\n",
       "      <td>225.10</td>\n",
       "    </tr>\n",
       "    <tr>\n",
       "      <th>2</th>\n",
       "      <td>Bob</td>\n",
       "      <td>276.53</td>\n",
       "    </tr>\n",
       "    <tr>\n",
       "      <th>3</th>\n",
       "      <td>Candice</td>\n",
       "      <td>80.90</td>\n",
       "    </tr>\n",
       "    <tr>\n",
       "      <th>4</th>\n",
       "      <td>Darwin</td>\n",
       "      <td>195.80</td>\n",
       "    </tr>\n",
       "    <tr>\n",
       "      <th>5</th>\n",
       "      <td>Eve</td>\n",
       "      <td>122.21</td>\n",
       "    </tr>\n",
       "    <tr>\n",
       "      <th>6</th>\n",
       "      <td>Federico</td>\n",
       "      <td>36.65</td>\n",
       "    </tr>\n",
       "  </tbody>\n",
       "</table>\n",
       "</div>"
      ],
      "text/plain": [
       "               name  dividend\n",
       "member_id                    \n",
       "1             Alice    225.10\n",
       "2               Bob    276.53\n",
       "3           Candice     80.90\n",
       "4            Darwin    195.80\n",
       "5               Eve    122.21\n",
       "6          Federico     36.65"
      ]
     },
     "execution_count": 20,
     "metadata": {},
     "output_type": "execute_result"
    }
   ],
   "source": [
    "dividend_df.drop(index=0, columns='proportionate_patronage')"
   ]
  },
  {
   "cell_type": "code",
   "execution_count": 28,
   "metadata": {
    "collapsed": true
   },
   "outputs": [],
   "source": [
    "def compute_notice_amount(dividend, first_year_percent, n_years):\n",
    "    if dividend >= 0:\n",
    "        #If dividend is positive, compute the amount to be paid out every year after the first year.\n",
    "        return np.round(dividend*(100-first_year_percent)*0.01/(n_years-1),2)\n",
    "    else:\n",
    "        #If dividend is negative, distribute evenly over all n_years years.\n",
    "        return np.round(dividend/n_years,2)\n",
    "\n",
    "def compute_allocations(dividend_df, year, first_year_percent=50, n_years=3):\n",
    "    \"\"\"Computes allocations over next n_years years after the dividend year.\n",
    "    \"\"\"\n",
    "    allocation_df = dividend_df.drop(index=0, columns='proportionate_patronage')\n",
    "    \n",
    "    #Compute the amount for written notices of allocation after first year\n",
    "    notice_amounts = dividend_df['dividend'].apply(\n",
    "        lambda dividend: compute_notice_amount(dividend, first_year_percent, n_years))\n",
    "    \n",
    "    #Compute first year amount\n",
    "    allocation_df[str(year+1)] = np.round(dividend_df['dividend'] - (n_years-1)*notice_amounts, 2)\n",
    "    \n",
    "    for y in range(year+2, year+n_years+1):\n",
    "        allocation_df[str(y)] = notice_amounts\n",
    "        \n",
    "    allocation_df.rename(columns={'dividend': str(year)+'_dividend'}, inplace=True)\n",
    "        \n",
    "    return allocation_df"
   ]
  },
  {
   "cell_type": "code",
   "execution_count": 32,
   "metadata": {},
   "outputs": [
    {
     "data": {
      "text/html": [
       "<div>\n",
       "<style scoped>\n",
       "    .dataframe tbody tr th:only-of-type {\n",
       "        vertical-align: middle;\n",
       "    }\n",
       "\n",
       "    .dataframe tbody tr th {\n",
       "        vertical-align: top;\n",
       "    }\n",
       "\n",
       "    .dataframe thead th {\n",
       "        text-align: right;\n",
       "    }\n",
       "</style>\n",
       "<table border=\"1\" class=\"dataframe\">\n",
       "  <thead>\n",
       "    <tr style=\"text-align: right;\">\n",
       "      <th></th>\n",
       "      <th>name</th>\n",
       "      <th>2017_dividend</th>\n",
       "      <th>2018</th>\n",
       "      <th>2019</th>\n",
       "      <th>2020</th>\n",
       "    </tr>\n",
       "    <tr>\n",
       "      <th>member_id</th>\n",
       "      <th></th>\n",
       "      <th></th>\n",
       "      <th></th>\n",
       "      <th></th>\n",
       "      <th></th>\n",
       "    </tr>\n",
       "  </thead>\n",
       "  <tbody>\n",
       "    <tr>\n",
       "      <th>1</th>\n",
       "      <td>Alice</td>\n",
       "      <td>225.10</td>\n",
       "      <td>90.04</td>\n",
       "      <td>67.53</td>\n",
       "      <td>67.53</td>\n",
       "    </tr>\n",
       "    <tr>\n",
       "      <th>2</th>\n",
       "      <td>Bob</td>\n",
       "      <td>276.53</td>\n",
       "      <td>110.61</td>\n",
       "      <td>82.96</td>\n",
       "      <td>82.96</td>\n",
       "    </tr>\n",
       "    <tr>\n",
       "      <th>3</th>\n",
       "      <td>Candice</td>\n",
       "      <td>80.90</td>\n",
       "      <td>32.36</td>\n",
       "      <td>24.27</td>\n",
       "      <td>24.27</td>\n",
       "    </tr>\n",
       "    <tr>\n",
       "      <th>4</th>\n",
       "      <td>Darwin</td>\n",
       "      <td>195.80</td>\n",
       "      <td>78.32</td>\n",
       "      <td>58.74</td>\n",
       "      <td>58.74</td>\n",
       "    </tr>\n",
       "    <tr>\n",
       "      <th>5</th>\n",
       "      <td>Eve</td>\n",
       "      <td>122.21</td>\n",
       "      <td>48.89</td>\n",
       "      <td>36.66</td>\n",
       "      <td>36.66</td>\n",
       "    </tr>\n",
       "    <tr>\n",
       "      <th>6</th>\n",
       "      <td>Federico</td>\n",
       "      <td>36.65</td>\n",
       "      <td>14.65</td>\n",
       "      <td>11.00</td>\n",
       "      <td>11.00</td>\n",
       "    </tr>\n",
       "  </tbody>\n",
       "</table>\n",
       "</div>"
      ],
      "text/plain": [
       "               name  2017_dividend    2018   2019   2020\n",
       "member_id                                               \n",
       "1             Alice         225.10   90.04  67.53  67.53\n",
       "2               Bob         276.53  110.61  82.96  82.96\n",
       "3           Candice          80.90   32.36  24.27  24.27\n",
       "4            Darwin         195.80   78.32  58.74  58.74\n",
       "5               Eve         122.21   48.89  36.66  36.66\n",
       "6          Federico          36.65   14.65  11.00  11.00"
      ]
     },
     "execution_count": 32,
     "metadata": {},
     "output_type": "execute_result"
    }
   ],
   "source": [
    "temp = compute_allocations(dividend_df, 2017, first_year_percent=40, n_years=3)\n",
    "temp"
   ]
  },
  {
   "cell_type": "code",
   "execution_count": 35,
   "metadata": {},
   "outputs": [
    {
     "data": {
      "text/plain": [
       "member_id\n",
       "1    225.10\n",
       "2    276.53\n",
       "3     80.90\n",
       "4    195.80\n",
       "5    122.21\n",
       "6     36.65\n",
       "dtype: float64"
      ]
     },
     "execution_count": 35,
     "metadata": {},
     "output_type": "execute_result"
    }
   ],
   "source": [
    "temp.loc[:,'2018':].sum(axis=1)"
   ]
  },
  {
   "cell_type": "code",
   "execution_count": 36,
   "metadata": {},
   "outputs": [
    {
     "data": {
      "text/plain": [
       "member_id\n",
       "1    0.400000\n",
       "2    0.399993\n",
       "3    0.400000\n",
       "4    0.400000\n",
       "5    0.400049\n",
       "6    0.399727\n",
       "Name: 2018, dtype: float64"
      ]
     },
     "execution_count": 36,
     "metadata": {},
     "output_type": "execute_result"
    }
   ],
   "source": [
    "temp.loc[:,'2018']/temp['2017_dividend'].values"
   ]
  },
  {
   "cell_type": "code",
   "execution_count": 37,
   "metadata": {},
   "outputs": [
    {
     "data": {
      "text/html": [
       "<div>\n",
       "<style scoped>\n",
       "    .dataframe tbody tr th:only-of-type {\n",
       "        vertical-align: middle;\n",
       "    }\n",
       "\n",
       "    .dataframe tbody tr th {\n",
       "        vertical-align: top;\n",
       "    }\n",
       "\n",
       "    .dataframe thead th {\n",
       "        text-align: right;\n",
       "    }\n",
       "</style>\n",
       "<table border=\"1\" class=\"dataframe\">\n",
       "  <thead>\n",
       "    <tr style=\"text-align: right;\">\n",
       "      <th></th>\n",
       "      <th>2018</th>\n",
       "      <th>2019</th>\n",
       "      <th>2020</th>\n",
       "    </tr>\n",
       "    <tr>\n",
       "      <th>member_id</th>\n",
       "      <th></th>\n",
       "      <th></th>\n",
       "      <th></th>\n",
       "    </tr>\n",
       "  </thead>\n",
       "  <tbody>\n",
       "    <tr>\n",
       "      <th>1</th>\n",
       "      <td>0.400000</td>\n",
       "      <td>0.300000</td>\n",
       "      <td>0.300000</td>\n",
       "    </tr>\n",
       "    <tr>\n",
       "      <th>2</th>\n",
       "      <td>0.399993</td>\n",
       "      <td>0.300004</td>\n",
       "      <td>0.300004</td>\n",
       "    </tr>\n",
       "    <tr>\n",
       "      <th>3</th>\n",
       "      <td>0.400000</td>\n",
       "      <td>0.300000</td>\n",
       "      <td>0.300000</td>\n",
       "    </tr>\n",
       "    <tr>\n",
       "      <th>4</th>\n",
       "      <td>0.400000</td>\n",
       "      <td>0.300000</td>\n",
       "      <td>0.300000</td>\n",
       "    </tr>\n",
       "    <tr>\n",
       "      <th>5</th>\n",
       "      <td>0.400049</td>\n",
       "      <td>0.299975</td>\n",
       "      <td>0.299975</td>\n",
       "    </tr>\n",
       "    <tr>\n",
       "      <th>6</th>\n",
       "      <td>0.399727</td>\n",
       "      <td>0.300136</td>\n",
       "      <td>0.300136</td>\n",
       "    </tr>\n",
       "  </tbody>\n",
       "</table>\n",
       "</div>"
      ],
      "text/plain": [
       "               2018      2019      2020\n",
       "member_id                              \n",
       "1          0.400000  0.300000  0.300000\n",
       "2          0.399993  0.300004  0.300004\n",
       "3          0.400000  0.300000  0.300000\n",
       "4          0.400000  0.300000  0.300000\n",
       "5          0.400049  0.299975  0.299975\n",
       "6          0.399727  0.300136  0.300136"
      ]
     },
     "execution_count": 37,
     "metadata": {},
     "output_type": "execute_result"
    }
   ],
   "source": [
    "temp.loc[:,'2018':].divide(temp['2017_dividend'], axis='index')"
   ]
  },
  {
   "cell_type": "code",
   "execution_count": 26,
   "metadata": {
    "collapsed": true
   },
   "outputs": [],
   "source": [
    "#possible schema for table to store written notices of allocation:\n",
    "#primary_key:(member_id, year_issued, year_due), amount\n",
    "\n",
    "#We'll also need to keep track of internal capital accounts:\n",
    "#Balance = (member equity) + (preferred shares) + (interest?) + (written notices of allocation)\n",
    "#All these should be available in Gnucash, so we simply need to sum them up for each member."
   ]
  },
  {
   "cell_type": "code",
   "execution_count": null,
   "metadata": {
    "collapsed": true
   },
   "outputs": [],
   "source": []
  }
 ],
 "metadata": {
  "kernelspec": {
   "display_name": "Python 3",
   "language": "python",
   "name": "python3"
  },
  "language_info": {
   "codemirror_mode": {
    "name": "ipython",
    "version": 3
   },
   "file_extension": ".py",
   "mimetype": "text/x-python",
   "name": "python",
   "nbconvert_exporter": "python",
   "pygments_lexer": "ipython3",
   "version": "3.6.3"
  }
 },
 "nbformat": 4,
 "nbformat_minor": 2
}
