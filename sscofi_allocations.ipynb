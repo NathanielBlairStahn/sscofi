{
 "cells": [
  {
   "cell_type": "markdown",
   "metadata": {},
   "source": [
    "# Add Flexibility to Calculation of Allocations\n",
    "\n",
    "Thu 13 Sep, 2018"
   ]
  },
  {
   "cell_type": "code",
   "execution_count": 157,
   "metadata": {
    "collapsed": true
   },
   "outputs": [],
   "source": [
    "import numpy as np\n",
    "import pandas as pd"
   ]
  },
  {
   "cell_type": "markdown",
   "metadata": {},
   "source": [
    "## Create DataFrames with test data"
   ]
  },
  {
   "cell_type": "code",
   "execution_count": 158,
   "metadata": {},
   "outputs": [
    {
     "data": {
      "text/html": [
       "<div>\n",
       "<style scoped>\n",
       "    .dataframe tbody tr th:only-of-type {\n",
       "        vertical-align: middle;\n",
       "    }\n",
       "\n",
       "    .dataframe tbody tr th {\n",
       "        vertical-align: top;\n",
       "    }\n",
       "\n",
       "    .dataframe thead th {\n",
       "        text-align: right;\n",
       "    }\n",
       "</style>\n",
       "<table border=\"1\" class=\"dataframe\">\n",
       "  <thead>\n",
       "    <tr style=\"text-align: right;\">\n",
       "      <th></th>\n",
       "      <th>member_id</th>\n",
       "      <th>name</th>\n",
       "      <th>membership</th>\n",
       "      <th>preferred</th>\n",
       "      <th>other</th>\n",
       "      <th>equity</th>\n",
       "    </tr>\n",
       "  </thead>\n",
       "  <tbody>\n",
       "    <tr>\n",
       "      <th>0</th>\n",
       "      <td>1</td>\n",
       "      <td>Alice</td>\n",
       "      <td>0</td>\n",
       "      <td>0</td>\n",
       "      <td>0</td>\n",
       "      <td>0</td>\n",
       "    </tr>\n",
       "    <tr>\n",
       "      <th>1</th>\n",
       "      <td>2</td>\n",
       "      <td>Bob</td>\n",
       "      <td>125</td>\n",
       "      <td>0</td>\n",
       "      <td>0</td>\n",
       "      <td>125</td>\n",
       "    </tr>\n",
       "    <tr>\n",
       "      <th>2</th>\n",
       "      <td>3</td>\n",
       "      <td>Candice</td>\n",
       "      <td>125</td>\n",
       "      <td>3000</td>\n",
       "      <td>200</td>\n",
       "      <td>3325</td>\n",
       "    </tr>\n",
       "    <tr>\n",
       "      <th>3</th>\n",
       "      <td>4</td>\n",
       "      <td>Darwin</td>\n",
       "      <td>0</td>\n",
       "      <td>0</td>\n",
       "      <td>0</td>\n",
       "      <td>0</td>\n",
       "    </tr>\n",
       "    <tr>\n",
       "      <th>4</th>\n",
       "      <td>5</td>\n",
       "      <td>Eve</td>\n",
       "      <td>125</td>\n",
       "      <td>1000</td>\n",
       "      <td>100</td>\n",
       "      <td>1225</td>\n",
       "    </tr>\n",
       "    <tr>\n",
       "      <th>5</th>\n",
       "      <td>6</td>\n",
       "      <td>Federico</td>\n",
       "      <td>125</td>\n",
       "      <td>0</td>\n",
       "      <td>700</td>\n",
       "      <td>825</td>\n",
       "    </tr>\n",
       "    <tr>\n",
       "      <th>6</th>\n",
       "      <td>7</td>\n",
       "      <td>Gabi</td>\n",
       "      <td>125</td>\n",
       "      <td>0</td>\n",
       "      <td>0</td>\n",
       "      <td>125</td>\n",
       "    </tr>\n",
       "    <tr>\n",
       "      <th>7</th>\n",
       "      <td>8</td>\n",
       "      <td>HAL</td>\n",
       "      <td>125</td>\n",
       "      <td>0</td>\n",
       "      <td>0</td>\n",
       "      <td>125</td>\n",
       "    </tr>\n",
       "    <tr>\n",
       "      <th>8</th>\n",
       "      <td>9</td>\n",
       "      <td>Irene</td>\n",
       "      <td>125</td>\n",
       "      <td>10000</td>\n",
       "      <td>0</td>\n",
       "      <td>10125</td>\n",
       "    </tr>\n",
       "    <tr>\n",
       "      <th>9</th>\n",
       "      <td>10</td>\n",
       "      <td>Jules</td>\n",
       "      <td>0</td>\n",
       "      <td>0</td>\n",
       "      <td>0</td>\n",
       "      <td>0</td>\n",
       "    </tr>\n",
       "  </tbody>\n",
       "</table>\n",
       "</div>"
      ],
      "text/plain": [
       "   member_id      name  membership  preferred  other  equity\n",
       "0          1     Alice           0          0      0       0\n",
       "1          2       Bob         125          0      0     125\n",
       "2          3   Candice         125       3000    200    3325\n",
       "3          4    Darwin           0          0      0       0\n",
       "4          5       Eve         125       1000    100    1225\n",
       "5          6  Federico         125          0    700     825\n",
       "6          7      Gabi         125          0      0     125\n",
       "7          8       HAL         125          0      0     125\n",
       "8          9     Irene         125      10000      0   10125\n",
       "9         10     Jules           0          0      0       0"
      ]
     },
     "execution_count": 158,
     "metadata": {},
     "output_type": "execute_result"
    }
   ],
   "source": [
    "#Note that in order fo the patronage calculations to work, this DataFrame needs to contain all members.\n",
    "prev_equity_df = pd.DataFrame([\n",
    "    [1, 'Alice', 0, 0, 0],\n",
    "    [2, 'Bob', 125, 0, 0],\n",
    "    [3, 'Candice', 125, 3000, 200],\n",
    "    [4, 'Darwin', 0, 0, 0],\n",
    "    [5, 'Eve', 125, 1000, 100],\n",
    "    [6, 'Federico', 125, 0, 700],\n",
    "    [7, 'Gabi', 125, 0, 0],\n",
    "    [8, 'HAL', 125, 0, 0],\n",
    "    [9, 'Irene', 125, 10000, 0],\n",
    "    [10, 'Jules', 0, 0, 0]\n",
    "], columns = ['member_id', 'name', 'membership', 'preferred', 'other'])\n",
    "prev_equity_df['equity'] = prev_equity_df['membership'] + prev_equity_df['preferred'] + prev_equity_df['other']\n",
    "prev_equity_df"
   ]
  },
  {
   "cell_type": "code",
   "execution_count": 159,
   "metadata": {},
   "outputs": [
    {
     "data": {
      "text/html": [
       "<div>\n",
       "<style scoped>\n",
       "    .dataframe tbody tr th:only-of-type {\n",
       "        vertical-align: middle;\n",
       "    }\n",
       "\n",
       "    .dataframe tbody tr th {\n",
       "        vertical-align: top;\n",
       "    }\n",
       "\n",
       "    .dataframe thead th {\n",
       "        text-align: right;\n",
       "    }\n",
       "</style>\n",
       "<table border=\"1\" class=\"dataframe\">\n",
       "  <thead>\n",
       "    <tr style=\"text-align: right;\">\n",
       "      <th></th>\n",
       "      <th>member_id</th>\n",
       "      <th>date</th>\n",
       "      <th>amount</th>\n",
       "      <th>type</th>\n",
       "    </tr>\n",
       "  </thead>\n",
       "  <tbody>\n",
       "    <tr>\n",
       "      <th>0</th>\n",
       "      <td>1</td>\n",
       "      <td>1/3/2017</td>\n",
       "      <td>125</td>\n",
       "      <td>membership</td>\n",
       "    </tr>\n",
       "    <tr>\n",
       "      <th>1</th>\n",
       "      <td>2</td>\n",
       "      <td>1/31/2017</td>\n",
       "      <td>400</td>\n",
       "      <td>other</td>\n",
       "    </tr>\n",
       "    <tr>\n",
       "      <th>2</th>\n",
       "      <td>1</td>\n",
       "      <td>2/20/2017</td>\n",
       "      <td>5000</td>\n",
       "      <td>preferred</td>\n",
       "    </tr>\n",
       "    <tr>\n",
       "      <th>3</th>\n",
       "      <td>3</td>\n",
       "      <td>3/15/2017</td>\n",
       "      <td>-2000</td>\n",
       "      <td>preferred</td>\n",
       "    </tr>\n",
       "    <tr>\n",
       "      <th>4</th>\n",
       "      <td>1</td>\n",
       "      <td>4/13/2017</td>\n",
       "      <td>500</td>\n",
       "      <td>other</td>\n",
       "    </tr>\n",
       "    <tr>\n",
       "      <th>5</th>\n",
       "      <td>2</td>\n",
       "      <td>4/13/2017</td>\n",
       "      <td>7500</td>\n",
       "      <td>preferred</td>\n",
       "    </tr>\n",
       "    <tr>\n",
       "      <th>6</th>\n",
       "      <td>4</td>\n",
       "      <td>6/24/2017</td>\n",
       "      <td>125</td>\n",
       "      <td>membership</td>\n",
       "    </tr>\n",
       "    <tr>\n",
       "      <th>7</th>\n",
       "      <td>5</td>\n",
       "      <td>7/17/2017</td>\n",
       "      <td>3000</td>\n",
       "      <td>preferred</td>\n",
       "    </tr>\n",
       "    <tr>\n",
       "      <th>8</th>\n",
       "      <td>6</td>\n",
       "      <td>8/22/2017</td>\n",
       "      <td>-700</td>\n",
       "      <td>other</td>\n",
       "    </tr>\n",
       "    <tr>\n",
       "      <th>9</th>\n",
       "      <td>4</td>\n",
       "      <td>10/18/2017</td>\n",
       "      <td>20000</td>\n",
       "      <td>preferred</td>\n",
       "    </tr>\n",
       "    <tr>\n",
       "      <th>10</th>\n",
       "      <td>6</td>\n",
       "      <td>11/11/2017</td>\n",
       "      <td>1500</td>\n",
       "      <td>preferred</td>\n",
       "    </tr>\n",
       "    <tr>\n",
       "      <th>11</th>\n",
       "      <td>10</td>\n",
       "      <td>5/4/2017</td>\n",
       "      <td>125</td>\n",
       "      <td>membership</td>\n",
       "    </tr>\n",
       "    <tr>\n",
       "      <th>12</th>\n",
       "      <td>2</td>\n",
       "      <td>9/20/2017</td>\n",
       "      <td>200</td>\n",
       "      <td>other</td>\n",
       "    </tr>\n",
       "  </tbody>\n",
       "</table>\n",
       "</div>"
      ],
      "text/plain": [
       "    member_id        date  amount        type\n",
       "0           1    1/3/2017     125  membership\n",
       "1           2   1/31/2017     400       other\n",
       "2           1   2/20/2017    5000   preferred\n",
       "3           3   3/15/2017   -2000   preferred\n",
       "4           1   4/13/2017     500       other\n",
       "5           2   4/13/2017    7500   preferred\n",
       "6           4   6/24/2017     125  membership\n",
       "7           5   7/17/2017    3000   preferred\n",
       "8           6   8/22/2017    -700       other\n",
       "9           4  10/18/2017   20000   preferred\n",
       "10          6  11/11/2017    1500   preferred\n",
       "11         10    5/4/2017     125  membership\n",
       "12          2   9/20/2017     200       other"
      ]
     },
     "execution_count": 159,
     "metadata": {},
     "output_type": "execute_result"
    }
   ],
   "source": [
    "contributions_df = pd.DataFrame([\n",
    "    [1, \"1/3/2017\", 125, 'membership'],\n",
    "    [2, \"1/31/2017\", 400, 'other'],\n",
    "    [1, \"2/20/2017\", 5000, 'preferred'],\n",
    "    [3, \"3/15/2017\", -2000, 'preferred'],\n",
    "    [1, \"4/13/2017\", 500, 'other'],\n",
    "    [2, \"4/13/2017\", 7500, 'preferred'],\n",
    "    [4, \"6/24/2017\", 125, 'membership'],\n",
    "    [5, \"7/17/2017\", 3000, \"preferred\"],\n",
    "    [6, \"8/22/2017\", -700, 'other'],\n",
    "    [4, \"10/18/2017\", 20000, 'preferred'],\n",
    "    [6, \"11/11/2017\", 1500, 'preferred'],\n",
    "    [10, \"5/4/2017\", 125, 'membership'],\n",
    "    [2, \"9/20/2017\", 200, 'other']\n",
    "], columns = ['member_id','date','amount','type'])\n",
    "contributions_df"
   ]
  },
  {
   "cell_type": "code",
   "execution_count": 160,
   "metadata": {},
   "outputs": [
    {
     "data": {
      "text/html": [
       "<div>\n",
       "<style scoped>\n",
       "    .dataframe tbody tr th:only-of-type {\n",
       "        vertical-align: middle;\n",
       "    }\n",
       "\n",
       "    .dataframe tbody tr th {\n",
       "        vertical-align: top;\n",
       "    }\n",
       "\n",
       "    .dataframe thead th {\n",
       "        text-align: right;\n",
       "    }\n",
       "</style>\n",
       "<table border=\"1\" class=\"dataframe\">\n",
       "  <thead>\n",
       "    <tr style=\"text-align: right;\">\n",
       "      <th>type</th>\n",
       "      <th>membership</th>\n",
       "      <th>other</th>\n",
       "      <th>preferred</th>\n",
       "    </tr>\n",
       "    <tr>\n",
       "      <th>member_id</th>\n",
       "      <th></th>\n",
       "      <th></th>\n",
       "      <th></th>\n",
       "    </tr>\n",
       "  </thead>\n",
       "  <tbody>\n",
       "    <tr>\n",
       "      <th>1</th>\n",
       "      <td>125</td>\n",
       "      <td>500</td>\n",
       "      <td>5000</td>\n",
       "    </tr>\n",
       "    <tr>\n",
       "      <th>2</th>\n",
       "      <td>0</td>\n",
       "      <td>600</td>\n",
       "      <td>7500</td>\n",
       "    </tr>\n",
       "    <tr>\n",
       "      <th>3</th>\n",
       "      <td>0</td>\n",
       "      <td>0</td>\n",
       "      <td>-2000</td>\n",
       "    </tr>\n",
       "    <tr>\n",
       "      <th>4</th>\n",
       "      <td>125</td>\n",
       "      <td>0</td>\n",
       "      <td>20000</td>\n",
       "    </tr>\n",
       "    <tr>\n",
       "      <th>5</th>\n",
       "      <td>0</td>\n",
       "      <td>0</td>\n",
       "      <td>3000</td>\n",
       "    </tr>\n",
       "    <tr>\n",
       "      <th>6</th>\n",
       "      <td>0</td>\n",
       "      <td>-700</td>\n",
       "      <td>1500</td>\n",
       "    </tr>\n",
       "    <tr>\n",
       "      <th>10</th>\n",
       "      <td>125</td>\n",
       "      <td>0</td>\n",
       "      <td>0</td>\n",
       "    </tr>\n",
       "  </tbody>\n",
       "</table>\n",
       "</div>"
      ],
      "text/plain": [
       "type       membership  other  preferred\n",
       "member_id                              \n",
       "1                 125    500       5000\n",
       "2                   0    600       7500\n",
       "3                   0      0      -2000\n",
       "4                 125      0      20000\n",
       "5                   0      0       3000\n",
       "6                   0   -700       1500\n",
       "10                125      0          0"
      ]
     },
     "execution_count": 160,
     "metadata": {},
     "output_type": "execute_result"
    }
   ],
   "source": [
    "#The pivot_table function will be useful for converting a list of\n",
    "#capital contributions to a 'previous equity' dataframe up to a given year.\n",
    "contributions_df.pivot_table(index=['member_id'], columns=['type'], values='amount', aggfunc=np.sum, fill_value=0)"
   ]
  },
  {
   "cell_type": "markdown",
   "metadata": {},
   "source": [
    "## Collect core functions from dividends notebook\n",
    "\n",
    "Change percents to proportions."
   ]
  },
  {
   "cell_type": "code",
   "execution_count": 197,
   "metadata": {
    "collapsed": true
   },
   "outputs": [],
   "source": [
    "def fraction_year_remaining(date):\n",
    "    \"\"\"Computes the fraction of the year remaining from a given date.\n",
    "    \"\"\"\n",
    "    date = pd.to_datetime(date)\n",
    "    offset = pd.tseries.offsets.YearBegin()\n",
    "    year = date - offset\n",
    "    next_year = date + offset\n",
    "    #print(offset, year, next_year)\n",
    "    return (next_year - date).days / (next_year - year).days\n",
    "\n",
    "def compute_transaction_patronage(contributions_df):\n",
    "    \"\"\"Compute patronage for each transaction based on amount and fraction of year remaining.\n",
    "    \"\"\"\n",
    "    contributions_df = contributions_df.copy()\n",
    "    patronage = contributions_df['amount']*contributions_df['date'].apply(fraction_year_remaining)\n",
    "    contributions_df['patronage'] = patronage\n",
    "    return contributions_df\n",
    "\n",
    "def compute_new_patronage(contributions_df):\n",
    "    \"\"\"Compute each member's patronage from new contributions for the current year.\n",
    "    \"\"\"\n",
    "    contributions_df = compute_transaction_patronage(contributions_df)\n",
    "    return contributions_df[['member_id','patronage']].groupby(by='member_id').sum()\n",
    "\n",
    "def compute_patronage(prev_equity_df, contributions_df):\n",
    "    \"\"\"Compute total patronage for each member from new contributions for the current year\n",
    "        and existing equity from previous years.\n",
    "    \"\"\"\n",
    "    patronage_df = prev_equity_df.set_index('member_id')[['name', 'equity']]\n",
    "    patronage_df.rename(columns={'equity': 'old_patronage'}, inplace=True)\n",
    "    \n",
    "    patronage_df['new_patronage'] = compute_new_patronage(contributions_df)['patronage']\n",
    "    # If there were members with no contributions this year, set their new patronage to 0 (would be NaN).\n",
    "    patronage_df.fillna(0, inplace=True)\n",
    "    \n",
    "    patronage_df['patronage'] = patronage_df['old_patronage'] + patronage_df['new_patronage']\n",
    "    patronage_df['proportionate_patronage'] = patronage_df['patronage'] / patronage_df['patronage'].sum()\n",
    "    \n",
    "    return patronage_df\n",
    "\n",
    "def compute_dividends(patronage_df, profit, proportion_individual=0.5, rounded=True):\n",
    "    \"\"\"Compute each member's dividend based on patronage for the year.\n",
    "    \"\"\" \n",
    "    dividend_df = patronage_df[['name', 'proportionate_patronage']].copy()\n",
    "    \n",
    "    #Compute individual patronage allocations\n",
    "    dividend_df['dividend'] = dividend_df['proportionate_patronage'] * profit * proportion_individual\n",
    "    if rounded:\n",
    "        dividend_df['dividend'] = np.round(dividend_df['dividend'], 2)\n",
    "    \n",
    "    # To account for rounding amounts to the nearest cent, we add up the individual dividends\n",
    "    # to get the actual amount allocated to individual net income. Then we subtract this amount\n",
    "    # from the total profit to get the collective net income.\n",
    "    indiv_profit = dividend_df['dividend'].sum()\n",
    "    collective_profit = profit - indiv_profit\n",
    "    \n",
    "    # We reserve member_id=0 for the collective account (or we could simply use names as keys)\n",
    "    dividend_df.loc[0] = pd.Series({\n",
    "        'name': 'CollectiveAcct',\n",
    "        'proportionate_patronage': collective_profit / indiv_profit,\n",
    "        'dividend': collective_profit\n",
    "    })\n",
    "    return dividend_df"
   ]
  },
  {
   "cell_type": "markdown",
   "metadata": {},
   "source": [
    "## Auxiliary functions"
   ]
  },
  {
   "cell_type": "code",
   "execution_count": 162,
   "metadata": {
    "collapsed": true
   },
   "outputs": [],
   "source": [
    "def compute_total_patronage(patronage_df):\n",
    "    \"\"\"Computes the total patronage for the year, i.e. the time-averaged amount of equity.\n",
    "    \"\"\"\n",
    "    return patronage_df['patronage'].sum()\n",
    "\n",
    "def estimate_indiv_collective_profit(profit, proportion_individual):\n",
    "    \"\"\"Estimate the individual and collective net income from the total net income.\n",
    "    This may be different from the actual individual and collective amounts because\n",
    "    of rounding individual dividends to the nearest cent.\n",
    "    \"\"\"\n",
    "    indiv_profit = np.round(profit * proportion_individual, 2)\n",
    "    collective_profit = profit - indiv_profit\n",
    "    return indiv_profit, collective_profit"
   ]
  },
  {
   "cell_type": "code",
   "execution_count": 163,
   "metadata": {},
   "outputs": [
    {
     "data": {
      "text/html": [
       "<div>\n",
       "<style scoped>\n",
       "    .dataframe tbody tr th:only-of-type {\n",
       "        vertical-align: middle;\n",
       "    }\n",
       "\n",
       "    .dataframe tbody tr th {\n",
       "        vertical-align: top;\n",
       "    }\n",
       "\n",
       "    .dataframe thead th {\n",
       "        text-align: right;\n",
       "    }\n",
       "</style>\n",
       "<table border=\"1\" class=\"dataframe\">\n",
       "  <thead>\n",
       "    <tr style=\"text-align: right;\">\n",
       "      <th></th>\n",
       "      <th>name</th>\n",
       "      <th>old_patronage</th>\n",
       "      <th>new_patronage</th>\n",
       "      <th>patronage</th>\n",
       "      <th>proportionate_patronage</th>\n",
       "    </tr>\n",
       "    <tr>\n",
       "      <th>member_id</th>\n",
       "      <th></th>\n",
       "      <th></th>\n",
       "      <th></th>\n",
       "      <th></th>\n",
       "      <th></th>\n",
       "    </tr>\n",
       "  </thead>\n",
       "  <tbody>\n",
       "    <tr>\n",
       "      <th>1</th>\n",
       "      <td>Alice</td>\n",
       "      <td>0</td>\n",
       "      <td>4799.657534</td>\n",
       "      <td>4799.657534</td>\n",
       "      <td>0.157379</td>\n",
       "    </tr>\n",
       "    <tr>\n",
       "      <th>2</th>\n",
       "      <td>Bob</td>\n",
       "      <td>125</td>\n",
       "      <td>5827.671233</td>\n",
       "      <td>5952.671233</td>\n",
       "      <td>0.195186</td>\n",
       "    </tr>\n",
       "    <tr>\n",
       "      <th>3</th>\n",
       "      <td>Candice</td>\n",
       "      <td>3325</td>\n",
       "      <td>-1600.000000</td>\n",
       "      <td>1725.000000</td>\n",
       "      <td>0.056562</td>\n",
       "    </tr>\n",
       "    <tr>\n",
       "      <th>4</th>\n",
       "      <td>Darwin</td>\n",
       "      <td>0</td>\n",
       "      <td>4175.000000</td>\n",
       "      <td>4175.000000</td>\n",
       "      <td>0.136897</td>\n",
       "    </tr>\n",
       "    <tr>\n",
       "      <th>5</th>\n",
       "      <td>Eve</td>\n",
       "      <td>1225</td>\n",
       "      <td>1380.821918</td>\n",
       "      <td>2605.821918</td>\n",
       "      <td>0.085444</td>\n",
       "    </tr>\n",
       "    <tr>\n",
       "      <th>6</th>\n",
       "      <td>Federico</td>\n",
       "      <td>825</td>\n",
       "      <td>-43.561644</td>\n",
       "      <td>781.438356</td>\n",
       "      <td>0.025623</td>\n",
       "    </tr>\n",
       "    <tr>\n",
       "      <th>7</th>\n",
       "      <td>Gabi</td>\n",
       "      <td>125</td>\n",
       "      <td>0.000000</td>\n",
       "      <td>125.000000</td>\n",
       "      <td>0.004099</td>\n",
       "    </tr>\n",
       "    <tr>\n",
       "      <th>8</th>\n",
       "      <td>HAL</td>\n",
       "      <td>125</td>\n",
       "      <td>0.000000</td>\n",
       "      <td>125.000000</td>\n",
       "      <td>0.004099</td>\n",
       "    </tr>\n",
       "    <tr>\n",
       "      <th>9</th>\n",
       "      <td>Irene</td>\n",
       "      <td>10125</td>\n",
       "      <td>0.000000</td>\n",
       "      <td>10125.000000</td>\n",
       "      <td>0.331995</td>\n",
       "    </tr>\n",
       "    <tr>\n",
       "      <th>10</th>\n",
       "      <td>Jules</td>\n",
       "      <td>0</td>\n",
       "      <td>82.876712</td>\n",
       "      <td>82.876712</td>\n",
       "      <td>0.002717</td>\n",
       "    </tr>\n",
       "  </tbody>\n",
       "</table>\n",
       "</div>"
      ],
      "text/plain": [
       "               name  old_patronage  new_patronage     patronage  \\\n",
       "member_id                                                         \n",
       "1             Alice              0    4799.657534   4799.657534   \n",
       "2               Bob            125    5827.671233   5952.671233   \n",
       "3           Candice           3325   -1600.000000   1725.000000   \n",
       "4            Darwin              0    4175.000000   4175.000000   \n",
       "5               Eve           1225    1380.821918   2605.821918   \n",
       "6          Federico            825     -43.561644    781.438356   \n",
       "7              Gabi            125       0.000000    125.000000   \n",
       "8               HAL            125       0.000000    125.000000   \n",
       "9             Irene          10125       0.000000  10125.000000   \n",
       "10            Jules              0      82.876712     82.876712   \n",
       "\n",
       "           proportionate_patronage  \n",
       "member_id                           \n",
       "1                         0.157379  \n",
       "2                         0.195186  \n",
       "3                         0.056562  \n",
       "4                         0.136897  \n",
       "5                         0.085444  \n",
       "6                         0.025623  \n",
       "7                         0.004099  \n",
       "8                         0.004099  \n",
       "9                         0.331995  \n",
       "10                        0.002717  "
      ]
     },
     "execution_count": 163,
     "metadata": {},
     "output_type": "execute_result"
    }
   ],
   "source": [
    "patronage_df = compute_patronage(prev_equity_df, contributions_df)\n",
    "patronage_df"
   ]
  },
  {
   "cell_type": "code",
   "execution_count": 164,
   "metadata": {},
   "outputs": [
    {
     "data": {
      "text/plain": [
       "name                       AliceBobCandiceDarwinEveFedericoGabiHALIreneJules\n",
       "old_patronage                                                          15875\n",
       "new_patronage                                                        14622.5\n",
       "patronage                                                            30497.5\n",
       "proportionate_patronage                                                    1\n",
       "dtype: object"
      ]
     },
     "execution_count": 164,
     "metadata": {},
     "output_type": "execute_result"
    }
   ],
   "source": [
    "patronage_df.sum()"
   ]
  },
  {
   "cell_type": "code",
   "execution_count": 165,
   "metadata": {},
   "outputs": [
    {
     "data": {
      "text/html": [
       "<div>\n",
       "<style scoped>\n",
       "    .dataframe tbody tr th:only-of-type {\n",
       "        vertical-align: middle;\n",
       "    }\n",
       "\n",
       "    .dataframe tbody tr th {\n",
       "        vertical-align: top;\n",
       "    }\n",
       "\n",
       "    .dataframe thead th {\n",
       "        text-align: right;\n",
       "    }\n",
       "</style>\n",
       "<table border=\"1\" class=\"dataframe\">\n",
       "  <thead>\n",
       "    <tr style=\"text-align: right;\">\n",
       "      <th></th>\n",
       "      <th>name</th>\n",
       "      <th>proportionate_patronage</th>\n",
       "      <th>dividend</th>\n",
       "    </tr>\n",
       "    <tr>\n",
       "      <th>member_id</th>\n",
       "      <th></th>\n",
       "      <th></th>\n",
       "      <th></th>\n",
       "    </tr>\n",
       "  </thead>\n",
       "  <tbody>\n",
       "    <tr>\n",
       "      <th>1</th>\n",
       "      <td>Alice</td>\n",
       "      <td>0.157379</td>\n",
       "      <td>171.73</td>\n",
       "    </tr>\n",
       "    <tr>\n",
       "      <th>2</th>\n",
       "      <td>Bob</td>\n",
       "      <td>0.195186</td>\n",
       "      <td>212.98</td>\n",
       "    </tr>\n",
       "    <tr>\n",
       "      <th>3</th>\n",
       "      <td>Candice</td>\n",
       "      <td>0.056562</td>\n",
       "      <td>61.72</td>\n",
       "    </tr>\n",
       "    <tr>\n",
       "      <th>4</th>\n",
       "      <td>Darwin</td>\n",
       "      <td>0.136897</td>\n",
       "      <td>149.38</td>\n",
       "    </tr>\n",
       "    <tr>\n",
       "      <th>5</th>\n",
       "      <td>Eve</td>\n",
       "      <td>0.085444</td>\n",
       "      <td>93.23</td>\n",
       "    </tr>\n",
       "    <tr>\n",
       "      <th>6</th>\n",
       "      <td>Federico</td>\n",
       "      <td>0.025623</td>\n",
       "      <td>27.96</td>\n",
       "    </tr>\n",
       "    <tr>\n",
       "      <th>7</th>\n",
       "      <td>Gabi</td>\n",
       "      <td>0.004099</td>\n",
       "      <td>4.47</td>\n",
       "    </tr>\n",
       "    <tr>\n",
       "      <th>8</th>\n",
       "      <td>HAL</td>\n",
       "      <td>0.004099</td>\n",
       "      <td>4.47</td>\n",
       "    </tr>\n",
       "    <tr>\n",
       "      <th>9</th>\n",
       "      <td>Irene</td>\n",
       "      <td>0.331995</td>\n",
       "      <td>362.26</td>\n",
       "    </tr>\n",
       "    <tr>\n",
       "      <th>10</th>\n",
       "      <td>Jules</td>\n",
       "      <td>0.002717</td>\n",
       "      <td>2.97</td>\n",
       "    </tr>\n",
       "    <tr>\n",
       "      <th>0</th>\n",
       "      <td>CollectiveAcct</td>\n",
       "      <td>0.999991</td>\n",
       "      <td>1091.16</td>\n",
       "    </tr>\n",
       "  </tbody>\n",
       "</table>\n",
       "</div>"
      ],
      "text/plain": [
       "                     name  proportionate_patronage  dividend\n",
       "member_id                                                   \n",
       "1                   Alice                 0.157379    171.73\n",
       "2                     Bob                 0.195186    212.98\n",
       "3                 Candice                 0.056562     61.72\n",
       "4                  Darwin                 0.136897    149.38\n",
       "5                     Eve                 0.085444     93.23\n",
       "6                Federico                 0.025623     27.96\n",
       "7                    Gabi                 0.004099      4.47\n",
       "8                     HAL                 0.004099      4.47\n",
       "9                   Irene                 0.331995    362.26\n",
       "10                  Jules                 0.002717      2.97\n",
       "0          CollectiveAcct                 0.999991   1091.16"
      ]
     },
     "execution_count": 165,
     "metadata": {},
     "output_type": "execute_result"
    }
   ],
   "source": [
    "profit = 2182.33\n",
    "#Different profit values used to test rounding behavior:\n",
    "#2182.33, 0.04, 0.23, 1.17, 1729.45, 100934.27, 10.75, 3.27\n",
    "#Note: 0.01, 0.02, 0.03 all result in 0.00 individual profit,\n",
    "#leading to a divide by zero error for the collective proportion.\n",
    "dividend_df = compute_dividends(patronage_df, profit)\n",
    "dividend_df"
   ]
  },
  {
   "cell_type": "code",
   "execution_count": 166,
   "metadata": {},
   "outputs": [
    {
     "data": {
      "text/plain": [
       "(1091.1600000000001, 1091.1699999999998)"
      ]
     },
     "execution_count": 166,
     "metadata": {},
     "output_type": "execute_result"
    }
   ],
   "source": [
    "estimate_indiv_collective_profit(profit, 0.5)"
   ]
  },
  {
   "cell_type": "code",
   "execution_count": 167,
   "metadata": {},
   "outputs": [
    {
     "data": {
      "text/plain": [
       "name                       AliceBobCandiceDarwinEveFedericoGabiHALIreneJu...\n",
       "proportionate_patronage                                              1.99999\n",
       "dividend                                                             2182.33\n",
       "dtype: object"
      ]
     },
     "execution_count": 167,
     "metadata": {},
     "output_type": "execute_result"
    }
   ],
   "source": [
    "dividend_df.sum()"
   ]
  },
  {
   "cell_type": "markdown",
   "metadata": {},
   "source": [
    "## Test calculations with numpy arrays"
   ]
  },
  {
   "cell_type": "code",
   "execution_count": 168,
   "metadata": {},
   "outputs": [
    {
     "data": {
      "text/plain": [
       "array([ 0.25,  0.25,  0.25])"
      ]
     },
     "execution_count": 168,
     "metadata": {},
     "output_type": "execute_result"
    }
   ],
   "source": [
    "a = np.array([0.25 for x in range(3)])\n",
    "a"
   ]
  },
  {
   "cell_type": "code",
   "execution_count": 169,
   "metadata": {},
   "outputs": [
    {
     "data": {
      "text/plain": [
       "array([ 0.5 ,  0.25,  0.25])"
      ]
     },
     "execution_count": 169,
     "metadata": {},
     "output_type": "execute_result"
    }
   ],
   "source": [
    "a[0] = 0.5\n",
    "a"
   ]
  },
  {
   "cell_type": "code",
   "execution_count": 170,
   "metadata": {},
   "outputs": [
    {
     "data": {
      "text/plain": [
       "array([ 2.,  1.,  1.])"
      ]
     },
     "execution_count": 170,
     "metadata": {},
     "output_type": "execute_result"
    }
   ],
   "source": [
    "a * 4"
   ]
  },
  {
   "cell_type": "code",
   "execution_count": 171,
   "metadata": {},
   "outputs": [
    {
     "data": {
      "text/plain": [
       "array([[ 0.5 ,  0.25,  0.25]])"
      ]
     },
     "execution_count": 171,
     "metadata": {},
     "output_type": "execute_result"
    }
   ],
   "source": [
    "a.reshape(1,-1) #Reshapes a to a 1x3 row vector"
   ]
  },
  {
   "cell_type": "code",
   "execution_count": 172,
   "metadata": {
    "scrolled": true
   },
   "outputs": [
    {
     "data": {
      "text/plain": [
       "array([[  85.865 ,   42.9325,   42.9325],\n",
       "       [ 106.49  ,   53.245 ,   53.245 ],\n",
       "       [  30.86  ,   15.43  ,   15.43  ],\n",
       "       [  74.69  ,   37.345 ,   37.345 ],\n",
       "       [  46.615 ,   23.3075,   23.3075],\n",
       "       [  13.98  ,    6.99  ,    6.99  ],\n",
       "       [   2.235 ,    1.1175,    1.1175],\n",
       "       [   2.235 ,    1.1175,    1.1175],\n",
       "       [ 181.13  ,   90.565 ,   90.565 ],\n",
       "       [   1.485 ,    0.7425,    0.7425],\n",
       "       [ 545.58  ,  272.79  ,  272.79  ]])"
      ]
     },
     "execution_count": 172,
     "metadata": {},
     "output_type": "execute_result"
    }
   ],
   "source": [
    "#.reshape(-1,1) reshapes dividend_df['dividend'].values to a 11x1 column vector.\n",
    "#The broadcast product with a.reshape(1,-1) will be 11x3.\n",
    "b = a.reshape(1,-1) * dividend_df['dividend'].values.reshape(-1,1)\n",
    "b"
   ]
  },
  {
   "cell_type": "code",
   "execution_count": 173,
   "metadata": {},
   "outputs": [
    {
     "data": {
      "text/plain": [
       "2182.3299999999999"
      ]
     },
     "execution_count": 173,
     "metadata": {},
     "output_type": "execute_result"
    }
   ],
   "source": [
    "b.sum()"
   ]
  },
  {
   "cell_type": "code",
   "execution_count": 174,
   "metadata": {},
   "outputs": [
    {
     "data": {
      "text/plain": [
       "array([  171.73,   212.98,    61.72,   149.38,    93.23,    27.96,\n",
       "           4.47,     4.47,   362.26,     2.97,  1091.16])"
      ]
     },
     "execution_count": 174,
     "metadata": {},
     "output_type": "execute_result"
    }
   ],
   "source": [
    "b.sum(axis=1)"
   ]
  },
  {
   "cell_type": "code",
   "execution_count": 175,
   "metadata": {},
   "outputs": [
    {
     "data": {
      "text/plain": [
       "member_id\n",
       "1     True\n",
       "2     True\n",
       "3     True\n",
       "4     True\n",
       "5     True\n",
       "6     True\n",
       "7     True\n",
       "8     True\n",
       "9     True\n",
       "10    True\n",
       "0     True\n",
       "Name: dividend, dtype: bool"
      ]
     },
     "execution_count": 175,
     "metadata": {},
     "output_type": "execute_result"
    }
   ],
   "source": [
    "#The row sums should equal the dividends:\n",
    "b.sum(axis=1) == dividend_df['dividend']"
   ]
  },
  {
   "cell_type": "code",
   "execution_count": 176,
   "metadata": {},
   "outputs": [
    {
     "data": {
      "text/plain": [
       "array([[  85.86,   42.93,   42.93],\n",
       "       [ 106.49,   53.24,   53.24],\n",
       "       [  30.86,   15.43,   15.43],\n",
       "       [  74.69,   37.34,   37.34],\n",
       "       [  46.62,   23.31,   23.31],\n",
       "       [  13.98,    6.99,    6.99],\n",
       "       [   2.24,    1.12,    1.12],\n",
       "       [   2.24,    1.12,    1.12],\n",
       "       [ 181.13,   90.56,   90.56],\n",
       "       [   1.48,    0.74,    0.74],\n",
       "       [ 545.58,  272.79,  272.79]])"
      ]
     },
     "execution_count": 176,
     "metadata": {},
     "output_type": "execute_result"
    }
   ],
   "source": [
    "np.round(b, 2)"
   ]
  },
  {
   "cell_type": "code",
   "execution_count": 177,
   "metadata": {},
   "outputs": [
    {
     "data": {
      "text/plain": [
       "2182.3099999999999"
      ]
     },
     "execution_count": 177,
     "metadata": {},
     "output_type": "execute_result"
    }
   ],
   "source": [
    "np.round(b, 2).sum()"
   ]
  },
  {
   "cell_type": "code",
   "execution_count": 178,
   "metadata": {},
   "outputs": [
    {
     "data": {
      "text/plain": [
       "array([  171.72,   212.97,    61.72,   149.37,    93.24,    27.96,\n",
       "           4.48,     4.48,   362.25,     2.96,  1091.16])"
      ]
     },
     "execution_count": 178,
     "metadata": {},
     "output_type": "execute_result"
    }
   ],
   "source": [
    "np.round(b, 2).sum(axis=1)"
   ]
  },
  {
   "cell_type": "code",
   "execution_count": 179,
   "metadata": {},
   "outputs": [
    {
     "data": {
      "text/plain": [
       "member_id\n",
       "1     False\n",
       "2     False\n",
       "3      True\n",
       "4     False\n",
       "5     False\n",
       "6      True\n",
       "7     False\n",
       "8     False\n",
       "9     False\n",
       "10    False\n",
       "0      True\n",
       "Name: dividend, dtype: bool"
      ]
     },
     "execution_count": 179,
     "metadata": {},
     "output_type": "execute_result"
    }
   ],
   "source": [
    "#After rounding, the row sums no longer equal the dividends:\n",
    "np.round(b, 2).sum(axis=1) == dividend_df['dividend']"
   ]
  },
  {
   "cell_type": "code",
   "execution_count": 180,
   "metadata": {},
   "outputs": [
    {
     "data": {
      "text/plain": [
       "array([5, 6, 7, 8])"
      ]
     },
     "execution_count": 180,
     "metadata": {},
     "output_type": "execute_result"
    }
   ],
   "source": [
    "np.array([1,2,3] if False else [5,6,7,8]) #Woo hoo, inline if statements!"
   ]
  },
  {
   "cell_type": "code",
   "execution_count": 181,
   "metadata": {},
   "outputs": [
    {
     "data": {
      "text/plain": [
       "array([[  85.865 ,   42.9325,   42.9325],\n",
       "       [ 106.49  ,   53.245 ,   53.245 ],\n",
       "       [  30.86  ,   15.43  ,   15.43  ],\n",
       "       [  74.69  ,   37.345 ,   37.345 ],\n",
       "       [  46.615 ,   23.3075,   23.3075],\n",
       "       [  13.98  ,    6.99  ,    6.99  ],\n",
       "       [   2.235 ,    1.1175,    1.1175],\n",
       "       [   2.235 ,    1.1175,    1.1175],\n",
       "       [ 181.13  ,   90.565 ,   90.565 ],\n",
       "       [   1.485 ,    0.7425,    0.7425],\n",
       "       [ 545.58  ,  272.79  ,  272.79  ]])"
      ]
     },
     "execution_count": 181,
     "metadata": {},
     "output_type": "execute_result"
    }
   ],
   "source": [
    "b"
   ]
  },
  {
   "cell_type": "code",
   "execution_count": 182,
   "metadata": {},
   "outputs": [
    {
     "data": {
      "text/plain": [
       "array([[  85.86,   42.93,   42.93],\n",
       "       [ 106.49,   53.24,   53.24],\n",
       "       [  30.86,   15.43,   15.43],\n",
       "       [  74.69,   37.34,   37.34],\n",
       "       [  46.62,   23.31,   23.31],\n",
       "       [  13.98,    6.99,    6.99],\n",
       "       [   2.24,    1.12,    1.12],\n",
       "       [   2.24,    1.12,    1.12],\n",
       "       [ 181.13,   90.56,   90.56],\n",
       "       [   1.48,    0.74,    0.74],\n",
       "       [ 545.58,  272.79,  272.79]])"
      ]
     },
     "execution_count": 182,
     "metadata": {},
     "output_type": "execute_result"
    }
   ],
   "source": [
    "b.round(2)"
   ]
  },
  {
   "cell_type": "code",
   "execution_count": 183,
   "metadata": {},
   "outputs": [
    {
     "data": {
      "text/plain": [
       "array([[  85.865 ,   42.9325,   42.9325],\n",
       "       [ 106.49  ,   53.245 ,   53.245 ],\n",
       "       [  30.86  ,   15.43  ,   15.43  ],\n",
       "       [  74.69  ,   37.345 ,   37.345 ],\n",
       "       [  46.615 ,   23.3075,   23.3075],\n",
       "       [  13.98  ,    6.99  ,    6.99  ],\n",
       "       [   2.235 ,    1.1175,    1.1175],\n",
       "       [   2.235 ,    1.1175,    1.1175],\n",
       "       [ 181.13  ,   90.565 ,   90.565 ],\n",
       "       [   1.485 ,    0.7425,    0.7425],\n",
       "       [ 545.58  ,  272.79  ,  272.79  ]])"
      ]
     },
     "execution_count": 183,
     "metadata": {},
     "output_type": "execute_result"
    }
   ],
   "source": [
    "b"
   ]
  },
  {
   "cell_type": "code",
   "execution_count": 184,
   "metadata": {},
   "outputs": [
    {
     "data": {
      "text/plain": [
       "member_id\n",
       "1      85.87\n",
       "2     106.50\n",
       "3      30.86\n",
       "4      74.70\n",
       "5      46.61\n",
       "6      13.98\n",
       "7       2.23\n",
       "8       2.23\n",
       "9     181.14\n",
       "10      1.49\n",
       "0     545.58\n",
       "Name: dividend, dtype: float64"
      ]
     },
     "execution_count": 184,
     "metadata": {},
     "output_type": "execute_result"
    }
   ],
   "source": [
    "dividend_df['dividend'] - b.round(2)[:,1:].sum(axis=1)"
   ]
  },
  {
   "cell_type": "code",
   "execution_count": 185,
   "metadata": {},
   "outputs": [
    {
     "data": {
      "text/plain": [
       "array([[  85.87,   42.93,   42.93],\n",
       "       [ 106.5 ,   53.24,   53.24],\n",
       "       [  30.86,   15.43,   15.43],\n",
       "       [  74.7 ,   37.34,   37.34],\n",
       "       [  46.61,   23.31,   23.31],\n",
       "       [  13.98,    6.99,    6.99],\n",
       "       [   2.23,    1.12,    1.12],\n",
       "       [   2.23,    1.12,    1.12],\n",
       "       [ 181.14,   90.56,   90.56],\n",
       "       [   1.49,    0.74,    0.74],\n",
       "       [ 545.58,  272.79,  272.79]])"
      ]
     },
     "execution_count": 185,
     "metadata": {},
     "output_type": "execute_result"
    }
   ],
   "source": [
    "#Make first year payments irregular\n",
    "c = b.round(2)\n",
    "c[:,0] = np.round(dividend_df['dividend'] - c[:,1:].sum(axis=1),2)\n",
    "c"
   ]
  },
  {
   "cell_type": "code",
   "execution_count": 186,
   "metadata": {},
   "outputs": [
    {
     "data": {
      "text/plain": [
       "2182.3299999999999"
      ]
     },
     "execution_count": 186,
     "metadata": {},
     "output_type": "execute_result"
    }
   ],
   "source": [
    "c.sum()"
   ]
  },
  {
   "cell_type": "code",
   "execution_count": 187,
   "metadata": {},
   "outputs": [
    {
     "data": {
      "text/plain": [
       "array([[  85.86,   42.93,   42.94],\n",
       "       [ 106.49,   53.24,   53.25],\n",
       "       [  30.86,   15.43,   15.43],\n",
       "       [  74.69,   37.34,   37.35],\n",
       "       [  46.62,   23.31,   23.3 ],\n",
       "       [  13.98,    6.99,    6.99],\n",
       "       [   2.24,    1.12,    1.11],\n",
       "       [   2.24,    1.12,    1.11],\n",
       "       [ 181.13,   90.56,   90.57],\n",
       "       [   1.48,    0.74,    0.75],\n",
       "       [ 545.58,  272.79,  272.79]])"
      ]
     },
     "execution_count": 187,
     "metadata": {},
     "output_type": "execute_result"
    }
   ],
   "source": [
    "#Make last year payments irregular\n",
    "d = b.round(2)\n",
    "d[:,-1] = dividend_df['dividend'] - d[:,:-1].sum(axis=1)\n",
    "d"
   ]
  },
  {
   "cell_type": "code",
   "execution_count": 188,
   "metadata": {},
   "outputs": [
    {
     "data": {
      "text/plain": [
       "11"
      ]
     },
     "execution_count": 188,
     "metadata": {},
     "output_type": "execute_result"
    }
   ],
   "source": [
    "len(d)"
   ]
  },
  {
   "cell_type": "markdown",
   "metadata": {},
   "source": [
    "## New function for calculating yearly allocations"
   ]
  },
  {
   "cell_type": "code",
   "execution_count": 247,
   "metadata": {},
   "outputs": [],
   "source": [
    "def compute_allocations(dividend_df,\n",
    "                        year,\n",
    "                        first_year_proportion=0.5,\n",
    "                        n_years=3,\n",
    "                        distribution = None,\n",
    "#                         pos_distribution = None,\n",
    "#                         neg_distribution = None,\n",
    "                        irregular_payment='last'):\n",
    "    \"\"\"Computes allocations over next n_years years after the dividend year.\n",
    "    \"\"\"\n",
    "    \n",
    "    #Currently we assume below that either all dividends will be positive or all will\n",
    "    #be negative, depending on the overall profit; if this is always the case, then we\n",
    "    #should really just have one distribution array instead of two.\n",
    "    #Conceivably there could be a situation where some dividends\n",
    "    #could be positive and some could be negative, in which case we'd need both arrays,\n",
    "    #so I'll leave them both for now, though I can't currently think of why we would\n",
    "    #want to allow that.\n",
    "    \n",
    "    #If no explicit payment distribution was passed, we need to create one.\n",
    "    if distribution is None:\n",
    "        #Check whether the total profit is positive or negative, and create\n",
    "        #the appropriate default distribution.\n",
    "        if dividend_df['dividend'].sum() >= 0:\n",
    "            #profit >= 0\n",
    "            #Default for a positive dividend is to evenly evenly divide what's left over after\n",
    "            #the first year over the remaining n-1 years.\n",
    "            if n_years == 1:\n",
    "                #Avoid divide by zero error.\n",
    "                distribution = [1]\n",
    "            else:\n",
    "                #n_years > 1\n",
    "                distribution = [(1-first_year_proportion) / (n_years-1) for _ in range(n_years)]\n",
    "                distribution[0] = first_year_proportion\n",
    "        else:\n",
    "            #profit < 0\n",
    "            #Default for a negative dividend is to evenly divide it over all n years.\n",
    "            distribution = [1.0 / n_years for _ in range(n_years)]\n",
    "            \n",
    "    #Convert the distribution from a list to a numpy array to perform math with it.\n",
    "    distribution = np.array(distribution)\n",
    "    \n",
    "#     if pos_distribution is None:\n",
    "#         #Default for a positive dividend is to evenly evenly divide what's left over after\n",
    "#         #the first year over the remaining n-1 years.\n",
    "#         if n_years > 1:\n",
    "#             pos_distribution = [(1-first_year_proportion) / (n_years-1) for _ in range(n_years)]\n",
    "#             pos_distribution[0] = first_year_proportion\n",
    "#         else:\n",
    "#             #Avoid divide by zero error.\n",
    "#             pos_distribution = [1]\n",
    "            \n",
    "#     if neg_distribution is None:\n",
    "#         #Default for a negative dividend is to evenly divide it over all n years.\n",
    "#         neg_distribution = [1.0 / n_years for _ in range(n_years)]\n",
    "    \n",
    "#     #Check whether the profit is positive or negative, and use the corresponding distribution;\n",
    "#     #convert the distribution from a list to a numpy array to perform math with it.\n",
    "#     profit = dividend_df['dividend'].sum()\n",
    "#     distribution = np.array(pos_distribution if profit >= 0 else neg_distribution)\n",
    "    \n",
    "    #In case the distribution was explicitly passed, make sure n_years matches the actual length.\n",
    "    n_years = len(distribution)\n",
    "    \n",
    "    #Create a new DataFrame for the allocations by dropping the collective account and\n",
    "    #the proportionate patronage column from dividend_df.\n",
    "    allocation_df = dividend_df.drop(index=0, columns='proportionate_patronage')\n",
    "    \n",
    "    #Use broadcasting to compute all dividends with one multiplication,\n",
    "    #and round them to nearest cent.\n",
    "    allocations = (distribution.reshape(1,-1) * allocation_df['dividend'].values.reshape(-1,1)).round(2)\n",
    "    \n",
    "    #Adjust the first or last payment to account for rounding, by replacing the\n",
    "    #first or last column, respectively, with the result of subtracting\n",
    "    #the sum of the remaining payments from the member's actual dividend.\n",
    "    #Or if they passed a specific year, adjust the payment for that year.\n",
    "    if irregular_payment == 'first':\n",
    "        allocations[:,0] = np.round(allocation_df['dividend'] - allocations[:,1:].sum(axis=1), 2)\n",
    "    elif irregular_payment == 'last':\n",
    "        allocations[:,-1] = np.round(allocation_df['dividend'] - allocations[:,:-1].sum(axis=1), 2)\n",
    "    elif 1 <= irregular_payment <= n_years:\n",
    "        sum_of_remaining = (allocations[:,:irregular_payment-1].sum(axis=1)\n",
    "                            + allocations[:,irregular_payment:].sum(axis=1))\n",
    "        allocations[:,irregular_payment-1] = np.round(allocation_df['dividend'] - sum_of_remaining, 2)\n",
    "    else:\n",
    "        raise ValueError(\"irregular_payment must be 'first', 'last', or an integer between 1 and n_years (inclusive).\")\n",
    "        \n",
    "    #Create new column labels for the years year+1, year+2,...,year+n\n",
    "    new_columns = [str(y) for y in range(year+1, year+n_years+1)]\n",
    "    \n",
    "    #Concatenate the existing allocation dataframes horizontally with the computed allocations.\n",
    "    allocation_df = pd.concat([allocation_df,\n",
    "                              pd.DataFrame(allocations, index=allocation_df.index, columns=new_columns)],\n",
    "                             axis=1)\n",
    "    \n",
    "    #Rename the 'dividend' column.\n",
    "    allocation_df.rename(columns={'dividend': str(year)+'_dividend'}, inplace=True)\n",
    "    \n",
    "    return allocation_df"
   ]
  },
  {
   "cell_type": "code",
   "execution_count": 194,
   "metadata": {},
   "outputs": [
    {
     "data": {
      "text/html": [
       "<div>\n",
       "<style scoped>\n",
       "    .dataframe tbody tr th:only-of-type {\n",
       "        vertical-align: middle;\n",
       "    }\n",
       "\n",
       "    .dataframe tbody tr th {\n",
       "        vertical-align: top;\n",
       "    }\n",
       "\n",
       "    .dataframe thead th {\n",
       "        text-align: right;\n",
       "    }\n",
       "</style>\n",
       "<table border=\"1\" class=\"dataframe\">\n",
       "  <thead>\n",
       "    <tr style=\"text-align: right;\">\n",
       "      <th></th>\n",
       "      <th>name</th>\n",
       "      <th>2017_dividend</th>\n",
       "      <th>2018</th>\n",
       "      <th>2019</th>\n",
       "      <th>2020</th>\n",
       "    </tr>\n",
       "    <tr>\n",
       "      <th>member_id</th>\n",
       "      <th></th>\n",
       "      <th></th>\n",
       "      <th></th>\n",
       "      <th></th>\n",
       "      <th></th>\n",
       "    </tr>\n",
       "  </thead>\n",
       "  <tbody>\n",
       "    <tr>\n",
       "      <th>1</th>\n",
       "      <td>Alice</td>\n",
       "      <td>171.73</td>\n",
       "      <td>120.21</td>\n",
       "      <td>25.76</td>\n",
       "      <td>25.76</td>\n",
       "    </tr>\n",
       "    <tr>\n",
       "      <th>2</th>\n",
       "      <td>Bob</td>\n",
       "      <td>212.98</td>\n",
       "      <td>149.09</td>\n",
       "      <td>31.95</td>\n",
       "      <td>31.94</td>\n",
       "    </tr>\n",
       "    <tr>\n",
       "      <th>3</th>\n",
       "      <td>Candice</td>\n",
       "      <td>61.72</td>\n",
       "      <td>43.20</td>\n",
       "      <td>9.26</td>\n",
       "      <td>9.26</td>\n",
       "    </tr>\n",
       "    <tr>\n",
       "      <th>4</th>\n",
       "      <td>Darwin</td>\n",
       "      <td>149.38</td>\n",
       "      <td>104.57</td>\n",
       "      <td>22.41</td>\n",
       "      <td>22.40</td>\n",
       "    </tr>\n",
       "    <tr>\n",
       "      <th>5</th>\n",
       "      <td>Eve</td>\n",
       "      <td>93.23</td>\n",
       "      <td>65.26</td>\n",
       "      <td>13.98</td>\n",
       "      <td>13.99</td>\n",
       "    </tr>\n",
       "    <tr>\n",
       "      <th>6</th>\n",
       "      <td>Federico</td>\n",
       "      <td>27.96</td>\n",
       "      <td>19.57</td>\n",
       "      <td>4.19</td>\n",
       "      <td>4.20</td>\n",
       "    </tr>\n",
       "    <tr>\n",
       "      <th>7</th>\n",
       "      <td>Gabi</td>\n",
       "      <td>4.47</td>\n",
       "      <td>3.13</td>\n",
       "      <td>0.67</td>\n",
       "      <td>0.67</td>\n",
       "    </tr>\n",
       "    <tr>\n",
       "      <th>8</th>\n",
       "      <td>HAL</td>\n",
       "      <td>4.47</td>\n",
       "      <td>3.13</td>\n",
       "      <td>0.67</td>\n",
       "      <td>0.67</td>\n",
       "    </tr>\n",
       "    <tr>\n",
       "      <th>9</th>\n",
       "      <td>Irene</td>\n",
       "      <td>362.26</td>\n",
       "      <td>253.58</td>\n",
       "      <td>54.34</td>\n",
       "      <td>54.34</td>\n",
       "    </tr>\n",
       "    <tr>\n",
       "      <th>10</th>\n",
       "      <td>Jules</td>\n",
       "      <td>2.97</td>\n",
       "      <td>2.08</td>\n",
       "      <td>0.45</td>\n",
       "      <td>0.44</td>\n",
       "    </tr>\n",
       "  </tbody>\n",
       "</table>\n",
       "</div>"
      ],
      "text/plain": [
       "               name  2017_dividend    2018   2019   2020\n",
       "member_id                                               \n",
       "1             Alice         171.73  120.21  25.76  25.76\n",
       "2               Bob         212.98  149.09  31.95  31.94\n",
       "3           Candice          61.72   43.20   9.26   9.26\n",
       "4            Darwin         149.38  104.57  22.41  22.40\n",
       "5               Eve          93.23   65.26  13.98  13.99\n",
       "6          Federico          27.96   19.57   4.19   4.20\n",
       "7              Gabi           4.47    3.13   0.67   0.67\n",
       "8               HAL           4.47    3.13   0.67   0.67\n",
       "9             Irene         362.26  253.58  54.34  54.34\n",
       "10            Jules           2.97    2.08   0.45   0.44"
      ]
     },
     "execution_count": 194,
     "metadata": {},
     "output_type": "execute_result"
    }
   ],
   "source": [
    "allocation_df = compute_allocations(dividend_df, 2017, first_year_proportion=0.7, n_years=3)\n",
    "allocation_df"
   ]
  },
  {
   "cell_type": "code",
   "execution_count": 195,
   "metadata": {},
   "outputs": [
    {
     "data": {
      "text/plain": [
       "name             AliceBobCandiceDarwinEveFedericoGabiHALIreneJules\n",
       "2017_dividend                                              1091.17\n",
       "2018                                                        763.82\n",
       "2019                                                        163.68\n",
       "2020                                                        163.67\n",
       "dtype: object"
      ]
     },
     "execution_count": 195,
     "metadata": {},
     "output_type": "execute_result"
    }
   ],
   "source": [
    "allocation_df.sum()"
   ]
  },
  {
   "cell_type": "code",
   "execution_count": 196,
   "metadata": {},
   "outputs": [
    {
     "data": {
      "text/plain": [
       "member_id\n",
       "1     171.73\n",
       "2     212.98\n",
       "3      61.72\n",
       "4     149.38\n",
       "5      93.23\n",
       "6      27.96\n",
       "7       4.47\n",
       "8       4.47\n",
       "9     362.26\n",
       "10      2.97\n",
       "dtype: float64"
      ]
     },
     "execution_count": 196,
     "metadata": {},
     "output_type": "execute_result"
    }
   ],
   "source": [
    "allocation_df.loc[:,'2018':].sum(axis=1)"
   ]
  },
  {
   "cell_type": "markdown",
   "metadata": {},
   "source": [
    "## Compare rounding dividends vs. waiting until computing allocations to round"
   ]
  },
  {
   "cell_type": "code",
   "execution_count": 199,
   "metadata": {},
   "outputs": [
    {
     "data": {
      "text/html": [
       "<div>\n",
       "<style scoped>\n",
       "    .dataframe tbody tr th:only-of-type {\n",
       "        vertical-align: middle;\n",
       "    }\n",
       "\n",
       "    .dataframe tbody tr th {\n",
       "        vertical-align: top;\n",
       "    }\n",
       "\n",
       "    .dataframe thead th {\n",
       "        text-align: right;\n",
       "    }\n",
       "</style>\n",
       "<table border=\"1\" class=\"dataframe\">\n",
       "  <thead>\n",
       "    <tr style=\"text-align: right;\">\n",
       "      <th></th>\n",
       "      <th>name</th>\n",
       "      <th>proportionate_patronage</th>\n",
       "      <th>dividend</th>\n",
       "    </tr>\n",
       "    <tr>\n",
       "      <th>member_id</th>\n",
       "      <th></th>\n",
       "      <th></th>\n",
       "      <th></th>\n",
       "    </tr>\n",
       "  </thead>\n",
       "  <tbody>\n",
       "    <tr>\n",
       "      <th>1</th>\n",
       "      <td>Alice</td>\n",
       "      <td>0.157379</td>\n",
       "      <td>171.726345</td>\n",
       "    </tr>\n",
       "    <tr>\n",
       "      <th>2</th>\n",
       "      <td>Bob</td>\n",
       "      <td>0.195186</td>\n",
       "      <td>212.979877</td>\n",
       "    </tr>\n",
       "    <tr>\n",
       "      <th>3</th>\n",
       "      <td>Candice</td>\n",
       "      <td>0.056562</td>\n",
       "      <td>61.718559</td>\n",
       "    </tr>\n",
       "    <tr>\n",
       "      <th>4</th>\n",
       "      <td>Darwin</td>\n",
       "      <td>0.136897</td>\n",
       "      <td>149.376801</td>\n",
       "    </tr>\n",
       "    <tr>\n",
       "      <th>5</th>\n",
       "      <td>Eve</td>\n",
       "      <td>0.085444</td>\n",
       "      <td>93.233375</td>\n",
       "    </tr>\n",
       "    <tr>\n",
       "      <th>6</th>\n",
       "      <td>Federico</td>\n",
       "      <td>0.025623</td>\n",
       "      <td>27.958985</td>\n",
       "    </tr>\n",
       "    <tr>\n",
       "      <th>7</th>\n",
       "      <td>Gabi</td>\n",
       "      <td>0.004099</td>\n",
       "      <td>4.472359</td>\n",
       "    </tr>\n",
       "    <tr>\n",
       "      <th>8</th>\n",
       "      <td>HAL</td>\n",
       "      <td>0.004099</td>\n",
       "      <td>4.472359</td>\n",
       "    </tr>\n",
       "    <tr>\n",
       "      <th>9</th>\n",
       "      <td>Irene</td>\n",
       "      <td>0.331995</td>\n",
       "      <td>362.261104</td>\n",
       "    </tr>\n",
       "    <tr>\n",
       "      <th>10</th>\n",
       "      <td>Jules</td>\n",
       "      <td>0.002717</td>\n",
       "      <td>2.965235</td>\n",
       "    </tr>\n",
       "    <tr>\n",
       "      <th>0</th>\n",
       "      <td>CollectiveAcct</td>\n",
       "      <td>1.000000</td>\n",
       "      <td>1091.165000</td>\n",
       "    </tr>\n",
       "  </tbody>\n",
       "</table>\n",
       "</div>"
      ],
      "text/plain": [
       "                     name  proportionate_patronage     dividend\n",
       "member_id                                                      \n",
       "1                   Alice                 0.157379   171.726345\n",
       "2                     Bob                 0.195186   212.979877\n",
       "3                 Candice                 0.056562    61.718559\n",
       "4                  Darwin                 0.136897   149.376801\n",
       "5                     Eve                 0.085444    93.233375\n",
       "6                Federico                 0.025623    27.958985\n",
       "7                    Gabi                 0.004099     4.472359\n",
       "8                     HAL                 0.004099     4.472359\n",
       "9                   Irene                 0.331995   362.261104\n",
       "10                  Jules                 0.002717     2.965235\n",
       "0          CollectiveAcct                 1.000000  1091.165000"
      ]
     },
     "execution_count": 199,
     "metadata": {},
     "output_type": "execute_result"
    }
   ],
   "source": [
    "unrounded_dividend_df = compute_dividends(patronage_df, profit, rounded = False)\n",
    "unrounded_dividend_df"
   ]
  },
  {
   "cell_type": "code",
   "execution_count": 200,
   "metadata": {},
   "outputs": [
    {
     "data": {
      "text/html": [
       "<div>\n",
       "<style scoped>\n",
       "    .dataframe tbody tr th:only-of-type {\n",
       "        vertical-align: middle;\n",
       "    }\n",
       "\n",
       "    .dataframe tbody tr th {\n",
       "        vertical-align: top;\n",
       "    }\n",
       "\n",
       "    .dataframe thead th {\n",
       "        text-align: right;\n",
       "    }\n",
       "</style>\n",
       "<table border=\"1\" class=\"dataframe\">\n",
       "  <thead>\n",
       "    <tr style=\"text-align: right;\">\n",
       "      <th></th>\n",
       "      <th>name</th>\n",
       "      <th>proportionate_patronage</th>\n",
       "      <th>dividend</th>\n",
       "    </tr>\n",
       "    <tr>\n",
       "      <th>member_id</th>\n",
       "      <th></th>\n",
       "      <th></th>\n",
       "      <th></th>\n",
       "    </tr>\n",
       "  </thead>\n",
       "  <tbody>\n",
       "    <tr>\n",
       "      <th>1</th>\n",
       "      <td>Alice</td>\n",
       "      <td>0.157379</td>\n",
       "      <td>171.73</td>\n",
       "    </tr>\n",
       "    <tr>\n",
       "      <th>2</th>\n",
       "      <td>Bob</td>\n",
       "      <td>0.195186</td>\n",
       "      <td>212.98</td>\n",
       "    </tr>\n",
       "    <tr>\n",
       "      <th>3</th>\n",
       "      <td>Candice</td>\n",
       "      <td>0.056562</td>\n",
       "      <td>61.72</td>\n",
       "    </tr>\n",
       "    <tr>\n",
       "      <th>4</th>\n",
       "      <td>Darwin</td>\n",
       "      <td>0.136897</td>\n",
       "      <td>149.38</td>\n",
       "    </tr>\n",
       "    <tr>\n",
       "      <th>5</th>\n",
       "      <td>Eve</td>\n",
       "      <td>0.085444</td>\n",
       "      <td>93.23</td>\n",
       "    </tr>\n",
       "    <tr>\n",
       "      <th>6</th>\n",
       "      <td>Federico</td>\n",
       "      <td>0.025623</td>\n",
       "      <td>27.96</td>\n",
       "    </tr>\n",
       "    <tr>\n",
       "      <th>7</th>\n",
       "      <td>Gabi</td>\n",
       "      <td>0.004099</td>\n",
       "      <td>4.47</td>\n",
       "    </tr>\n",
       "    <tr>\n",
       "      <th>8</th>\n",
       "      <td>HAL</td>\n",
       "      <td>0.004099</td>\n",
       "      <td>4.47</td>\n",
       "    </tr>\n",
       "    <tr>\n",
       "      <th>9</th>\n",
       "      <td>Irene</td>\n",
       "      <td>0.331995</td>\n",
       "      <td>362.26</td>\n",
       "    </tr>\n",
       "    <tr>\n",
       "      <th>10</th>\n",
       "      <td>Jules</td>\n",
       "      <td>0.002717</td>\n",
       "      <td>2.97</td>\n",
       "    </tr>\n",
       "    <tr>\n",
       "      <th>0</th>\n",
       "      <td>CollectiveAcct</td>\n",
       "      <td>0.999991</td>\n",
       "      <td>1091.16</td>\n",
       "    </tr>\n",
       "  </tbody>\n",
       "</table>\n",
       "</div>"
      ],
      "text/plain": [
       "                     name  proportionate_patronage  dividend\n",
       "member_id                                                   \n",
       "1                   Alice                 0.157379    171.73\n",
       "2                     Bob                 0.195186    212.98\n",
       "3                 Candice                 0.056562     61.72\n",
       "4                  Darwin                 0.136897    149.38\n",
       "5                     Eve                 0.085444     93.23\n",
       "6                Federico                 0.025623     27.96\n",
       "7                    Gabi                 0.004099      4.47\n",
       "8                     HAL                 0.004099      4.47\n",
       "9                   Irene                 0.331995    362.26\n",
       "10                  Jules                 0.002717      2.97\n",
       "0          CollectiveAcct                 0.999991   1091.16"
      ]
     },
     "execution_count": 200,
     "metadata": {},
     "output_type": "execute_result"
    }
   ],
   "source": [
    "dividend_df"
   ]
  },
  {
   "cell_type": "code",
   "execution_count": 201,
   "metadata": {},
   "outputs": [
    {
     "data": {
      "text/html": [
       "<div>\n",
       "<style scoped>\n",
       "    .dataframe tbody tr th:only-of-type {\n",
       "        vertical-align: middle;\n",
       "    }\n",
       "\n",
       "    .dataframe tbody tr th {\n",
       "        vertical-align: top;\n",
       "    }\n",
       "\n",
       "    .dataframe thead th {\n",
       "        text-align: right;\n",
       "    }\n",
       "</style>\n",
       "<table border=\"1\" class=\"dataframe\">\n",
       "  <thead>\n",
       "    <tr style=\"text-align: right;\">\n",
       "      <th></th>\n",
       "      <th>name</th>\n",
       "      <th>2017_dividend</th>\n",
       "      <th>2018</th>\n",
       "      <th>2019</th>\n",
       "      <th>2020</th>\n",
       "    </tr>\n",
       "    <tr>\n",
       "      <th>member_id</th>\n",
       "      <th></th>\n",
       "      <th></th>\n",
       "      <th></th>\n",
       "      <th></th>\n",
       "      <th></th>\n",
       "    </tr>\n",
       "  </thead>\n",
       "  <tbody>\n",
       "    <tr>\n",
       "      <th>1</th>\n",
       "      <td>Alice</td>\n",
       "      <td>171.726345</td>\n",
       "      <td>85.86</td>\n",
       "      <td>42.93</td>\n",
       "      <td>42.94</td>\n",
       "    </tr>\n",
       "    <tr>\n",
       "      <th>2</th>\n",
       "      <td>Bob</td>\n",
       "      <td>212.979877</td>\n",
       "      <td>106.49</td>\n",
       "      <td>53.24</td>\n",
       "      <td>53.25</td>\n",
       "    </tr>\n",
       "    <tr>\n",
       "      <th>3</th>\n",
       "      <td>Candice</td>\n",
       "      <td>61.718559</td>\n",
       "      <td>30.86</td>\n",
       "      <td>15.43</td>\n",
       "      <td>15.43</td>\n",
       "    </tr>\n",
       "    <tr>\n",
       "      <th>4</th>\n",
       "      <td>Darwin</td>\n",
       "      <td>149.376801</td>\n",
       "      <td>74.69</td>\n",
       "      <td>37.34</td>\n",
       "      <td>37.35</td>\n",
       "    </tr>\n",
       "    <tr>\n",
       "      <th>5</th>\n",
       "      <td>Eve</td>\n",
       "      <td>93.233375</td>\n",
       "      <td>46.62</td>\n",
       "      <td>23.31</td>\n",
       "      <td>23.30</td>\n",
       "    </tr>\n",
       "    <tr>\n",
       "      <th>6</th>\n",
       "      <td>Federico</td>\n",
       "      <td>27.958985</td>\n",
       "      <td>13.98</td>\n",
       "      <td>6.99</td>\n",
       "      <td>6.99</td>\n",
       "    </tr>\n",
       "    <tr>\n",
       "      <th>7</th>\n",
       "      <td>Gabi</td>\n",
       "      <td>4.472359</td>\n",
       "      <td>2.24</td>\n",
       "      <td>1.12</td>\n",
       "      <td>1.11</td>\n",
       "    </tr>\n",
       "    <tr>\n",
       "      <th>8</th>\n",
       "      <td>HAL</td>\n",
       "      <td>4.472359</td>\n",
       "      <td>2.24</td>\n",
       "      <td>1.12</td>\n",
       "      <td>1.11</td>\n",
       "    </tr>\n",
       "    <tr>\n",
       "      <th>9</th>\n",
       "      <td>Irene</td>\n",
       "      <td>362.261104</td>\n",
       "      <td>181.13</td>\n",
       "      <td>90.57</td>\n",
       "      <td>90.56</td>\n",
       "    </tr>\n",
       "    <tr>\n",
       "      <th>10</th>\n",
       "      <td>Jules</td>\n",
       "      <td>2.965235</td>\n",
       "      <td>1.48</td>\n",
       "      <td>0.74</td>\n",
       "      <td>0.75</td>\n",
       "    </tr>\n",
       "  </tbody>\n",
       "</table>\n",
       "</div>"
      ],
      "text/plain": [
       "               name  2017_dividend    2018   2019   2020\n",
       "member_id                                               \n",
       "1             Alice     171.726345   85.86  42.93  42.94\n",
       "2               Bob     212.979877  106.49  53.24  53.25\n",
       "3           Candice      61.718559   30.86  15.43  15.43\n",
       "4            Darwin     149.376801   74.69  37.34  37.35\n",
       "5               Eve      93.233375   46.62  23.31  23.30\n",
       "6          Federico      27.958985   13.98   6.99   6.99\n",
       "7              Gabi       4.472359    2.24   1.12   1.11\n",
       "8               HAL       4.472359    2.24   1.12   1.11\n",
       "9             Irene     362.261104  181.13  90.57  90.56\n",
       "10            Jules       2.965235    1.48   0.74   0.75"
      ]
     },
     "execution_count": 201,
     "metadata": {},
     "output_type": "execute_result"
    }
   ],
   "source": [
    "late_allocation_df = compute_allocations(unrounded_dividend_df, 2017, first_year_proportion=0.5, n_years=3)\n",
    "late_allocation_df"
   ]
  },
  {
   "cell_type": "code",
   "execution_count": 202,
   "metadata": {},
   "outputs": [
    {
     "data": {
      "text/html": [
       "<div>\n",
       "<style scoped>\n",
       "    .dataframe tbody tr th:only-of-type {\n",
       "        vertical-align: middle;\n",
       "    }\n",
       "\n",
       "    .dataframe tbody tr th {\n",
       "        vertical-align: top;\n",
       "    }\n",
       "\n",
       "    .dataframe thead th {\n",
       "        text-align: right;\n",
       "    }\n",
       "</style>\n",
       "<table border=\"1\" class=\"dataframe\">\n",
       "  <thead>\n",
       "    <tr style=\"text-align: right;\">\n",
       "      <th></th>\n",
       "      <th>name</th>\n",
       "      <th>2017_dividend</th>\n",
       "      <th>2018</th>\n",
       "      <th>2019</th>\n",
       "      <th>2020</th>\n",
       "    </tr>\n",
       "    <tr>\n",
       "      <th>member_id</th>\n",
       "      <th></th>\n",
       "      <th></th>\n",
       "      <th></th>\n",
       "      <th></th>\n",
       "      <th></th>\n",
       "    </tr>\n",
       "  </thead>\n",
       "  <tbody>\n",
       "    <tr>\n",
       "      <th>1</th>\n",
       "      <td>Alice</td>\n",
       "      <td>171.73</td>\n",
       "      <td>85.86</td>\n",
       "      <td>42.93</td>\n",
       "      <td>42.94</td>\n",
       "    </tr>\n",
       "    <tr>\n",
       "      <th>2</th>\n",
       "      <td>Bob</td>\n",
       "      <td>212.98</td>\n",
       "      <td>106.49</td>\n",
       "      <td>53.24</td>\n",
       "      <td>53.25</td>\n",
       "    </tr>\n",
       "    <tr>\n",
       "      <th>3</th>\n",
       "      <td>Candice</td>\n",
       "      <td>61.72</td>\n",
       "      <td>30.86</td>\n",
       "      <td>15.43</td>\n",
       "      <td>15.43</td>\n",
       "    </tr>\n",
       "    <tr>\n",
       "      <th>4</th>\n",
       "      <td>Darwin</td>\n",
       "      <td>149.38</td>\n",
       "      <td>74.69</td>\n",
       "      <td>37.34</td>\n",
       "      <td>37.35</td>\n",
       "    </tr>\n",
       "    <tr>\n",
       "      <th>5</th>\n",
       "      <td>Eve</td>\n",
       "      <td>93.23</td>\n",
       "      <td>46.62</td>\n",
       "      <td>23.31</td>\n",
       "      <td>23.30</td>\n",
       "    </tr>\n",
       "    <tr>\n",
       "      <th>6</th>\n",
       "      <td>Federico</td>\n",
       "      <td>27.96</td>\n",
       "      <td>13.98</td>\n",
       "      <td>6.99</td>\n",
       "      <td>6.99</td>\n",
       "    </tr>\n",
       "    <tr>\n",
       "      <th>7</th>\n",
       "      <td>Gabi</td>\n",
       "      <td>4.47</td>\n",
       "      <td>2.24</td>\n",
       "      <td>1.12</td>\n",
       "      <td>1.11</td>\n",
       "    </tr>\n",
       "    <tr>\n",
       "      <th>8</th>\n",
       "      <td>HAL</td>\n",
       "      <td>4.47</td>\n",
       "      <td>2.24</td>\n",
       "      <td>1.12</td>\n",
       "      <td>1.11</td>\n",
       "    </tr>\n",
       "    <tr>\n",
       "      <th>9</th>\n",
       "      <td>Irene</td>\n",
       "      <td>362.26</td>\n",
       "      <td>181.13</td>\n",
       "      <td>90.56</td>\n",
       "      <td>90.57</td>\n",
       "    </tr>\n",
       "    <tr>\n",
       "      <th>10</th>\n",
       "      <td>Jules</td>\n",
       "      <td>2.97</td>\n",
       "      <td>1.48</td>\n",
       "      <td>0.74</td>\n",
       "      <td>0.75</td>\n",
       "    </tr>\n",
       "  </tbody>\n",
       "</table>\n",
       "</div>"
      ],
      "text/plain": [
       "               name  2017_dividend    2018   2019   2020\n",
       "member_id                                               \n",
       "1             Alice         171.73   85.86  42.93  42.94\n",
       "2               Bob         212.98  106.49  53.24  53.25\n",
       "3           Candice          61.72   30.86  15.43  15.43\n",
       "4            Darwin         149.38   74.69  37.34  37.35\n",
       "5               Eve          93.23   46.62  23.31  23.30\n",
       "6          Federico          27.96   13.98   6.99   6.99\n",
       "7              Gabi           4.47    2.24   1.12   1.11\n",
       "8               HAL           4.47    2.24   1.12   1.11\n",
       "9             Irene         362.26  181.13  90.56  90.57\n",
       "10            Jules           2.97    1.48   0.74   0.75"
      ]
     },
     "execution_count": 202,
     "metadata": {},
     "output_type": "execute_result"
    }
   ],
   "source": [
    "early_allocation_df = compute_allocations(dividend_df, 2017, first_year_proportion=0.5, n_years=3)\n",
    "early_allocation_df"
   ]
  },
  {
   "cell_type": "markdown",
   "metadata": {},
   "source": [
    "The only difference I see between the late-rounded allocations and the early-rounded allocations is that **Irene's second and third payment amounts are switched.**\n",
    "\n",
    "Let's add up the amounts of the late-rounded allocations to compute the late-rounded dividends, and see if they agree with the early-rounded dividends:"
   ]
  },
  {
   "cell_type": "code",
   "execution_count": 206,
   "metadata": {},
   "outputs": [
    {
     "data": {
      "text/plain": [
       "member_id\n",
       "1     171.73\n",
       "2     212.98\n",
       "3      61.72\n",
       "4     149.38\n",
       "5      93.23\n",
       "6      27.96\n",
       "7       4.47\n",
       "8       4.47\n",
       "9     362.26\n",
       "10      2.97\n",
       "dtype: float64"
      ]
     },
     "execution_count": 206,
     "metadata": {},
     "output_type": "execute_result"
    }
   ],
   "source": [
    "late_allocation_df.loc[:,'2018':].sum(axis=1)"
   ]
  },
  {
   "cell_type": "code",
   "execution_count": 207,
   "metadata": {},
   "outputs": [
    {
     "data": {
      "text/plain": [
       "member_id\n",
       "1      True\n",
       "2      True\n",
       "3      True\n",
       "4      True\n",
       "5     False\n",
       "6      True\n",
       "7     False\n",
       "8     False\n",
       "9      True\n",
       "10    False\n",
       "dtype: bool"
      ]
     },
     "execution_count": 207,
     "metadata": {},
     "output_type": "execute_result"
    }
   ],
   "source": [
    "#They look the same as the rounded dividends... let's compare:\n",
    "late_allocation_df.loc[:,'2018':].sum(axis=1) == early_allocation_df['2017_dividend']"
   ]
  },
  {
   "cell_type": "markdown",
   "metadata": {},
   "source": [
    "**Some compaisons are false.** Let's print the full floating point numbers to see how close they are:"
   ]
  },
  {
   "cell_type": "code",
   "execution_count": 210,
   "metadata": {},
   "outputs": [
    {
     "data": {
      "text/plain": [
       "93.22999999999999"
      ]
     },
     "execution_count": 210,
     "metadata": {},
     "output_type": "execute_result"
    }
   ],
   "source": [
    "late_allocation_df.loc[5,'2018':].sum()"
   ]
  },
  {
   "cell_type": "code",
   "execution_count": 211,
   "metadata": {},
   "outputs": [
    {
     "data": {
      "text/plain": [
       "93.230000000000004"
      ]
     },
     "execution_count": 211,
     "metadata": {},
     "output_type": "execute_result"
    }
   ],
   "source": [
    "early_allocation_df.loc[5,'2017_dividend']"
   ]
  },
  {
   "cell_type": "code",
   "execution_count": 213,
   "metadata": {},
   "outputs": [
    {
     "data": {
      "text/plain": [
       "4.4700000000000006"
      ]
     },
     "execution_count": 213,
     "metadata": {},
     "output_type": "execute_result"
    }
   ],
   "source": [
    "late_allocation_df.loc[7,'2018':].sum()"
   ]
  },
  {
   "cell_type": "code",
   "execution_count": 214,
   "metadata": {},
   "outputs": [
    {
     "data": {
      "text/plain": [
       "4.4699999999999998"
      ]
     },
     "execution_count": 214,
     "metadata": {},
     "output_type": "execute_result"
    }
   ],
   "source": [
    "early_allocation_df.loc[7,'2017_dividend']"
   ]
  },
  {
   "cell_type": "markdown",
   "metadata": {},
   "source": [
    "Ok, so it looks like the **differences are due to the machine accuracy**, and not due to rounding at different stages, though I don't know if that's always guaranteed...\n",
    "\n",
    "Let's see what happens if we round both results to two decimals:"
   ]
  },
  {
   "cell_type": "code",
   "execution_count": 215,
   "metadata": {},
   "outputs": [
    {
     "data": {
      "text/plain": [
       "member_id\n",
       "1     True\n",
       "2     True\n",
       "3     True\n",
       "4     True\n",
       "5     True\n",
       "6     True\n",
       "7     True\n",
       "8     True\n",
       "9     True\n",
       "10    True\n",
       "dtype: bool"
      ]
     },
     "execution_count": 215,
     "metadata": {},
     "output_type": "execute_result"
    }
   ],
   "source": [
    "np.round(late_allocation_df.loc[:,'2018':].sum(axis=1), 2) == np.round(early_allocation_df['2017_dividend'], 2)"
   ]
  },
  {
   "cell_type": "code",
   "execution_count": 230,
   "metadata": {},
   "outputs": [
    {
     "data": {
      "text/plain": [
       "93.230000000000004"
      ]
     },
     "execution_count": 230,
     "metadata": {},
     "output_type": "execute_result"
    }
   ],
   "source": [
    "np.round(late_allocation_df.loc[5,'2018':].sum(), 2)"
   ]
  },
  {
   "cell_type": "code",
   "execution_count": 231,
   "metadata": {},
   "outputs": [
    {
     "data": {
      "text/plain": [
       "93.230000000000004"
      ]
     },
     "execution_count": 231,
     "metadata": {},
     "output_type": "execute_result"
    }
   ],
   "source": [
    "np.round(early_allocation_df.loc[5,'2017_dividend'], 2)"
   ]
  },
  {
   "cell_type": "markdown",
   "metadata": {},
   "source": [
    "Great, so the computer can actually tell that they're the same within two decimal places.\n",
    "\n",
    "## Test some list indexing stuff to allow more options for the irregular payment"
   ]
  },
  {
   "cell_type": "code",
   "execution_count": 218,
   "metadata": {},
   "outputs": [
    {
     "data": {
      "text/plain": [
       "[0, 1, 2]"
      ]
     },
     "execution_count": 218,
     "metadata": {},
     "output_type": "execute_result"
    }
   ],
   "source": [
    "[0,1,2,3,4][:3]"
   ]
  },
  {
   "cell_type": "code",
   "execution_count": 225,
   "metadata": {},
   "outputs": [
    {
     "data": {
      "text/plain": [
       "[0, 1, 3, 4]"
      ]
     },
     "execution_count": 225,
     "metadata": {},
     "output_type": "execute_result"
    }
   ],
   "source": [
    "[0,1,2,3,4][:2] + [0,1,2,3,4][3:]"
   ]
  },
  {
   "cell_type": "code",
   "execution_count": 229,
   "metadata": {},
   "outputs": [
    {
     "data": {
      "text/plain": [
       "[0, 1, 2, 3, 4]"
      ]
     },
     "execution_count": 229,
     "metadata": {},
     "output_type": "execute_result"
    }
   ],
   "source": [
    "[0,1,2,3,4][:5] + [0,1,2,3,4][5:]"
   ]
  },
  {
   "cell_type": "code",
   "execution_count": 235,
   "metadata": {},
   "outputs": [
    {
     "data": {
      "text/plain": [
       "False"
      ]
     },
     "execution_count": 235,
     "metadata": {},
     "output_type": "execute_result"
    }
   ],
   "source": [
    "4<6<6<7"
   ]
  },
  {
   "cell_type": "code",
   "execution_count": 236,
   "metadata": {},
   "outputs": [
    {
     "data": {
      "text/plain": [
       "[1, 2, 4, 5]"
      ]
     },
     "execution_count": 236,
     "metadata": {},
     "output_type": "execute_result"
    }
   ],
   "source": [
    "[1,2,3,4,5][:2] + [1,2,3,4,5][3:]"
   ]
  },
  {
   "cell_type": "code",
   "execution_count": 239,
   "metadata": {},
   "outputs": [
    {
     "data": {
      "text/plain": [
       "array([5, 7])"
      ]
     },
     "execution_count": 239,
     "metadata": {},
     "output_type": "execute_result"
    }
   ],
   "source": [
    "np.array([1,2,3,4,5])[:2] + np.array([1,2,3,4,5])[3:]"
   ]
  },
  {
   "cell_type": "code",
   "execution_count": 248,
   "metadata": {},
   "outputs": [
    {
     "data": {
      "text/html": [
       "<div>\n",
       "<style scoped>\n",
       "    .dataframe tbody tr th:only-of-type {\n",
       "        vertical-align: middle;\n",
       "    }\n",
       "\n",
       "    .dataframe tbody tr th {\n",
       "        vertical-align: top;\n",
       "    }\n",
       "\n",
       "    .dataframe thead th {\n",
       "        text-align: right;\n",
       "    }\n",
       "</style>\n",
       "<table border=\"1\" class=\"dataframe\">\n",
       "  <thead>\n",
       "    <tr style=\"text-align: right;\">\n",
       "      <th></th>\n",
       "      <th>name</th>\n",
       "      <th>2017_dividend</th>\n",
       "      <th>2018</th>\n",
       "      <th>2019</th>\n",
       "      <th>2020</th>\n",
       "    </tr>\n",
       "    <tr>\n",
       "      <th>member_id</th>\n",
       "      <th></th>\n",
       "      <th></th>\n",
       "      <th></th>\n",
       "      <th></th>\n",
       "      <th></th>\n",
       "    </tr>\n",
       "  </thead>\n",
       "  <tbody>\n",
       "    <tr>\n",
       "      <th>1</th>\n",
       "      <td>Alice</td>\n",
       "      <td>171.73</td>\n",
       "      <td>85.86</td>\n",
       "      <td>42.94</td>\n",
       "      <td>42.93</td>\n",
       "    </tr>\n",
       "    <tr>\n",
       "      <th>2</th>\n",
       "      <td>Bob</td>\n",
       "      <td>212.98</td>\n",
       "      <td>106.49</td>\n",
       "      <td>53.25</td>\n",
       "      <td>53.24</td>\n",
       "    </tr>\n",
       "    <tr>\n",
       "      <th>3</th>\n",
       "      <td>Candice</td>\n",
       "      <td>61.72</td>\n",
       "      <td>30.86</td>\n",
       "      <td>15.43</td>\n",
       "      <td>15.43</td>\n",
       "    </tr>\n",
       "    <tr>\n",
       "      <th>4</th>\n",
       "      <td>Darwin</td>\n",
       "      <td>149.38</td>\n",
       "      <td>74.69</td>\n",
       "      <td>37.35</td>\n",
       "      <td>37.34</td>\n",
       "    </tr>\n",
       "    <tr>\n",
       "      <th>5</th>\n",
       "      <td>Eve</td>\n",
       "      <td>93.23</td>\n",
       "      <td>46.62</td>\n",
       "      <td>23.30</td>\n",
       "      <td>23.31</td>\n",
       "    </tr>\n",
       "    <tr>\n",
       "      <th>6</th>\n",
       "      <td>Federico</td>\n",
       "      <td>27.96</td>\n",
       "      <td>13.98</td>\n",
       "      <td>6.99</td>\n",
       "      <td>6.99</td>\n",
       "    </tr>\n",
       "    <tr>\n",
       "      <th>7</th>\n",
       "      <td>Gabi</td>\n",
       "      <td>4.47</td>\n",
       "      <td>2.24</td>\n",
       "      <td>1.11</td>\n",
       "      <td>1.12</td>\n",
       "    </tr>\n",
       "    <tr>\n",
       "      <th>8</th>\n",
       "      <td>HAL</td>\n",
       "      <td>4.47</td>\n",
       "      <td>2.24</td>\n",
       "      <td>1.11</td>\n",
       "      <td>1.12</td>\n",
       "    </tr>\n",
       "    <tr>\n",
       "      <th>9</th>\n",
       "      <td>Irene</td>\n",
       "      <td>362.26</td>\n",
       "      <td>181.13</td>\n",
       "      <td>90.57</td>\n",
       "      <td>90.56</td>\n",
       "    </tr>\n",
       "    <tr>\n",
       "      <th>10</th>\n",
       "      <td>Jules</td>\n",
       "      <td>2.97</td>\n",
       "      <td>1.48</td>\n",
       "      <td>0.75</td>\n",
       "      <td>0.74</td>\n",
       "    </tr>\n",
       "  </tbody>\n",
       "</table>\n",
       "</div>"
      ],
      "text/plain": [
       "               name  2017_dividend    2018   2019   2020\n",
       "member_id                                               \n",
       "1             Alice         171.73   85.86  42.94  42.93\n",
       "2               Bob         212.98  106.49  53.25  53.24\n",
       "3           Candice          61.72   30.86  15.43  15.43\n",
       "4            Darwin         149.38   74.69  37.35  37.34\n",
       "5               Eve          93.23   46.62  23.30  23.31\n",
       "6          Federico          27.96   13.98   6.99   6.99\n",
       "7              Gabi           4.47    2.24   1.11   1.12\n",
       "8               HAL           4.47    2.24   1.11   1.12\n",
       "9             Irene         362.26  181.13  90.57  90.56\n",
       "10            Jules           2.97    1.48   0.75   0.74"
      ]
     },
     "execution_count": 248,
     "metadata": {},
     "output_type": "execute_result"
    }
   ],
   "source": [
    "#Specify that the irregular payment should happen in the second year (rather than the first or last year):\n",
    "compute_allocations(dividend_df, 2017, first_year_proportion=0.5, n_years=3, irregular_payment=2)"
   ]
  },
  {
   "cell_type": "code",
   "execution_count": null,
   "metadata": {
    "collapsed": true
   },
   "outputs": [],
   "source": []
  }
 ],
 "metadata": {
  "kernelspec": {
   "display_name": "Python 3",
   "language": "python",
   "name": "python3"
  },
  "language_info": {
   "codemirror_mode": {
    "name": "ipython",
    "version": 3
   },
   "file_extension": ".py",
   "mimetype": "text/x-python",
   "name": "python",
   "nbconvert_exporter": "python",
   "pygments_lexer": "ipython3",
   "version": "3.6.3"
  }
 },
 "nbformat": 4,
 "nbformat_minor": 2
}
